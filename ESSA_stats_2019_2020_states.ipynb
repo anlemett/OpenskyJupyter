{
 "cells": [
  {
   "cell_type": "code",
   "execution_count": 1,
   "metadata": {},
   "outputs": [],
   "source": [
    "%matplotlib inline\n",
    "\n",
    "import numpy as np\n",
    "import pandas as pd\n",
    "import matplotlib.pyplot as plt\n",
    "import seaborn as sns\n",
    "\n",
    "from datetime import datetime\n",
    "from datetime import timezone\n",
    "\n",
    "from math import cos, radians"
   ]
  },
  {
   "cell_type": "markdown",
   "metadata": {},
   "source": [
    "# Data uploading"
   ]
  },
  {
   "cell_type": "code",
   "execution_count": 2,
   "metadata": {},
   "outputs": [],
   "source": [
    "filename = \"../Data/ESSA/2019/osn_ESSA_states_TMA_2019/osn_arrival_ESSA_states_TMA_2019_01_week1.csv\"\n",
    "temp1_df = pd.read_csv(filename, sep=' ',\n",
    "    names = ['flightId', 'sequence', 'timestamp', 'lat', 'lon', 'rawAltitude', 'altitude', 'velocity', 'beginDate', 'endDate'])\n",
    "temp1_df.set_index(['flightId', 'sequence'], inplace = True)\n",
    "\n",
    "filename = \"../Data/ESSA/2019/osn_ESSA_states_TMA_2019/osn_arrival_ESSA_states_TMA_2019_01_week2.csv\"\n",
    "temp2_df = pd.read_csv(filename, sep=' ',\n",
    "    names = ['flightId', 'sequence', 'timestamp', 'lat', 'lon', 'rawAltitude', 'altitude', 'velocity', 'beginDate', 'endDate'])\n",
    "temp2_df.set_index(['flightId', 'sequence'], inplace = True)\n",
    "\n",
    "filename = \"../Data/ESSA/2019/osn_ESSA_states_TMA_2019/osn_arrival_ESSA_states_TMA_2019_01_week3.csv\"\n",
    "temp3_df = pd.read_csv(filename, sep=' ',\n",
    "    names = ['flightId', 'sequence', 'timestamp', 'lat', 'lon', 'rawAltitude', 'altitude', 'velocity', 'beginDate', 'endDate'])\n",
    "temp3_df.set_index(['flightId', 'sequence'], inplace = True)\n",
    "\n",
    "filename = \"../Data/ESSA/2019/osn_ESSA_states_TMA_2019/osn_arrival_ESSA_states_TMA_2019_01_week4.csv\"\n",
    "temp4_df = pd.read_csv(filename, sep=' ',\n",
    "    names = ['flightId', 'sequence', 'timestamp', 'lat', 'lon', 'rawAltitude', 'altitude', 'velocity', 'beginDate', 'endDate'])\n",
    "temp4_df.set_index(['flightId', 'sequence'], inplace = True)\n",
    "\n",
    "filename = \"../Data/ESSA/2019/osn_ESSA_states_TMA_2019/osn_arrival_ESSA_states_TMA_2019_01_week5.csv\"\n",
    "temp5_df = pd.read_csv(filename, sep=' ',\n",
    "    names = ['flightId', 'sequence', 'timestamp', 'lat', 'lon', 'rawAltitude', 'altitude', 'velocity', 'beginDate', 'endDate'])\n",
    "temp5_df.set_index(['flightId', 'sequence'], inplace = True)"
   ]
  },
  {
   "cell_type": "code",
   "execution_count": 3,
   "metadata": {},
   "outputs": [
    {
     "name": "stdout",
     "output_type": "stream",
     "text": [
      "7702\n"
     ]
    }
   ],
   "source": [
    "len1 = len(temp1_df.groupby(level='flightId'))\n",
    "len2 = len(temp2_df.groupby(level='flightId'))\n",
    "len3 = len(temp3_df.groupby(level='flightId'))\n",
    "len4 = len(temp4_df.groupby(level='flightId'))\n",
    "len5 = len(temp5_df.groupby(level='flightId'))\n",
    "print(len1+len2+len3+len4+len5) #7702"
   ]
  },
  {
   "cell_type": "code",
   "execution_count": 4,
   "metadata": {},
   "outputs": [],
   "source": [
    "filename = \"../Data/ESSA/2019/osn_ESSA_states_TMA_2019/osn_arrival_ESSA_states_TMA_2019_02_week1.csv\"\n",
    "temp1_df = pd.read_csv(filename, sep=' ',\n",
    "    names = ['flightId', 'sequence', 'timestamp', 'lat', 'lon', 'rawAltitude', 'altitude', 'velocity', 'beginDate', 'endDate'])\n",
    "temp1_df.set_index(['flightId', 'sequence'], inplace = True)\n",
    "\n",
    "filename = \"../Data/ESSA/2019/osn_ESSA_states_TMA_2019/osn_arrival_ESSA_states_TMA_2019_02_week2.csv\"\n",
    "temp2_df = pd.read_csv(filename, sep=' ',\n",
    "    names = ['flightId', 'sequence', 'timestamp', 'lat', 'lon', 'rawAltitude', 'altitude', 'velocity', 'beginDate', 'endDate'])\n",
    "temp2_df.set_index(['flightId', 'sequence'], inplace = True)\n",
    "\n",
    "filename = \"../Data/ESSA/2019/osn_ESSA_states_TMA_2019/osn_arrival_ESSA_states_TMA_2019_02_week3.csv\"\n",
    "temp3_df = pd.read_csv(filename, sep=' ',\n",
    "    names = ['flightId', 'sequence', 'timestamp', 'lat', 'lon', 'rawAltitude', 'altitude', 'velocity', 'beginDate', 'endDate'])\n",
    "temp3_df.set_index(['flightId', 'sequence'], inplace = True)\n",
    "\n",
    "filename = \"../Data/ESSA/2019/osn_ESSA_states_TMA_2019/osn_arrival_ESSA_states_TMA_2019_02_week4.csv\"\n",
    "temp4_df = pd.read_csv(filename, sep=' ',\n",
    "    names = ['flightId', 'sequence', 'timestamp', 'lat', 'lon', 'rawAltitude', 'altitude', 'velocity', 'beginDate', 'endDate'])\n",
    "temp4_df.set_index(['flightId', 'sequence'], inplace = True)"
   ]
  },
  {
   "cell_type": "code",
   "execution_count": 5,
   "metadata": {},
   "outputs": [
    {
     "name": "stdout",
     "output_type": "stream",
     "text": [
      "7571\n"
     ]
    }
   ],
   "source": [
    "len1 = len(temp1_df.groupby(level='flightId'))\n",
    "len2 = len(temp2_df.groupby(level='flightId'))\n",
    "len3 = len(temp3_df.groupby(level='flightId'))\n",
    "len4 = len(temp4_df.groupby(level='flightId'))\n",
    "len5 = len(temp5_df.groupby(level='flightId'))\n",
    "print(len1+len2+len3+len4) #7571"
   ]
  },
  {
   "cell_type": "code",
   "execution_count": 6,
   "metadata": {},
   "outputs": [],
   "source": [
    "filename = \"../Data/ESSA/2019/osn_ESSA_states_TMA_2019/osn_arrival_ESSA_states_TMA_2019_03_week1.csv\"\n",
    "temp1_df = pd.read_csv(filename, sep=' ',\n",
    "    names = ['flightId', 'sequence', 'timestamp', 'lat', 'lon', 'rawAltitude', 'altitude', 'velocity', 'beginDate', 'endDate'])\n",
    "temp1_df.set_index(['flightId', 'sequence'], inplace = True)\n",
    "\n",
    "filename = \"../Data/ESSA/2019/osn_ESSA_states_TMA_2019/osn_arrival_ESSA_states_TMA_2019_03_week2.csv\"\n",
    "temp2_df = pd.read_csv(filename, sep=' ',\n",
    "    names = ['flightId', 'sequence', 'timestamp', 'lat', 'lon', 'rawAltitude', 'altitude', 'velocity', 'beginDate', 'endDate'])\n",
    "temp2_df.set_index(['flightId', 'sequence'], inplace = True)\n",
    "\n",
    "filename = \"../Data/ESSA/2019/osn_ESSA_states_TMA_2019/osn_arrival_ESSA_states_TMA_2019_03_week3.csv\"\n",
    "temp3_df = pd.read_csv(filename, sep=' ',\n",
    "    names = ['flightId', 'sequence', 'timestamp', 'lat', 'lon', 'rawAltitude', 'altitude', 'velocity', 'beginDate', 'endDate'])\n",
    "temp3_df.set_index(['flightId', 'sequence'], inplace = True)\n",
    "\n",
    "filename = \"../Data/ESSA/2019/osn_ESSA_states_TMA_2019/osn_arrival_ESSA_states_TMA_2019_03_week4.csv\"\n",
    "temp4_df = pd.read_csv(filename, sep=' ',\n",
    "    names = ['flightId', 'sequence', 'timestamp', 'lat', 'lon', 'rawAltitude', 'altitude', 'velocity', 'beginDate', 'endDate'])\n",
    "temp4_df.set_index(['flightId', 'sequence'], inplace = True)\n",
    "\n",
    "filename = \"../Data/ESSA/2019/osn_ESSA_states_TMA_2019/osn_arrival_ESSA_states_TMA_2019_03_week5.csv\"\n",
    "temp5_df = pd.read_csv(filename, sep=' ',\n",
    "    names = ['flightId', 'sequence', 'timestamp', 'lat', 'lon', 'rawAltitude', 'altitude', 'velocity', 'beginDate', 'endDate'])\n",
    "temp5_df.set_index(['flightId', 'sequence'], inplace = True)"
   ]
  },
  {
   "cell_type": "code",
   "execution_count": 7,
   "metadata": {},
   "outputs": [
    {
     "name": "stdout",
     "output_type": "stream",
     "text": [
      "7868\n"
     ]
    }
   ],
   "source": [
    "len1 = len(temp1_df.groupby(level='flightId'))\n",
    "len2 = len(temp2_df.groupby(level='flightId'))\n",
    "len3 = len(temp3_df.groupby(level='flightId'))\n",
    "len4 = len(temp4_df.groupby(level='flightId'))\n",
    "len5 = len(temp5_df.groupby(level='flightId'))\n",
    "print(len1+len2+len3+len4+len5) #7868"
   ]
  },
  {
   "cell_type": "code",
   "execution_count": 8,
   "metadata": {},
   "outputs": [],
   "source": [
    "filename = \"../Data/ESSA/2019/osn_ESSA_states_TMA_2019/osn_arrival_ESSA_states_TMA_2019_04_week1.csv\"\n",
    "temp1_df = pd.read_csv(filename, sep=' ',\n",
    "    names = ['flightId', 'sequence', 'timestamp', 'lat', 'lon', 'rawAltitude', 'altitude', 'velocity', 'beginDate', 'endDate'])\n",
    "temp1_df.set_index(['flightId', 'sequence'], inplace = True)\n",
    "\n",
    "filename = \"../Data/ESSA/2019/osn_ESSA_states_TMA_2019/osn_arrival_ESSA_states_TMA_2019_04_week2.csv\"\n",
    "temp2_df = pd.read_csv(filename, sep=' ',\n",
    "    names = ['flightId', 'sequence', 'timestamp', 'lat', 'lon', 'rawAltitude', 'altitude', 'velocity', 'beginDate', 'endDate'])\n",
    "temp2_df.set_index(['flightId', 'sequence'], inplace = True)\n",
    "\n",
    "filename = \"../Data/ESSA/2019/osn_ESSA_states_TMA_2019/osn_arrival_ESSA_states_TMA_2019_04_week3.csv\"\n",
    "temp3_df = pd.read_csv(filename, sep=' ',\n",
    "    names = ['flightId', 'sequence', 'timestamp', 'lat', 'lon', 'rawAltitude', 'altitude', 'velocity', 'beginDate', 'endDate'])\n",
    "temp3_df.set_index(['flightId', 'sequence'], inplace = True)\n",
    "\n",
    "filename = \"../Data/ESSA/2019/osn_ESSA_states_TMA_2019/osn_arrival_ESSA_states_TMA_2019_04_week4.csv\"\n",
    "temp4_df = pd.read_csv(filename, sep=' ',\n",
    "    names = ['flightId', 'sequence', 'timestamp', 'lat', 'lon', 'rawAltitude', 'altitude', 'velocity', 'beginDate', 'endDate'])\n",
    "temp4_df.set_index(['flightId', 'sequence'], inplace = True)\n",
    "\n",
    "filename = \"../Data/ESSA/2019/osn_ESSA_states_TMA_2019/osn_arrival_ESSA_states_TMA_2019_04_week5.csv\"\n",
    "temp5_df = pd.read_csv(filename, sep=' ',\n",
    "    names = ['flightId', 'sequence', 'timestamp', 'lat', 'lon', 'rawAltitude', 'altitude', 'velocity', 'beginDate', 'endDate'])\n",
    "temp5_df.set_index(['flightId', 'sequence'], inplace = True)"
   ]
  },
  {
   "cell_type": "code",
   "execution_count": 9,
   "metadata": {},
   "outputs": [
    {
     "name": "stdout",
     "output_type": "stream",
     "text": [
      "8473\n"
     ]
    }
   ],
   "source": [
    "len1 = len(temp1_df.groupby(level='flightId'))\n",
    "len2 = len(temp2_df.groupby(level='flightId'))\n",
    "len3 = len(temp3_df.groupby(level='flightId'))\n",
    "len4 = len(temp4_df.groupby(level='flightId'))\n",
    "len5 = len(temp5_df.groupby(level='flightId'))\n",
    "print(len1+len2+len3+len4+len5) #8473"
   ]
  },
  {
   "cell_type": "code",
   "execution_count": 10,
   "metadata": {},
   "outputs": [],
   "source": [
    "filename = \"../Data/ESSA/2019/osn_ESSA_states_TMA_2019/osn_arrival_ESSA_states_TMA_2019_05_week1.csv\"\n",
    "temp1_df = pd.read_csv(filename, sep=' ',\n",
    "    names = ['flightId', 'sequence', 'timestamp', 'lat', 'lon', 'rawAltitude', 'altitude', 'velocity', 'beginDate', 'endDate'])\n",
    "temp1_df.set_index(['flightId', 'sequence'], inplace = True)\n",
    "\n",
    "filename = \"../Data/ESSA/2019/osn_ESSA_states_TMA_2019/osn_arrival_ESSA_states_TMA_2019_05_week2.csv\"\n",
    "temp2_df = pd.read_csv(filename, sep=' ',\n",
    "    names = ['flightId', 'sequence', 'timestamp', 'lat', 'lon', 'rawAltitude', 'altitude', 'velocity', 'beginDate', 'endDate'])\n",
    "temp2_df.set_index(['flightId', 'sequence'], inplace = True)\n",
    "\n",
    "filename = \"../Data/ESSA/2019/osn_ESSA_states_TMA_2019/osn_arrival_ESSA_states_TMA_2019_05_week3.csv\"\n",
    "temp3_df = pd.read_csv(filename, sep=' ',\n",
    "    names = ['flightId', 'sequence', 'timestamp', 'lat', 'lon', 'rawAltitude', 'altitude', 'velocity', 'beginDate', 'endDate'])\n",
    "temp3_df.set_index(['flightId', 'sequence'], inplace = True)\n",
    "\n",
    "filename = \"../Data/ESSA/2019/osn_ESSA_states_TMA_2019/osn_arrival_ESSA_states_TMA_2019_05_week4.csv\"\n",
    "temp4_df = pd.read_csv(filename, sep=' ',\n",
    "    names = ['flightId', 'sequence', 'timestamp', 'lat', 'lon', 'rawAltitude', 'altitude', 'velocity', 'beginDate', 'endDate'])\n",
    "temp4_df.set_index(['flightId', 'sequence'], inplace = True)\n",
    "\n",
    "filename = \"../Data/ESSA/2019/osn_ESSA_states_TMA_2019/osn_arrival_ESSA_states_TMA_2019_05_week5.csv\"\n",
    "temp5_df = pd.read_csv(filename, sep=' ',\n",
    "    names = ['flightId', 'sequence', 'timestamp', 'lat', 'lon', 'rawAltitude', 'altitude', 'velocity', 'beginDate', 'endDate'])\n",
    "temp5_df.set_index(['flightId', 'sequence'], inplace = True)"
   ]
  },
  {
   "cell_type": "code",
   "execution_count": 11,
   "metadata": {},
   "outputs": [
    {
     "name": "stdout",
     "output_type": "stream",
     "text": [
      "9098\n"
     ]
    }
   ],
   "source": [
    "len1 = len(temp1_df.groupby(level='flightId'))\n",
    "len2 = len(temp2_df.groupby(level='flightId'))\n",
    "len3 = len(temp3_df.groupby(level='flightId'))\n",
    "len4 = len(temp4_df.groupby(level='flightId'))\n",
    "len5 = len(temp5_df.groupby(level='flightId'))\n",
    "print(len1+len2+len3+len4+len5) #9098"
   ]
  },
  {
   "cell_type": "code",
   "execution_count": 12,
   "metadata": {},
   "outputs": [],
   "source": [
    "filename = \"../Data/ESSA/2019/osn_ESSA_states_TMA_2019/osn_arrival_ESSA_states_TMA_2019_06_week1.csv\"\n",
    "temp1_df = pd.read_csv(filename, sep=' ',\n",
    "    names = ['flightId', 'sequence', 'timestamp', 'lat', 'lon', 'rawAltitude', 'altitude', 'velocity', 'beginDate', 'endDate'])\n",
    "temp1_df.set_index(['flightId', 'sequence'], inplace = True)\n",
    "\n",
    "filename = \"../Data/ESSA/2019/osn_ESSA_states_TMA_2019/osn_arrival_ESSA_states_TMA_2019_06_week2.csv\"\n",
    "temp2_df = pd.read_csv(filename, sep=' ',\n",
    "    names = ['flightId', 'sequence', 'timestamp', 'lat', 'lon', 'rawAltitude', 'altitude', 'velocity', 'beginDate', 'endDate'])\n",
    "temp2_df.set_index(['flightId', 'sequence'], inplace = True)\n",
    "\n",
    "filename = \"../Data/ESSA/2019/osn_ESSA_states_TMA_2019/osn_arrival_ESSA_states_TMA_2019_06_week3.csv\"\n",
    "temp3_df = pd.read_csv(filename, sep=' ',\n",
    "    names = ['flightId', 'sequence', 'timestamp', 'lat', 'lon', 'rawAltitude', 'altitude', 'velocity', 'beginDate', 'endDate'])\n",
    "temp3_df.set_index(['flightId', 'sequence'], inplace = True)\n",
    "\n",
    "filename = \"../Data/ESSA/2019/osn_ESSA_states_TMA_2019/osn_arrival_ESSA_states_TMA_2019_06_week4.csv\"\n",
    "temp4_df = pd.read_csv(filename, sep=' ',\n",
    "    names = ['flightId', 'sequence', 'timestamp', 'lat', 'lon', 'rawAltitude', 'altitude', 'velocity', 'beginDate', 'endDate'])\n",
    "temp4_df.set_index(['flightId', 'sequence'], inplace = True)\n",
    "\n",
    "filename = \"../Data/ESSA/2019/osn_ESSA_states_TMA_2019/osn_arrival_ESSA_states_TMA_2019_06_week5.csv\"\n",
    "temp5_df = pd.read_csv(filename, sep=' ',\n",
    "    names = ['flightId', 'sequence', 'timestamp', 'lat', 'lon', 'rawAltitude', 'altitude', 'velocity', 'beginDate', 'endDate'])\n",
    "temp5_df.set_index(['flightId', 'sequence'], inplace = True)"
   ]
  },
  {
   "cell_type": "code",
   "execution_count": 13,
   "metadata": {},
   "outputs": [
    {
     "name": "stdout",
     "output_type": "stream",
     "text": [
      "9147\n"
     ]
    }
   ],
   "source": [
    "len1 = len(temp1_df.groupby(level='flightId'))\n",
    "len2 = len(temp2_df.groupby(level='flightId'))\n",
    "len3 = len(temp3_df.groupby(level='flightId'))\n",
    "len4 = len(temp4_df.groupby(level='flightId'))\n",
    "len5 = len(temp5_df.groupby(level='flightId'))\n",
    "print(len1+len2+len3+len4+len5) #9147"
   ]
  },
  {
   "cell_type": "code",
   "execution_count": 14,
   "metadata": {},
   "outputs": [],
   "source": [
    "filename = \"../Data/ESSA/2019/osn_ESSA_states_TMA_2019/osn_arrival_ESSA_states_TMA_2019_07_week1.csv\"\n",
    "temp1_df = pd.read_csv(filename, sep=' ',\n",
    "    names = ['flightId', 'sequence', 'timestamp', 'lat', 'lon', 'rawAltitude', 'altitude', 'velocity', 'beginDate', 'endDate'])\n",
    "temp1_df.set_index(['flightId', 'sequence'], inplace = True)\n",
    "\n",
    "filename = \"../Data/ESSA/2019/osn_ESSA_states_TMA_2019/osn_arrival_ESSA_states_TMA_2019_07_week2.csv\"\n",
    "temp2_df = pd.read_csv(filename, sep=' ',\n",
    "    names = ['flightId', 'sequence', 'timestamp', 'lat', 'lon', 'rawAltitude', 'altitude', 'velocity', 'beginDate', 'endDate'])\n",
    "temp2_df.set_index(['flightId', 'sequence'], inplace = True)\n",
    "\n",
    "filename = \"../Data/ESSA/2019/osn_ESSA_states_TMA_2019/osn_arrival_ESSA_states_TMA_2019_07_week3.csv\"\n",
    "temp3_df = pd.read_csv(filename, sep=' ',\n",
    "    names = ['flightId', 'sequence', 'timestamp', 'lat', 'lon', 'rawAltitude', 'altitude', 'velocity', 'beginDate', 'endDate'])\n",
    "temp3_df.set_index(['flightId', 'sequence'], inplace = True)\n",
    "\n",
    "filename = \"../Data/ESSA/2019/osn_ESSA_states_TMA_2019/osn_arrival_ESSA_states_TMA_2019_07_week4.csv\"\n",
    "temp4_df = pd.read_csv(filename, sep=' ',\n",
    "    names = ['flightId', 'sequence', 'timestamp', 'lat', 'lon', 'rawAltitude', 'altitude', 'velocity', 'beginDate', 'endDate'])\n",
    "temp4_df.set_index(['flightId', 'sequence'], inplace = True)\n",
    "\n",
    "filename = \"../Data/ESSA/2019/osn_ESSA_states_TMA_2019/osn_arrival_ESSA_states_TMA_2019_07_week5.csv\"\n",
    "temp5_df = pd.read_csv(filename, sep=' ',\n",
    "    names = ['flightId', 'sequence', 'timestamp', 'lat', 'lon', 'rawAltitude', 'altitude', 'velocity', 'beginDate', 'endDate'])\n",
    "temp5_df.set_index(['flightId', 'sequence'], inplace = True)"
   ]
  },
  {
   "cell_type": "code",
   "execution_count": 15,
   "metadata": {},
   "outputs": [
    {
     "name": "stdout",
     "output_type": "stream",
     "text": [
      "8566\n"
     ]
    }
   ],
   "source": [
    "len1 = len(temp1_df.groupby(level='flightId'))\n",
    "len2 = len(temp2_df.groupby(level='flightId'))\n",
    "len3 = len(temp3_df.groupby(level='flightId'))\n",
    "len4 = len(temp4_df.groupby(level='flightId'))\n",
    "len5 = len(temp5_df.groupby(level='flightId'))\n",
    "print(len1+len2+len3+len4+len5) #8566"
   ]
  },
  {
   "cell_type": "code",
   "execution_count": 16,
   "metadata": {},
   "outputs": [],
   "source": [
    "filename = \"../Data/ESSA/2019/osn_ESSA_states_TMA_2019/osn_arrival_ESSA_states_TMA_2019_08_week1.csv\"\n",
    "temp1_df = pd.read_csv(filename, sep=' ',\n",
    "    names = ['flightId', 'sequence', 'timestamp', 'lat', 'lon', 'rawAltitude', 'altitude', 'velocity', 'beginDate', 'endDate'])\n",
    "temp1_df.set_index(['flightId', 'sequence'], inplace = True)\n",
    "\n",
    "filename = \"../Data/ESSA/2019/osn_ESSA_states_TMA_2019/osn_arrival_ESSA_states_TMA_2019_08_week2.csv\"\n",
    "temp2_df = pd.read_csv(filename, sep=' ',\n",
    "    names = ['flightId', 'sequence', 'timestamp', 'lat', 'lon', 'rawAltitude', 'altitude', 'velocity', 'beginDate', 'endDate'])\n",
    "temp2_df.set_index(['flightId', 'sequence'], inplace = True)\n",
    "\n",
    "filename = \"../Data/ESSA/2019/osn_ESSA_states_TMA_2019/osn_arrival_ESSA_states_TMA_2019_08_week3.csv\"\n",
    "temp3_df = pd.read_csv(filename, sep=' ',\n",
    "    names = ['flightId', 'sequence', 'timestamp', 'lat', 'lon', 'rawAltitude', 'altitude', 'velocity', 'beginDate', 'endDate'])\n",
    "temp3_df.set_index(['flightId', 'sequence'], inplace = True)\n",
    "\n",
    "filename = \"../Data/ESSA/2019/osn_ESSA_states_TMA_2019/osn_arrival_ESSA_states_TMA_2019_08_week4.csv\"\n",
    "temp4_df = pd.read_csv(filename, sep=' ',\n",
    "    names = ['flightId', 'sequence', 'timestamp', 'lat', 'lon', 'rawAltitude', 'altitude', 'velocity', 'beginDate', 'endDate'])\n",
    "temp4_df.set_index(['flightId', 'sequence'], inplace = True)\n",
    "\n",
    "filename = \"../Data/ESSA/2019/osn_ESSA_states_TMA_2019/osn_arrival_ESSA_states_TMA_2019_08_week5.csv\"\n",
    "temp5_df = pd.read_csv(filename, sep=' ',\n",
    "    names = ['flightId', 'sequence', 'timestamp', 'lat', 'lon', 'rawAltitude', 'altitude', 'velocity', 'beginDate', 'endDate'])\n",
    "temp5_df.set_index(['flightId', 'sequence'], inplace = True)"
   ]
  },
  {
   "cell_type": "code",
   "execution_count": 17,
   "metadata": {},
   "outputs": [
    {
     "name": "stdout",
     "output_type": "stream",
     "text": [
      "8948\n"
     ]
    }
   ],
   "source": [
    "len1 = len(temp1_df.groupby(level='flightId'))\n",
    "len2 = len(temp2_df.groupby(level='flightId'))\n",
    "len3 = len(temp3_df.groupby(level='flightId'))\n",
    "len4 = len(temp4_df.groupby(level='flightId'))\n",
    "len5 = len(temp5_df.groupby(level='flightId'))\n",
    "print(len1+len2+len3+len4+len5) #8948"
   ]
  },
  {
   "cell_type": "code",
   "execution_count": 18,
   "metadata": {},
   "outputs": [],
   "source": [
    "filename = \"../Data/ESSA/2019/osn_ESSA_states_TMA_2019/osn_arrival_ESSA_states_TMA_2019_09_week1.csv\"\n",
    "temp1_df = pd.read_csv(filename, sep=' ',\n",
    "    names = ['flightId', 'sequence', 'timestamp', 'lat', 'lon', 'rawAltitude', 'altitude', 'velocity', 'beginDate', 'endDate'])\n",
    "temp1_df.set_index(['flightId', 'sequence'], inplace = True)\n",
    "\n",
    "filename = \"../Data/ESSA/2019/osn_ESSA_states_TMA_2019/osn_arrival_ESSA_states_TMA_2019_09_week2.csv\"\n",
    "temp2_df = pd.read_csv(filename, sep=' ',\n",
    "    names = ['flightId', 'sequence', 'timestamp', 'lat', 'lon', 'rawAltitude', 'altitude', 'velocity', 'beginDate', 'endDate'])\n",
    "temp2_df.set_index(['flightId', 'sequence'], inplace = True)\n",
    "\n",
    "filename = \"../Data/ESSA/2019/osn_ESSA_states_TMA_2019/osn_arrival_ESSA_states_TMA_2019_09_week3.csv\"\n",
    "temp3_df = pd.read_csv(filename, sep=' ',\n",
    "    names = ['flightId', 'sequence', 'timestamp', 'lat', 'lon', 'rawAltitude', 'altitude', 'velocity', 'beginDate', 'endDate'])\n",
    "temp3_df.set_index(['flightId', 'sequence'], inplace = True)\n",
    "\n",
    "filename = \"../Data/ESSA/2019/osn_ESSA_states_TMA_2019/osn_arrival_ESSA_states_TMA_2019_09_week4.csv\"\n",
    "temp4_df = pd.read_csv(filename, sep=' ',\n",
    "    names = ['flightId', 'sequence', 'timestamp', 'lat', 'lon', 'rawAltitude', 'altitude', 'velocity', 'beginDate', 'endDate'])\n",
    "temp4_df.set_index(['flightId', 'sequence'], inplace = True)\n",
    "\n",
    "filename = \"../Data/ESSA/2019/osn_ESSA_states_TMA_2019/osn_arrival_ESSA_states_TMA_2019_09_week5.csv\"\n",
    "temp5_df = pd.read_csv(filename, sep=' ',\n",
    "    names = ['flightId', 'sequence', 'timestamp', 'lat', 'lon', 'rawAltitude', 'altitude', 'velocity', 'beginDate', 'endDate'])\n",
    "temp5_df.set_index(['flightId', 'sequence'], inplace = True)"
   ]
  },
  {
   "cell_type": "code",
   "execution_count": 19,
   "metadata": {},
   "outputs": [
    {
     "name": "stdout",
     "output_type": "stream",
     "text": [
      "8749\n"
     ]
    }
   ],
   "source": [
    "len1 = len(temp1_df.groupby(level='flightId'))\n",
    "len2 = len(temp2_df.groupby(level='flightId'))\n",
    "len3 = len(temp3_df.groupby(level='flightId'))\n",
    "len4 = len(temp4_df.groupby(level='flightId'))\n",
    "len5 = len(temp5_df.groupby(level='flightId'))\n",
    "print(len1+len2+len3+len4+len5) #9749"
   ]
  },
  {
   "cell_type": "code",
   "execution_count": 20,
   "metadata": {},
   "outputs": [],
   "source": [
    "filename = \"../Data/ESSA/2019/osn_ESSA_states_TMA_2019/osn_arrival_ESSA_states_TMA_2019_10_week1.csv\"\n",
    "temp1_df = pd.read_csv(filename, sep=' ',\n",
    "    names = ['flightId', 'sequence', 'timestamp', 'lat', 'lon', 'rawAltitude', 'altitude', 'velocity', 'beginDate', 'endDate'])\n",
    "temp1_df.set_index(['flightId', 'sequence'], inplace = True)\n",
    "\n",
    "filename = \"../Data/ESSA/2019/osn_ESSA_states_TMA_2019/osn_arrival_ESSA_states_TMA_2019_10_week2.csv\"\n",
    "temp2_df = pd.read_csv(filename, sep=' ',\n",
    "    names = ['flightId', 'sequence', 'timestamp', 'lat', 'lon', 'rawAltitude', 'altitude', 'velocity', 'beginDate', 'endDate'])\n",
    "temp2_df.set_index(['flightId', 'sequence'], inplace = True)\n",
    "\n",
    "filename = \"../Data/ESSA/2019/osn_ESSA_states_TMA_2019/osn_arrival_ESSA_states_TMA_2019_10_week3.csv\"\n",
    "temp3_df = pd.read_csv(filename, sep=' ',\n",
    "    names = ['flightId', 'sequence', 'timestamp', 'lat', 'lon', 'rawAltitude', 'altitude', 'velocity', 'beginDate', 'endDate'])\n",
    "temp3_df.set_index(['flightId', 'sequence'], inplace = True)\n",
    "\n",
    "filename = \"../Data/ESSA/2019/osn_ESSA_states_TMA_2019/osn_arrival_ESSA_states_TMA_2019_10_week4.csv\"\n",
    "temp4_df = pd.read_csv(filename, sep=' ',\n",
    "    names = ['flightId', 'sequence', 'timestamp', 'lat', 'lon', 'rawAltitude', 'altitude', 'velocity', 'beginDate', 'endDate'])\n",
    "temp4_df.set_index(['flightId', 'sequence'], inplace = True)\n",
    "\n",
    "filename = \"../Data/ESSA/2019/osn_ESSA_states_TMA_2019/osn_arrival_ESSA_states_TMA_2019_10_week5.csv\"\n",
    "temp5_df = pd.read_csv(filename, sep=' ',\n",
    "    names = ['flightId', 'sequence', 'timestamp', 'lat', 'lon', 'rawAltitude', 'altitude', 'velocity', 'beginDate', 'endDate'])\n",
    "temp5_df.set_index(['flightId', 'sequence'], inplace = True)"
   ]
  },
  {
   "cell_type": "code",
   "execution_count": 21,
   "metadata": {},
   "outputs": [
    {
     "name": "stdout",
     "output_type": "stream",
     "text": [
      "8998\n"
     ]
    }
   ],
   "source": [
    "len1 = len(temp1_df.groupby(level='flightId'))\n",
    "len2 = len(temp2_df.groupby(level='flightId'))\n",
    "len3 = len(temp3_df.groupby(level='flightId'))\n",
    "len4 = len(temp4_df.groupby(level='flightId'))\n",
    "len5 = len(temp5_df.groupby(level='flightId'))\n",
    "print(len1+len2+len3+len4+len5) #8998"
   ]
  },
  {
   "cell_type": "code",
   "execution_count": 22,
   "metadata": {},
   "outputs": [],
   "source": [
    "filename = \"../Data/ESSA/2019/osn_ESSA_states_TMA_2019/osn_arrival_ESSA_states_TMA_2019_11_week1.csv\"\n",
    "temp1_df = pd.read_csv(filename, sep=' ',\n",
    "    names = ['flightId', 'sequence', 'timestamp', 'lat', 'lon', 'rawAltitude', 'altitude', 'velocity', 'beginDate', 'endDate'])\n",
    "temp1_df.set_index(['flightId', 'sequence'], inplace = True)\n",
    "\n",
    "filename = \"../Data/ESSA/2019/osn_ESSA_states_TMA_2019/osn_arrival_ESSA_states_TMA_2019_11_week2.csv\"\n",
    "temp2_df = pd.read_csv(filename, sep=' ',\n",
    "    names = ['flightId', 'sequence', 'timestamp', 'lat', 'lon', 'rawAltitude', 'altitude', 'velocity', 'beginDate', 'endDate'])\n",
    "temp2_df.set_index(['flightId', 'sequence'], inplace = True)\n",
    "\n",
    "filename = \"../Data/ESSA/2019/osn_ESSA_states_TMA_2019/osn_arrival_ESSA_states_TMA_2019_11_week3.csv\"\n",
    "temp3_df = pd.read_csv(filename, sep=' ',\n",
    "    names = ['flightId', 'sequence', 'timestamp', 'lat', 'lon', 'rawAltitude', 'altitude', 'velocity', 'beginDate', 'endDate'])\n",
    "temp3_df.set_index(['flightId', 'sequence'], inplace = True)\n",
    "\n",
    "filename = \"../Data/ESSA/2019/osn_ESSA_states_TMA_2019/osn_arrival_ESSA_states_TMA_2019_11_week4.csv\"\n",
    "temp4_df = pd.read_csv(filename, sep=' ',\n",
    "    names = ['flightId', 'sequence', 'timestamp', 'lat', 'lon', 'rawAltitude', 'altitude', 'velocity', 'beginDate', 'endDate'])\n",
    "temp4_df.set_index(['flightId', 'sequence'], inplace = True)\n",
    "\n",
    "filename = \"../Data/ESSA/2019/osn_ESSA_states_TMA_2019/osn_arrival_ESSA_states_TMA_2019_11_week5.csv\"\n",
    "temp5_df = pd.read_csv(filename, sep=' ',\n",
    "    names = ['flightId', 'sequence', 'timestamp', 'lat', 'lon', 'rawAltitude', 'altitude', 'velocity', 'beginDate', 'endDate'])\n",
    "temp5_df.set_index(['flightId', 'sequence'], inplace = True)"
   ]
  },
  {
   "cell_type": "code",
   "execution_count": 23,
   "metadata": {},
   "outputs": [
    {
     "name": "stdout",
     "output_type": "stream",
     "text": [
      "7791\n"
     ]
    }
   ],
   "source": [
    "len1 = len(temp1_df.groupby(level='flightId'))\n",
    "len2 = len(temp2_df.groupby(level='flightId'))\n",
    "len3 = len(temp3_df.groupby(level='flightId'))\n",
    "len4 = len(temp4_df.groupby(level='flightId'))\n",
    "len5 = len(temp5_df.groupby(level='flightId'))\n",
    "print(len1+len2+len3+len4+len5) #7791"
   ]
  },
  {
   "cell_type": "code",
   "execution_count": 24,
   "metadata": {},
   "outputs": [],
   "source": [
    "filename = \"../Data/ESSA/2019/osn_ESSA_states_TMA_2019/osn_arrival_ESSA_states_TMA_2019_12_week1.csv\"\n",
    "temp1_df = pd.read_csv(filename, sep=' ',\n",
    "    names = ['flightId', 'sequence', 'timestamp', 'lat', 'lon', 'rawAltitude', 'altitude', 'velocity', 'beginDate', 'endDate'])\n",
    "temp1_df.set_index(['flightId', 'sequence'], inplace = True)\n",
    "\n",
    "filename = \"../Data/ESSA/2019/osn_ESSA_states_TMA_2019/osn_arrival_ESSA_states_TMA_2019_12_week2.csv\"\n",
    "temp2_df = pd.read_csv(filename, sep=' ',\n",
    "    names = ['flightId', 'sequence', 'timestamp', 'lat', 'lon', 'rawAltitude', 'altitude', 'velocity', 'beginDate', 'endDate'])\n",
    "temp2_df.set_index(['flightId', 'sequence'], inplace = True)\n",
    "\n",
    "filename = \"../Data/ESSA/2019/osn_ESSA_states_TMA_2019/osn_arrival_ESSA_states_TMA_2019_12_week3.csv\"\n",
    "temp3_df = pd.read_csv(filename, sep=' ',\n",
    "    names = ['flightId', 'sequence', 'timestamp', 'lat', 'lon', 'rawAltitude', 'altitude', 'velocity', 'beginDate', 'endDate'])\n",
    "temp3_df.set_index(['flightId', 'sequence'], inplace = True)\n",
    "\n",
    "filename = \"../Data/ESSA/2019/osn_ESSA_states_TMA_2019/osn_arrival_ESSA_states_TMA_2019_12_week4.csv\"\n",
    "temp4_df = pd.read_csv(filename, sep=' ',\n",
    "    names = ['flightId', 'sequence', 'timestamp', 'lat', 'lon', 'rawAltitude', 'altitude', 'velocity', 'beginDate', 'endDate'])\n",
    "temp4_df.set_index(['flightId', 'sequence'], inplace = True)\n",
    "\n",
    "filename = \"../Data/ESSA/2019/osn_ESSA_states_TMA_2019/osn_arrival_ESSA_states_TMA_2019_12_week5.csv\"\n",
    "temp5_df = pd.read_csv(filename, sep=' ',\n",
    "    names = ['flightId', 'sequence', 'timestamp', 'lat', 'lon', 'rawAltitude', 'altitude', 'velocity', 'beginDate', 'endDate'])\n",
    "temp5_df.set_index(['flightId', 'sequence'], inplace = True)"
   ]
  },
  {
   "cell_type": "code",
   "execution_count": 25,
   "metadata": {},
   "outputs": [
    {
     "name": "stdout",
     "output_type": "stream",
     "text": [
      "7178\n"
     ]
    }
   ],
   "source": [
    "len1 = len(temp1_df.groupby(level='flightId'))\n",
    "len2 = len(temp2_df.groupby(level='flightId'))\n",
    "len3 = len(temp3_df.groupby(level='flightId'))\n",
    "len4 = len(temp4_df.groupby(level='flightId'))\n",
    "len5 = len(temp5_df.groupby(level='flightId'))\n",
    "print(len1+len2+len3+len4+len5) #7178"
   ]
  },
  {
   "cell_type": "code",
   "execution_count": 26,
   "metadata": {},
   "outputs": [],
   "source": [
    "filename = \"../Data/ESSA/2020/osn_ESSA_states_TMA_2020/osn_arrival_ESSA_states_TMA_2020_01_week1.csv\"\n",
    "temp1_df = pd.read_csv(filename, sep=' ',\n",
    "    names = ['flightId', 'sequence', 'timestamp', 'lat', 'lon', 'rawAltitude', 'altitude', 'velocity', 'beginDate', 'endDate'])\n",
    "temp1_df.set_index(['flightId', 'sequence'], inplace = True)\n",
    "\n",
    "filename = \"../Data/ESSA/2020/osn_ESSA_states_TMA_2020/osn_arrival_ESSA_states_TMA_2020_01_week2.csv\"\n",
    "temp2_df = pd.read_csv(filename, sep=' ',\n",
    "    names = ['flightId', 'sequence', 'timestamp', 'lat', 'lon', 'rawAltitude', 'altitude', 'velocity', 'beginDate', 'endDate'])\n",
    "temp2_df.set_index(['flightId', 'sequence'], inplace = True)\n",
    "\n",
    "filename = \"../Data/ESSA/2020/osn_ESSA_states_TMA_2020/osn_arrival_ESSA_states_TMA_2020_01_week3.csv\"\n",
    "temp3_df = pd.read_csv(filename, sep=' ',\n",
    "    names = ['flightId', 'sequence', 'timestamp', 'lat', 'lon', 'rawAltitude', 'altitude', 'velocity', 'beginDate', 'endDate'])\n",
    "temp3_df.set_index(['flightId', 'sequence'], inplace = True)\n",
    "\n",
    "filename = \"../Data/ESSA/2020/osn_ESSA_states_TMA_2020/osn_arrival_ESSA_states_TMA_2020_01_week4.csv\"\n",
    "temp4_df = pd.read_csv(filename, sep=' ',\n",
    "    names = ['flightId', 'sequence', 'timestamp', 'lat', 'lon', 'rawAltitude', 'altitude', 'velocity', 'beginDate', 'endDate'])\n",
    "temp4_df.set_index(['flightId', 'sequence'], inplace = True)\n",
    "\n",
    "filename = \"../Data/ESSA/2020/osn_ESSA_states_TMA_2020/osn_arrival_ESSA_states_TMA_2020_01_week5.csv\"\n",
    "temp5_df = pd.read_csv(filename, sep=' ',\n",
    "    names = ['flightId', 'sequence', 'timestamp', 'lat', 'lon', 'rawAltitude', 'altitude', 'velocity', 'beginDate', 'endDate'])\n",
    "temp5_df.set_index(['flightId', 'sequence'], inplace = True)"
   ]
  },
  {
   "cell_type": "code",
   "execution_count": 27,
   "metadata": {},
   "outputs": [
    {
     "name": "stdout",
     "output_type": "stream",
     "text": [
      "7412\n"
     ]
    }
   ],
   "source": [
    "len1 = len(temp1_df.groupby(level='flightId'))\n",
    "len2 = len(temp2_df.groupby(level='flightId'))\n",
    "len3 = len(temp3_df.groupby(level='flightId'))\n",
    "len4 = len(temp4_df.groupby(level='flightId'))\n",
    "len5 = len(temp5_df.groupby(level='flightId'))\n",
    "print(len1+len2+len3+len4+len5) #7412"
   ]
  },
  {
   "cell_type": "code",
   "execution_count": 28,
   "metadata": {},
   "outputs": [],
   "source": [
    "filename = \"../Data/ESSA/2020/osn_ESSA_states_TMA_2020/osn_arrival_ESSA_states_TMA_2020_02_week1.csv\"\n",
    "temp1_df = pd.read_csv(filename, sep=' ',\n",
    "    names = ['flightId', 'sequence', 'timestamp', 'lat', 'lon', 'rawAltitude', 'altitude', 'velocity', 'beginDate', 'endDate'])\n",
    "temp1_df.set_index(['flightId', 'sequence'], inplace = True)\n",
    "\n",
    "filename = \"../Data/ESSA/2020/osn_ESSA_states_TMA_2020/osn_arrival_ESSA_states_TMA_2020_02_week2.csv\"\n",
    "temp2_df = pd.read_csv(filename, sep=' ',\n",
    "    names = ['flightId', 'sequence', 'timestamp', 'lat', 'lon', 'rawAltitude', 'altitude', 'velocity', 'beginDate', 'endDate'])\n",
    "temp2_df.set_index(['flightId', 'sequence'], inplace = True)\n",
    "\n",
    "filename = \"../Data/ESSA/2020/osn_ESSA_states_TMA_2020/osn_arrival_ESSA_states_TMA_2020_02_week3.csv\"\n",
    "temp3_df = pd.read_csv(filename, sep=' ',\n",
    "    names = ['flightId', 'sequence', 'timestamp', 'lat', 'lon', 'rawAltitude', 'altitude', 'velocity', 'beginDate', 'endDate'])\n",
    "temp3_df.set_index(['flightId', 'sequence'], inplace = True)\n",
    "\n",
    "filename = \"../Data/ESSA/2020/osn_ESSA_states_TMA_2020/osn_arrival_ESSA_states_TMA_2020_02_week4.csv\"\n",
    "temp4_df = pd.read_csv(filename, sep=' ',\n",
    "    names = ['flightId', 'sequence', 'timestamp', 'lat', 'lon', 'rawAltitude', 'altitude', 'velocity', 'beginDate', 'endDate'])\n",
    "temp4_df.set_index(['flightId', 'sequence'], inplace = True)\n",
    "\n",
    "filename = \"../Data/ESSA/2020/osn_ESSA_states_TMA_2020/osn_arrival_ESSA_states_TMA_2020_02_week5.csv\"\n",
    "temp5_df = pd.read_csv(filename, sep=' ',\n",
    "    names = ['flightId', 'sequence', 'timestamp', 'lat', 'lon', 'rawAltitude', 'altitude', 'velocity', 'beginDate', 'endDate'])\n",
    "temp5_df.set_index(['flightId', 'sequence'], inplace = True)"
   ]
  },
  {
   "cell_type": "code",
   "execution_count": 29,
   "metadata": {},
   "outputs": [
    {
     "name": "stdout",
     "output_type": "stream",
     "text": [
      "7122\n"
     ]
    }
   ],
   "source": [
    "len1 = len(temp1_df.groupby(level='flightId'))\n",
    "len2 = len(temp2_df.groupby(level='flightId'))\n",
    "len3 = len(temp3_df.groupby(level='flightId'))\n",
    "len4 = len(temp4_df.groupby(level='flightId'))\n",
    "len5 = len(temp5_df.groupby(level='flightId'))\n",
    "print(len1+len2+len3+len4+len5) #7122"
   ]
  },
  {
   "cell_type": "code",
   "execution_count": 30,
   "metadata": {},
   "outputs": [],
   "source": [
    "filename = \"../Data/ESSA/2020/osn_ESSA_states_TMA_2020/osn_arrival_ESSA_states_TMA_2020_03_week1.csv\"\n",
    "temp1_df = pd.read_csv(filename, sep=' ',\n",
    "    names = ['flightId', 'sequence', 'timestamp', 'lat', 'lon', 'rawAltitude', 'altitude', 'velocity', 'beginDate', 'endDate'])\n",
    "temp1_df.set_index(['flightId', 'sequence'], inplace = True)\n",
    "\n",
    "filename = \"../Data/ESSA/2020/osn_ESSA_states_TMA_2020/osn_arrival_ESSA_states_TMA_2020_03_week2.csv\"\n",
    "temp2_df = pd.read_csv(filename, sep=' ',\n",
    "    names = ['flightId', 'sequence', 'timestamp', 'lat', 'lon', 'rawAltitude', 'altitude', 'velocity', 'beginDate', 'endDate'])\n",
    "temp2_df.set_index(['flightId', 'sequence'], inplace = True)\n",
    "\n",
    "filename = \"../Data/ESSA/2020/osn_ESSA_states_TMA_2020/osn_arrival_ESSA_states_TMA_2020_03_week3.csv\"\n",
    "temp3_df = pd.read_csv(filename, sep=' ',\n",
    "    names = ['flightId', 'sequence', 'timestamp', 'lat', 'lon', 'rawAltitude', 'altitude', 'velocity', 'beginDate', 'endDate'])\n",
    "temp3_df.set_index(['flightId', 'sequence'], inplace = True)\n",
    "\n",
    "filename = \"../Data/ESSA/2020/osn_ESSA_states_TMA_2020/osn_arrival_ESSA_states_TMA_2020_03_week4.csv\"\n",
    "temp4_df = pd.read_csv(filename, sep=' ',\n",
    "    names = ['flightId', 'sequence', 'timestamp', 'lat', 'lon', 'rawAltitude', 'altitude', 'velocity', 'beginDate', 'endDate'])\n",
    "temp4_df.set_index(['flightId', 'sequence'], inplace = True)\n",
    "\n",
    "filename = \"../Data/ESSA/2020/osn_ESSA_states_TMA_2020/osn_arrival_ESSA_states_TMA_2020_03_week5.csv\"\n",
    "temp5_df = pd.read_csv(filename, sep=' ',\n",
    "    names = ['flightId', 'sequence', 'timestamp', 'lat', 'lon', 'rawAltitude', 'altitude', 'velocity', 'beginDate', 'endDate'])\n",
    "temp5_df.set_index(['flightId', 'sequence'], inplace = True)"
   ]
  },
  {
   "cell_type": "code",
   "execution_count": 31,
   "metadata": {},
   "outputs": [
    {
     "name": "stdout",
     "output_type": "stream",
     "text": [
      "5338\n"
     ]
    }
   ],
   "source": [
    "len1 = len(temp1_df.groupby(level='flightId'))\n",
    "len2 = len(temp2_df.groupby(level='flightId'))\n",
    "len3 = len(temp3_df.groupby(level='flightId'))\n",
    "len4 = len(temp4_df.groupby(level='flightId'))\n",
    "len5 = len(temp5_df.groupby(level='flightId'))\n",
    "print(len1+len2+len3+len4+len5) #5338"
   ]
  },
  {
   "cell_type": "code",
   "execution_count": 32,
   "metadata": {},
   "outputs": [],
   "source": [
    "filename = \"../Data/ESSA/2020/osn_ESSA_states_TMA_2020/osn_arrival_ESSA_states_TMA_2020_04_week1.csv\"\n",
    "temp1_df = pd.read_csv(filename, sep=' ',\n",
    "    names = ['flightId', 'sequence', 'timestamp', 'lat', 'lon', 'rawAltitude', 'altitude', 'velocity', 'beginDate', 'endDate'])\n",
    "temp1_df.set_index(['flightId', 'sequence'], inplace = True)\n",
    "\n",
    "filename = \"../Data/ESSA/2020/osn_ESSA_states_TMA_2020/osn_arrival_ESSA_states_TMA_2020_04_week2.csv\"\n",
    "temp2_df = pd.read_csv(filename, sep=' ',\n",
    "    names = ['flightId', 'sequence', 'timestamp', 'lat', 'lon', 'rawAltitude', 'altitude', 'velocity', 'beginDate', 'endDate'])\n",
    "temp2_df.set_index(['flightId', 'sequence'], inplace = True)\n",
    "\n",
    "filename = \"../Data/ESSA/2020/osn_ESSA_states_TMA_2020/osn_arrival_ESSA_states_TMA_2020_04_week3.csv\"\n",
    "temp3_df = pd.read_csv(filename, sep=' ',\n",
    "    names = ['flightId', 'sequence', 'timestamp', 'lat', 'lon', 'rawAltitude', 'altitude', 'velocity', 'beginDate', 'endDate'])\n",
    "temp3_df.set_index(['flightId', 'sequence'], inplace = True)\n",
    "\n",
    "filename = \"../Data/ESSA/2020/osn_ESSA_states_TMA_2020/osn_arrival_ESSA_states_TMA_2020_04_week4.csv\"\n",
    "temp4_df = pd.read_csv(filename, sep=' ',\n",
    "    names = ['flightId', 'sequence', 'timestamp', 'lat', 'lon', 'rawAltitude', 'altitude', 'velocity', 'beginDate', 'endDate'])\n",
    "temp4_df.set_index(['flightId', 'sequence'], inplace = True)\n",
    "\n",
    "filename = \"../Data/ESSA/2020/osn_ESSA_states_TMA_2020/osn_arrival_ESSA_states_TMA_2020_04_week5.csv\"\n",
    "temp5_df = pd.read_csv(filename, sep=' ',\n",
    "    names = ['flightId', 'sequence', 'timestamp', 'lat', 'lon', 'rawAltitude', 'altitude', 'velocity', 'beginDate', 'endDate'])\n",
    "temp5_df.set_index(['flightId', 'sequence'], inplace = True)"
   ]
  },
  {
   "cell_type": "code",
   "execution_count": 33,
   "metadata": {},
   "outputs": [
    {
     "name": "stdout",
     "output_type": "stream",
     "text": [
      "721\n"
     ]
    }
   ],
   "source": [
    "len1 = len(temp1_df.groupby(level='flightId'))\n",
    "len2 = len(temp2_df.groupby(level='flightId'))\n",
    "len3 = len(temp3_df.groupby(level='flightId'))\n",
    "len4 = len(temp4_df.groupby(level='flightId'))\n",
    "len5 = len(temp5_df.groupby(level='flightId'))\n",
    "print(len1+len2+len3+len4+len5) #721"
   ]
  },
  {
   "cell_type": "code",
   "execution_count": 34,
   "metadata": {},
   "outputs": [],
   "source": [
    "filename = \"../Data/ESSA/2020/osn_ESSA_states_TMA_2020/osn_arrival_ESSA_states_TMA_2020_05_week1.csv\"\n",
    "temp1_df = pd.read_csv(filename, sep=' ',\n",
    "    names = ['flightId', 'sequence', 'timestamp', 'lat', 'lon', 'rawAltitude', 'altitude', 'velocity', 'beginDate', 'endDate'])\n",
    "temp1_df.set_index(['flightId', 'sequence'], inplace = True)\n",
    "\n",
    "filename = \"../Data/ESSA/2020/osn_ESSA_states_TMA_2020/osn_arrival_ESSA_states_TMA_2020_05_week2.csv\"\n",
    "temp2_df = pd.read_csv(filename, sep=' ',\n",
    "    names = ['flightId', 'sequence', 'timestamp', 'lat', 'lon', 'rawAltitude', 'altitude', 'velocity', 'beginDate', 'endDate'])\n",
    "temp2_df.set_index(['flightId', 'sequence'], inplace = True)\n",
    "\n",
    "filename = \"../Data/ESSA/2020/osn_ESSA_states_TMA_2020/osn_arrival_ESSA_states_TMA_2020_05_week3.csv\"\n",
    "temp3_df = pd.read_csv(filename, sep=' ',\n",
    "    names = ['flightId', 'sequence', 'timestamp', 'lat', 'lon', 'rawAltitude', 'altitude', 'velocity', 'beginDate', 'endDate'])\n",
    "temp3_df.set_index(['flightId', 'sequence'], inplace = True)\n",
    "\n",
    "filename = \"../Data/ESSA/2020/osn_ESSA_states_TMA_2020/osn_arrival_ESSA_states_TMA_2020_05_week4.csv\"\n",
    "temp4_df = pd.read_csv(filename, sep=' ',\n",
    "    names = ['flightId', 'sequence', 'timestamp', 'lat', 'lon', 'rawAltitude', 'altitude', 'velocity', 'beginDate', 'endDate'])\n",
    "temp4_df.set_index(['flightId', 'sequence'], inplace = True)\n",
    "\n",
    "filename = \"../Data/ESSA/2020/osn_ESSA_states_TMA_2020/osn_arrival_ESSA_states_TMA_2020_05_week5.csv\"\n",
    "temp5_df = pd.read_csv(filename, sep=' ',\n",
    "    names = ['flightId', 'sequence', 'timestamp', 'lat', 'lon', 'rawAltitude', 'altitude', 'velocity', 'beginDate', 'endDate'])\n",
    "temp5_df.set_index(['flightId', 'sequence'], inplace = True)"
   ]
  },
  {
   "cell_type": "code",
   "execution_count": 35,
   "metadata": {},
   "outputs": [
    {
     "name": "stdout",
     "output_type": "stream",
     "text": [
      "754\n"
     ]
    }
   ],
   "source": [
    "len1 = len(temp1_df.groupby(level='flightId'))\n",
    "len2 = len(temp2_df.groupby(level='flightId'))\n",
    "len3 = len(temp3_df.groupby(level='flightId'))\n",
    "len4 = len(temp4_df.groupby(level='flightId'))\n",
    "len5 = len(temp5_df.groupby(level='flightId'))\n",
    "print(len1+len2+len3+len4+len5) #754"
   ]
  },
  {
   "cell_type": "code",
   "execution_count": 36,
   "metadata": {},
   "outputs": [],
   "source": [
    "filename = \"../Data/ESSA/2020/osn_ESSA_states_TMA_2020/osn_arrival_ESSA_states_TMA_2020_06_week1.csv\"\n",
    "temp1_df = pd.read_csv(filename, sep=' ',\n",
    "    names = ['flightId', 'sequence', 'timestamp', 'lat', 'lon', 'rawAltitude', 'altitude', 'velocity', 'beginDate', 'endDate'])\n",
    "temp1_df.set_index(['flightId', 'sequence'], inplace = True)\n",
    "\n",
    "filename = \"../Data/ESSA/2020/osn_ESSA_states_TMA_2020/osn_arrival_ESSA_states_TMA_2020_06_week2.csv\"\n",
    "temp2_df = pd.read_csv(filename, sep=' ',\n",
    "    names = ['flightId', 'sequence', 'timestamp', 'lat', 'lon', 'rawAltitude', 'altitude', 'velocity', 'beginDate', 'endDate'])\n",
    "temp2_df.set_index(['flightId', 'sequence'], inplace = True)\n",
    "\n",
    "filename = \"../Data/ESSA/2020/osn_ESSA_states_TMA_2020/osn_arrival_ESSA_states_TMA_2020_06_week3.csv\"\n",
    "temp3_df = pd.read_csv(filename, sep=' ',\n",
    "    names = ['flightId', 'sequence', 'timestamp', 'lat', 'lon', 'rawAltitude', 'altitude', 'velocity', 'beginDate', 'endDate'])\n",
    "temp3_df.set_index(['flightId', 'sequence'], inplace = True)\n",
    "\n",
    "filename = \"../Data/ESSA/2020/osn_ESSA_states_TMA_2020/osn_arrival_ESSA_states_TMA_2020_06_week4.csv\"\n",
    "temp4_df = pd.read_csv(filename, sep=' ',\n",
    "    names = ['flightId', 'sequence', 'timestamp', 'lat', 'lon', 'rawAltitude', 'altitude', 'velocity', 'beginDate', 'endDate'])\n",
    "temp4_df.set_index(['flightId', 'sequence'], inplace = True)\n",
    "\n",
    "filename = \"../Data/ESSA/2020/osn_ESSA_states_TMA_2020/osn_arrival_ESSA_states_TMA_2020_06_week5.csv\"\n",
    "temp5_df = pd.read_csv(filename, sep=' ',\n",
    "    names = ['flightId', 'sequence', 'timestamp', 'lat', 'lon', 'rawAltitude', 'altitude', 'velocity', 'beginDate', 'endDate'])\n",
    "temp5_df.set_index(['flightId', 'sequence'], inplace = True)"
   ]
  },
  {
   "cell_type": "code",
   "execution_count": 37,
   "metadata": {},
   "outputs": [
    {
     "name": "stdout",
     "output_type": "stream",
     "text": [
      "1019\n"
     ]
    }
   ],
   "source": [
    "len1 = len(temp1_df.groupby(level='flightId'))\n",
    "len2 = len(temp2_df.groupby(level='flightId'))\n",
    "len3 = len(temp3_df.groupby(level='flightId'))\n",
    "len4 = len(temp4_df.groupby(level='flightId'))\n",
    "len5 = len(temp5_df.groupby(level='flightId'))\n",
    "print(len1+len2+len3+len4+len5) #1019"
   ]
  },
  {
   "cell_type": "code",
   "execution_count": 38,
   "metadata": {},
   "outputs": [],
   "source": [
    "filename = \"../Data/ESSA/2020/osn_ESSA_states_TMA_2020/osn_arrival_ESSA_states_TMA_2020_07_week1.csv\"\n",
    "temp1_df = pd.read_csv(filename, sep=' ',\n",
    "    names = ['flightId', 'sequence', 'timestamp', 'lat', 'lon', 'rawAltitude', 'altitude', 'velocity', 'beginDate', 'endDate'])\n",
    "temp1_df.set_index(['flightId', 'sequence'], inplace = True)\n",
    "\n",
    "filename = \"../Data/ESSA/2020/osn_ESSA_states_TMA_2020/osn_arrival_ESSA_states_TMA_2020_07_week2.csv\"\n",
    "temp2_df = pd.read_csv(filename, sep=' ',\n",
    "    names = ['flightId', 'sequence', 'timestamp', 'lat', 'lon', 'rawAltitude', 'altitude', 'velocity', 'beginDate', 'endDate'])\n",
    "temp2_df.set_index(['flightId', 'sequence'], inplace = True)\n",
    "\n",
    "filename = \"../Data/ESSA/2020/osn_ESSA_states_TMA_2020/osn_arrival_ESSA_states_TMA_2020_07_week3.csv\"\n",
    "temp3_df = pd.read_csv(filename, sep=' ',\n",
    "    names = ['flightId', 'sequence', 'timestamp', 'lat', 'lon', 'rawAltitude', 'altitude', 'velocity', 'beginDate', 'endDate'])\n",
    "temp3_df.set_index(['flightId', 'sequence'], inplace = True)\n",
    "\n",
    "filename = \"../Data/ESSA/2020/osn_ESSA_states_TMA_2020/osn_arrival_ESSA_states_TMA_2020_07_week4.csv\"\n",
    "temp4_df = pd.read_csv(filename, sep=' ',\n",
    "    names = ['flightId', 'sequence', 'timestamp', 'lat', 'lon', 'rawAltitude', 'altitude', 'velocity', 'beginDate', 'endDate'])\n",
    "temp4_df.set_index(['flightId', 'sequence'], inplace = True)\n",
    "\n",
    "filename = \"../Data/ESSA/2020/osn_ESSA_states_TMA_2020/osn_arrival_ESSA_states_TMA_2020_07_week5.csv\"\n",
    "temp5_df = pd.read_csv(filename, sep=' ',\n",
    "    names = ['flightId', 'sequence', 'timestamp', 'lat', 'lon', 'rawAltitude', 'altitude', 'velocity', 'beginDate', 'endDate'])\n",
    "temp5_df.set_index(['flightId', 'sequence'], inplace = True)"
   ]
  },
  {
   "cell_type": "code",
   "execution_count": 39,
   "metadata": {},
   "outputs": [
    {
     "name": "stdout",
     "output_type": "stream",
     "text": [
      "2038\n"
     ]
    }
   ],
   "source": [
    "len1 = len(temp1_df.groupby(level='flightId'))\n",
    "len2 = len(temp2_df.groupby(level='flightId'))\n",
    "len3 = len(temp3_df.groupby(level='flightId'))\n",
    "len4 = len(temp4_df.groupby(level='flightId'))\n",
    "len5 = len(temp5_df.groupby(level='flightId'))\n",
    "print(len1+len2+len3+len4+len5) #2038"
   ]
  },
  {
   "cell_type": "code",
   "execution_count": 40,
   "metadata": {},
   "outputs": [],
   "source": [
    "filename = \"../Data/ESSA/2020/osn_ESSA_states_TMA_2020/osn_arrival_ESSA_states_TMA_2020_08_week1.csv\"\n",
    "temp1_df = pd.read_csv(filename, sep=' ',\n",
    "    names = ['flightId', 'sequence', 'timestamp', 'lat', 'lon', 'rawAltitude', 'altitude', 'velocity', 'beginDate', 'endDate'])\n",
    "temp1_df.set_index(['flightId', 'sequence'], inplace = True)\n",
    "\n",
    "filename = \"../Data/ESSA/2020/osn_ESSA_states_TMA_2020/osn_arrival_ESSA_states_TMA_2020_08_week2.csv\"\n",
    "temp2_df = pd.read_csv(filename, sep=' ',\n",
    "    names = ['flightId', 'sequence', 'timestamp', 'lat', 'lon', 'rawAltitude', 'altitude', 'velocity', 'beginDate', 'endDate'])\n",
    "temp2_df.set_index(['flightId', 'sequence'], inplace = True)\n",
    "\n",
    "filename = \"../Data/ESSA/2020/osn_ESSA_states_TMA_2020/osn_arrival_ESSA_states_TMA_2020_08_week3.csv\"\n",
    "temp3_df = pd.read_csv(filename, sep=' ',\n",
    "    names = ['flightId', 'sequence', 'timestamp', 'lat', 'lon', 'rawAltitude', 'altitude', 'velocity', 'beginDate', 'endDate'])\n",
    "temp3_df.set_index(['flightId', 'sequence'], inplace = True)\n",
    "\n",
    "filename = \"../Data/ESSA/2020/osn_ESSA_states_TMA_2020/osn_arrival_ESSA_states_TMA_2020_08_week4.csv\"\n",
    "temp4_df = pd.read_csv(filename, sep=' ',\n",
    "    names = ['flightId', 'sequence', 'timestamp', 'lat', 'lon', 'rawAltitude', 'altitude', 'velocity', 'beginDate', 'endDate'])\n",
    "temp4_df.set_index(['flightId', 'sequence'], inplace = True)\n",
    "\n",
    "filename = \"../Data/ESSA/2020/osn_ESSA_states_TMA_2020/osn_arrival_ESSA_states_TMA_2020_08_week5.csv\"\n",
    "temp5_df = pd.read_csv(filename, sep=' ',\n",
    "    names = ['flightId', 'sequence', 'timestamp', 'lat', 'lon', 'rawAltitude', 'altitude', 'velocity', 'beginDate', 'endDate'])\n",
    "temp5_df.set_index(['flightId', 'sequence'], inplace = True)"
   ]
  },
  {
   "cell_type": "code",
   "execution_count": 41,
   "metadata": {},
   "outputs": [
    {
     "name": "stdout",
     "output_type": "stream",
     "text": [
      "2465\n"
     ]
    }
   ],
   "source": [
    "len1 = len(temp1_df.groupby(level='flightId'))\n",
    "len2 = len(temp2_df.groupby(level='flightId'))\n",
    "len3 = len(temp3_df.groupby(level='flightId'))\n",
    "len4 = len(temp4_df.groupby(level='flightId'))\n",
    "len5 = len(temp5_df.groupby(level='flightId'))\n",
    "print(len1+len2+len3+len4+len5) #2465"
   ]
  },
  {
   "cell_type": "code",
   "execution_count": 42,
   "metadata": {},
   "outputs": [],
   "source": [
    "filename = \"../Data/ESSA/2020/osn_ESSA_states_TMA_2020/osn_arrival_ESSA_states_TMA_2020_09_week1.csv\"\n",
    "temp1_df = pd.read_csv(filename, sep=' ',\n",
    "    names = ['flightId', 'sequence', 'timestamp', 'lat', 'lon', 'rawAltitude', 'altitude', 'velocity', 'beginDate', 'endDate'])\n",
    "temp1_df.set_index(['flightId', 'sequence'], inplace = True)\n",
    "\n",
    "filename = \"../Data/ESSA/2020/osn_ESSA_states_TMA_2020/osn_arrival_ESSA_states_TMA_2020_09_week2.csv\"\n",
    "temp2_df = pd.read_csv(filename, sep=' ',\n",
    "    names = ['flightId', 'sequence', 'timestamp', 'lat', 'lon', 'rawAltitude', 'altitude', 'velocity', 'beginDate', 'endDate'])\n",
    "temp2_df.set_index(['flightId', 'sequence'], inplace = True)\n",
    "\n",
    "filename = \"../Data/ESSA/2020/osn_ESSA_states_TMA_2020/osn_arrival_ESSA_states_TMA_2020_09_week3.csv\"\n",
    "temp3_df = pd.read_csv(filename, sep=' ',\n",
    "    names = ['flightId', 'sequence', 'timestamp', 'lat', 'lon', 'rawAltitude', 'altitude', 'velocity', 'beginDate', 'endDate'])\n",
    "temp3_df.set_index(['flightId', 'sequence'], inplace = True)\n",
    "\n",
    "filename = \"../Data/ESSA/2020/osn_ESSA_states_TMA_2020/osn_arrival_ESSA_states_TMA_2020_09_week4.csv\"\n",
    "temp4_df = pd.read_csv(filename, sep=' ',\n",
    "    names = ['flightId', 'sequence', 'timestamp', 'lat', 'lon', 'rawAltitude', 'altitude', 'velocity', 'beginDate', 'endDate'])\n",
    "temp4_df.set_index(['flightId', 'sequence'], inplace = True)\n",
    "\n",
    "filename = \"../Data/ESSA/2020/osn_ESSA_states_TMA_2020/osn_arrival_ESSA_states_TMA_2020_09_week5.csv\"\n",
    "temp5_df = pd.read_csv(filename, sep=' ',\n",
    "    names = ['flightId', 'sequence', 'timestamp', 'lat', 'lon', 'rawAltitude', 'altitude', 'velocity', 'beginDate', 'endDate'])\n",
    "temp5_df.set_index(['flightId', 'sequence'], inplace = True)"
   ]
  },
  {
   "cell_type": "code",
   "execution_count": 43,
   "metadata": {},
   "outputs": [
    {
     "name": "stdout",
     "output_type": "stream",
     "text": [
      "2708\n"
     ]
    }
   ],
   "source": [
    "len1 = len(temp1_df.groupby(level='flightId'))\n",
    "len2 = len(temp2_df.groupby(level='flightId'))\n",
    "len3 = len(temp3_df.groupby(level='flightId'))\n",
    "len4 = len(temp4_df.groupby(level='flightId'))\n",
    "len5 = len(temp5_df.groupby(level='flightId'))\n",
    "print(len1+len2+len3+len4+len5) #2708"
   ]
  },
  {
   "cell_type": "code",
   "execution_count": 44,
   "metadata": {},
   "outputs": [],
   "source": [
    "filename = \"../Data/ESSA/2020/osn_ESSA_states_TMA_2020/osn_arrival_ESSA_states_TMA_2020_10_week1.csv\"\n",
    "temp1_df = pd.read_csv(filename, sep=' ',\n",
    "    names = ['flightId', 'sequence', 'timestamp', 'lat', 'lon', 'rawAltitude', 'altitude', 'velocity', 'beginDate', 'endDate'])\n",
    "temp1_df.set_index(['flightId', 'sequence'], inplace = True)\n",
    "\n",
    "filename = \"../Data/ESSA/2020/osn_ESSA_states_TMA_2020/osn_arrival_ESSA_states_TMA_2020_10_week2.csv\"\n",
    "temp2_df = pd.read_csv(filename, sep=' ',\n",
    "    names = ['flightId', 'sequence', 'timestamp', 'lat', 'lon', 'rawAltitude', 'altitude', 'velocity', 'beginDate', 'endDate'])\n",
    "temp2_df.set_index(['flightId', 'sequence'], inplace = True)\n",
    "\n",
    "filename = \"../Data/ESSA/2020/osn_ESSA_states_TMA_2020/osn_arrival_ESSA_states_TMA_2020_10_week3.csv\"\n",
    "temp3_df = pd.read_csv(filename, sep=' ',\n",
    "    names = ['flightId', 'sequence', 'timestamp', 'lat', 'lon', 'rawAltitude', 'altitude', 'velocity', 'beginDate', 'endDate'])\n",
    "temp3_df.set_index(['flightId', 'sequence'], inplace = True)\n",
    "\n",
    "filename = \"../Data/ESSA/2020/osn_ESSA_states_TMA_2020/osn_arrival_ESSA_states_TMA_2020_10_week4.csv\"\n",
    "temp4_df = pd.read_csv(filename, sep=' ',\n",
    "    names = ['flightId', 'sequence', 'timestamp', 'lat', 'lon', 'rawAltitude', 'altitude', 'velocity', 'beginDate', 'endDate'])\n",
    "temp4_df.set_index(['flightId', 'sequence'], inplace = True)\n",
    "\n",
    "filename = \"../Data/ESSA/2020/osn_ESSA_states_TMA_2020/osn_arrival_ESSA_states_TMA_2020_10_week5.csv\"\n",
    "temp5_df = pd.read_csv(filename, sep=' ',\n",
    "    names = ['flightId', 'sequence', 'timestamp', 'lat', 'lon', 'rawAltitude', 'altitude', 'velocity', 'beginDate', 'endDate'])\n",
    "temp5_df.set_index(['flightId', 'sequence'], inplace = True)"
   ]
  },
  {
   "cell_type": "code",
   "execution_count": 45,
   "metadata": {},
   "outputs": [
    {
     "name": "stdout",
     "output_type": "stream",
     "text": [
      "2804\n"
     ]
    }
   ],
   "source": [
    "len1 = len(temp1_df.groupby(level='flightId'))\n",
    "len2 = len(temp2_df.groupby(level='flightId'))\n",
    "len3 = len(temp3_df.groupby(level='flightId'))\n",
    "len4 = len(temp4_df.groupby(level='flightId'))\n",
    "len5 = len(temp5_df.groupby(level='flightId'))\n",
    "print(len1+len2+len3+len4+len5) #2804"
   ]
  },
  {
   "cell_type": "code",
   "execution_count": 46,
   "metadata": {},
   "outputs": [],
   "source": [
    "filename = \"../Data/ESSA/2020/osn_ESSA_states_TMA_2020/osn_arrival_ESSA_states_TMA_2020_11_week1.csv\"\n",
    "temp1_df = pd.read_csv(filename, sep=' ',\n",
    "    names = ['flightId', 'sequence', 'timestamp', 'lat', 'lon', 'rawAltitude', 'altitude', 'velocity', 'beginDate', 'endDate'])\n",
    "temp1_df.set_index(['flightId', 'sequence'], inplace = True)\n",
    "\n",
    "filename = \"../Data/ESSA/2020/osn_ESSA_states_TMA_2020/osn_arrival_ESSA_states_TMA_2020_11_week2.csv\"\n",
    "temp2_df = pd.read_csv(filename, sep=' ',\n",
    "    names = ['flightId', 'sequence', 'timestamp', 'lat', 'lon', 'rawAltitude', 'altitude', 'velocity', 'beginDate', 'endDate'])\n",
    "temp2_df.set_index(['flightId', 'sequence'], inplace = True)\n",
    "\n",
    "filename = \"../Data/ESSA/2020/osn_ESSA_states_TMA_2020/osn_arrival_ESSA_states_TMA_2020_11_week3.csv\"\n",
    "temp3_df = pd.read_csv(filename, sep=' ',\n",
    "    names = ['flightId', 'sequence', 'timestamp', 'lat', 'lon', 'rawAltitude', 'altitude', 'velocity', 'beginDate', 'endDate'])\n",
    "temp3_df.set_index(['flightId', 'sequence'], inplace = True)\n",
    "\n",
    "filename = \"../Data/ESSA/2020/osn_ESSA_states_TMA_2020/osn_arrival_ESSA_states_TMA_2020_11_week4.csv\"\n",
    "temp4_df = pd.read_csv(filename, sep=' ',\n",
    "    names = ['flightId', 'sequence', 'timestamp', 'lat', 'lon', 'rawAltitude', 'altitude', 'velocity', 'beginDate', 'endDate'])\n",
    "temp4_df.set_index(['flightId', 'sequence'], inplace = True)\n",
    "\n",
    "filename = \"../Data/ESSA/2020/osn_ESSA_states_TMA_2020/osn_arrival_ESSA_states_TMA_2020_11_week5.csv\"\n",
    "temp5_df = pd.read_csv(filename, sep=' ',\n",
    "    names = ['flightId', 'sequence', 'timestamp', 'lat', 'lon', 'rawAltitude', 'altitude', 'velocity', 'beginDate', 'endDate'])\n",
    "temp5_df.set_index(['flightId', 'sequence'], inplace = True)"
   ]
  },
  {
   "cell_type": "code",
   "execution_count": 47,
   "metadata": {},
   "outputs": [
    {
     "name": "stdout",
     "output_type": "stream",
     "text": [
      "2233\n"
     ]
    }
   ],
   "source": [
    "len1 = len(temp1_df.groupby(level='flightId'))\n",
    "len2 = len(temp2_df.groupby(level='flightId'))\n",
    "len3 = len(temp3_df.groupby(level='flightId'))\n",
    "len4 = len(temp4_df.groupby(level='flightId'))\n",
    "len5 = len(temp5_df.groupby(level='flightId'))\n",
    "print(len1+len2+len3+len4+len5) #2233"
   ]
  },
  {
   "cell_type": "code",
   "execution_count": 48,
   "metadata": {},
   "outputs": [],
   "source": [
    "filename = \"../Data/ESSA/2020/osn_ESSA_states_TMA_2020/osn_arrival_ESSA_states_TMA_2020_12_week1.csv\"\n",
    "temp1_df = pd.read_csv(filename, sep=' ',\n",
    "    names = ['flightId', 'sequence', 'timestamp', 'lat', 'lon', 'rawAltitude', 'altitude', 'velocity', 'beginDate', 'endDate'])\n",
    "temp1_df.set_index(['flightId', 'sequence'], inplace = True)\n",
    "\n",
    "filename = \"../Data/ESSA/2020/osn_ESSA_states_TMA_2020/osn_arrival_ESSA_states_TMA_2020_12_week2.csv\"\n",
    "temp2_df = pd.read_csv(filename, sep=' ',\n",
    "    names = ['flightId', 'sequence', 'timestamp', 'lat', 'lon', 'rawAltitude', 'altitude', 'velocity', 'beginDate', 'endDate'])\n",
    "temp2_df.set_index(['flightId', 'sequence'], inplace = True)\n",
    "\n",
    "filename = \"../Data/ESSA/2020/osn_ESSA_states_TMA_2020/osn_arrival_ESSA_states_TMA_2020_12_week3.csv\"\n",
    "temp3_df = pd.read_csv(filename, sep=' ',\n",
    "    names = ['flightId', 'sequence', 'timestamp', 'lat', 'lon', 'rawAltitude', 'altitude', 'velocity', 'beginDate', 'endDate'])\n",
    "temp3_df.set_index(['flightId', 'sequence'], inplace = True)\n",
    "\n",
    "filename = \"../Data/ESSA/2020/osn_ESSA_states_TMA_2020/osn_arrival_ESSA_states_TMA_2020_12_week4.csv\"\n",
    "temp4_df = pd.read_csv(filename, sep=' ',\n",
    "    names = ['flightId', 'sequence', 'timestamp', 'lat', 'lon', 'rawAltitude', 'altitude', 'velocity', 'beginDate', 'endDate'])\n",
    "temp4_df.set_index(['flightId', 'sequence'], inplace = True)\n",
    "\n",
    "filename = \"../Data/ESSA/2020/osn_ESSA_states_TMA_2020/osn_arrival_ESSA_states_TMA_2020_12_week5.csv\"\n",
    "temp5_df = pd.read_csv(filename, sep=' ',\n",
    "    names = ['flightId', 'sequence', 'timestamp', 'lat', 'lon', 'rawAltitude', 'altitude', 'velocity', 'beginDate', 'endDate'])\n",
    "temp5_df.set_index(['flightId', 'sequence'], inplace = True)"
   ]
  },
  {
   "cell_type": "code",
   "execution_count": 49,
   "metadata": {},
   "outputs": [
    {
     "name": "stdout",
     "output_type": "stream",
     "text": [
      "2073\n"
     ]
    }
   ],
   "source": [
    "len1 = len(temp1_df.groupby(level='flightId'))\n",
    "len2 = len(temp2_df.groupby(level='flightId'))\n",
    "len3 = len(temp3_df.groupby(level='flightId'))\n",
    "len4 = len(temp4_df.groupby(level='flightId'))\n",
    "len5 = len(temp5_df.groupby(level='flightId'))\n",
    "print(len1+len2+len3+len4+len5) #2073"
   ]
  }
 ],
 "metadata": {
  "kernelspec": {
   "display_name": "Python 3",
   "language": "python",
   "name": "python3"
  },
  "language_info": {
   "codemirror_mode": {
    "name": "ipython",
    "version": 3
   },
   "file_extension": ".py",
   "mimetype": "text/x-python",
   "name": "python",
   "nbconvert_exporter": "python",
   "pygments_lexer": "ipython3",
   "version": "3.8.8"
  }
 },
 "nbformat": 4,
 "nbformat_minor": 2
}
