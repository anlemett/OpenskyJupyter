{
 "cells": [
  {
   "cell_type": "code",
   "execution_count": 1,
   "metadata": {},
   "outputs": [],
   "source": [
    "%matplotlib inline\n",
    "\n",
    "import numpy as np\n",
    "import pandas as pd\n",
    "import matplotlib.pyplot as plt\n",
    "import seaborn as sns\n",
    "\n",
    "from datetime import datetime\n",
    "from datetime import timezone\n",
    "\n",
    "from math import cos, radians"
   ]
  },
  {
   "cell_type": "markdown",
   "metadata": {},
   "source": [
    "# Data uploading"
   ]
  },
  {
   "cell_type": "code",
   "execution_count": 2,
   "metadata": {},
   "outputs": [
    {
     "ename": "FileNotFoundError",
     "evalue": "[Errno 2] No such file or directory: '../Data/ESGG/2019/osn_ESGG_tracks_aroundTMA_2019/osn_departure_ESGG_tracks_aroundTMA_2019_01_week1.csv'",
     "output_type": "error",
     "traceback": [
      "\u001b[0;31m---------------------------------------------------------------------------\u001b[0m",
      "\u001b[0;31mFileNotFoundError\u001b[0m                         Traceback (most recent call last)",
      "\u001b[0;32m<ipython-input-2-4e8db288777b>\u001b[0m in \u001b[0;36m<module>\u001b[0;34m\u001b[0m\n\u001b[1;32m      1\u001b[0m \u001b[0mfilename\u001b[0m \u001b[0;34m=\u001b[0m \u001b[0;34m\"../Data/ESGG/2019/osn_ESGG_tracks_aroundTMA_2019/osn_departure_ESGG_tracks_aroundTMA_2019_01_week1.csv\"\u001b[0m\u001b[0;34m\u001b[0m\u001b[0;34m\u001b[0m\u001b[0m\n\u001b[1;32m      2\u001b[0m \u001b[0;34m\u001b[0m\u001b[0m\n\u001b[0;32m----> 3\u001b[0;31m temp1_df = pd.read_csv(filename, sep=' ',\n\u001b[0m\u001b[1;32m      4\u001b[0m     names = ['flightId', 'sequence', 'destination', 'beginDate', 'callsign', 'icao24', 'timestamp', 'lat', 'lon', 'baroAltitude'])\n\u001b[1;32m      5\u001b[0m \u001b[0mtemp1_df\u001b[0m\u001b[0;34m.\u001b[0m\u001b[0mset_index\u001b[0m\u001b[0;34m(\u001b[0m\u001b[0;34m[\u001b[0m\u001b[0;34m'flightId'\u001b[0m\u001b[0;34m,\u001b[0m \u001b[0;34m'sequence'\u001b[0m\u001b[0;34m]\u001b[0m\u001b[0;34m,\u001b[0m \u001b[0minplace\u001b[0m \u001b[0;34m=\u001b[0m \u001b[0;32mTrue\u001b[0m\u001b[0;34m)\u001b[0m\u001b[0;34m\u001b[0m\u001b[0;34m\u001b[0m\u001b[0m\n",
      "\u001b[0;32m~/anaconda3/lib/python3.8/site-packages/pandas/io/parsers.py\u001b[0m in \u001b[0;36mread_csv\u001b[0;34m(filepath_or_buffer, sep, delimiter, header, names, index_col, usecols, squeeze, prefix, mangle_dupe_cols, dtype, engine, converters, true_values, false_values, skipinitialspace, skiprows, skipfooter, nrows, na_values, keep_default_na, na_filter, verbose, skip_blank_lines, parse_dates, infer_datetime_format, keep_date_col, date_parser, dayfirst, cache_dates, iterator, chunksize, compression, thousands, decimal, lineterminator, quotechar, quoting, doublequote, escapechar, comment, encoding, dialect, error_bad_lines, warn_bad_lines, delim_whitespace, low_memory, memory_map, float_precision, storage_options)\u001b[0m\n\u001b[1;32m    608\u001b[0m     \u001b[0mkwds\u001b[0m\u001b[0;34m.\u001b[0m\u001b[0mupdate\u001b[0m\u001b[0;34m(\u001b[0m\u001b[0mkwds_defaults\u001b[0m\u001b[0;34m)\u001b[0m\u001b[0;34m\u001b[0m\u001b[0;34m\u001b[0m\u001b[0m\n\u001b[1;32m    609\u001b[0m \u001b[0;34m\u001b[0m\u001b[0m\n\u001b[0;32m--> 610\u001b[0;31m     \u001b[0;32mreturn\u001b[0m \u001b[0m_read\u001b[0m\u001b[0;34m(\u001b[0m\u001b[0mfilepath_or_buffer\u001b[0m\u001b[0;34m,\u001b[0m \u001b[0mkwds\u001b[0m\u001b[0;34m)\u001b[0m\u001b[0;34m\u001b[0m\u001b[0;34m\u001b[0m\u001b[0m\n\u001b[0m\u001b[1;32m    611\u001b[0m \u001b[0;34m\u001b[0m\u001b[0m\n\u001b[1;32m    612\u001b[0m \u001b[0;34m\u001b[0m\u001b[0m\n",
      "\u001b[0;32m~/anaconda3/lib/python3.8/site-packages/pandas/io/parsers.py\u001b[0m in \u001b[0;36m_read\u001b[0;34m(filepath_or_buffer, kwds)\u001b[0m\n\u001b[1;32m    460\u001b[0m \u001b[0;34m\u001b[0m\u001b[0m\n\u001b[1;32m    461\u001b[0m     \u001b[0;31m# Create the parser.\u001b[0m\u001b[0;34m\u001b[0m\u001b[0;34m\u001b[0m\u001b[0;34m\u001b[0m\u001b[0m\n\u001b[0;32m--> 462\u001b[0;31m     \u001b[0mparser\u001b[0m \u001b[0;34m=\u001b[0m \u001b[0mTextFileReader\u001b[0m\u001b[0;34m(\u001b[0m\u001b[0mfilepath_or_buffer\u001b[0m\u001b[0;34m,\u001b[0m \u001b[0;34m**\u001b[0m\u001b[0mkwds\u001b[0m\u001b[0;34m)\u001b[0m\u001b[0;34m\u001b[0m\u001b[0;34m\u001b[0m\u001b[0m\n\u001b[0m\u001b[1;32m    463\u001b[0m \u001b[0;34m\u001b[0m\u001b[0m\n\u001b[1;32m    464\u001b[0m     \u001b[0;32mif\u001b[0m \u001b[0mchunksize\u001b[0m \u001b[0;32mor\u001b[0m \u001b[0miterator\u001b[0m\u001b[0;34m:\u001b[0m\u001b[0;34m\u001b[0m\u001b[0;34m\u001b[0m\u001b[0m\n",
      "\u001b[0;32m~/anaconda3/lib/python3.8/site-packages/pandas/io/parsers.py\u001b[0m in \u001b[0;36m__init__\u001b[0;34m(self, f, engine, **kwds)\u001b[0m\n\u001b[1;32m    817\u001b[0m             \u001b[0mself\u001b[0m\u001b[0;34m.\u001b[0m\u001b[0moptions\u001b[0m\u001b[0;34m[\u001b[0m\u001b[0;34m\"has_index_names\"\u001b[0m\u001b[0;34m]\u001b[0m \u001b[0;34m=\u001b[0m \u001b[0mkwds\u001b[0m\u001b[0;34m[\u001b[0m\u001b[0;34m\"has_index_names\"\u001b[0m\u001b[0;34m]\u001b[0m\u001b[0;34m\u001b[0m\u001b[0;34m\u001b[0m\u001b[0m\n\u001b[1;32m    818\u001b[0m \u001b[0;34m\u001b[0m\u001b[0m\n\u001b[0;32m--> 819\u001b[0;31m         \u001b[0mself\u001b[0m\u001b[0;34m.\u001b[0m\u001b[0m_engine\u001b[0m \u001b[0;34m=\u001b[0m \u001b[0mself\u001b[0m\u001b[0;34m.\u001b[0m\u001b[0m_make_engine\u001b[0m\u001b[0;34m(\u001b[0m\u001b[0mself\u001b[0m\u001b[0;34m.\u001b[0m\u001b[0mengine\u001b[0m\u001b[0;34m)\u001b[0m\u001b[0;34m\u001b[0m\u001b[0;34m\u001b[0m\u001b[0m\n\u001b[0m\u001b[1;32m    820\u001b[0m \u001b[0;34m\u001b[0m\u001b[0m\n\u001b[1;32m    821\u001b[0m     \u001b[0;32mdef\u001b[0m \u001b[0mclose\u001b[0m\u001b[0;34m(\u001b[0m\u001b[0mself\u001b[0m\u001b[0;34m)\u001b[0m\u001b[0;34m:\u001b[0m\u001b[0;34m\u001b[0m\u001b[0;34m\u001b[0m\u001b[0m\n",
      "\u001b[0;32m~/anaconda3/lib/python3.8/site-packages/pandas/io/parsers.py\u001b[0m in \u001b[0;36m_make_engine\u001b[0;34m(self, engine)\u001b[0m\n\u001b[1;32m   1048\u001b[0m             )\n\u001b[1;32m   1049\u001b[0m         \u001b[0;31m# error: Too many arguments for \"ParserBase\"\u001b[0m\u001b[0;34m\u001b[0m\u001b[0;34m\u001b[0m\u001b[0;34m\u001b[0m\u001b[0m\n\u001b[0;32m-> 1050\u001b[0;31m         \u001b[0;32mreturn\u001b[0m \u001b[0mmapping\u001b[0m\u001b[0;34m[\u001b[0m\u001b[0mengine\u001b[0m\u001b[0;34m]\u001b[0m\u001b[0;34m(\u001b[0m\u001b[0mself\u001b[0m\u001b[0;34m.\u001b[0m\u001b[0mf\u001b[0m\u001b[0;34m,\u001b[0m \u001b[0;34m**\u001b[0m\u001b[0mself\u001b[0m\u001b[0;34m.\u001b[0m\u001b[0moptions\u001b[0m\u001b[0;34m)\u001b[0m  \u001b[0;31m# type: ignore[call-arg]\u001b[0m\u001b[0;34m\u001b[0m\u001b[0;34m\u001b[0m\u001b[0m\n\u001b[0m\u001b[1;32m   1051\u001b[0m \u001b[0;34m\u001b[0m\u001b[0m\n\u001b[1;32m   1052\u001b[0m     \u001b[0;32mdef\u001b[0m \u001b[0m_failover_to_python\u001b[0m\u001b[0;34m(\u001b[0m\u001b[0mself\u001b[0m\u001b[0;34m)\u001b[0m\u001b[0;34m:\u001b[0m\u001b[0;34m\u001b[0m\u001b[0;34m\u001b[0m\u001b[0m\n",
      "\u001b[0;32m~/anaconda3/lib/python3.8/site-packages/pandas/io/parsers.py\u001b[0m in \u001b[0;36m__init__\u001b[0;34m(self, src, **kwds)\u001b[0m\n\u001b[1;32m   1865\u001b[0m \u001b[0;34m\u001b[0m\u001b[0m\n\u001b[1;32m   1866\u001b[0m         \u001b[0;31m# open handles\u001b[0m\u001b[0;34m\u001b[0m\u001b[0;34m\u001b[0m\u001b[0;34m\u001b[0m\u001b[0m\n\u001b[0;32m-> 1867\u001b[0;31m         \u001b[0mself\u001b[0m\u001b[0;34m.\u001b[0m\u001b[0m_open_handles\u001b[0m\u001b[0;34m(\u001b[0m\u001b[0msrc\u001b[0m\u001b[0;34m,\u001b[0m \u001b[0mkwds\u001b[0m\u001b[0;34m)\u001b[0m\u001b[0;34m\u001b[0m\u001b[0;34m\u001b[0m\u001b[0m\n\u001b[0m\u001b[1;32m   1868\u001b[0m         \u001b[0;32massert\u001b[0m \u001b[0mself\u001b[0m\u001b[0;34m.\u001b[0m\u001b[0mhandles\u001b[0m \u001b[0;32mis\u001b[0m \u001b[0;32mnot\u001b[0m \u001b[0;32mNone\u001b[0m\u001b[0;34m\u001b[0m\u001b[0;34m\u001b[0m\u001b[0m\n\u001b[1;32m   1869\u001b[0m         \u001b[0;32mfor\u001b[0m \u001b[0mkey\u001b[0m \u001b[0;32min\u001b[0m \u001b[0;34m(\u001b[0m\u001b[0;34m\"storage_options\"\u001b[0m\u001b[0;34m,\u001b[0m \u001b[0;34m\"encoding\"\u001b[0m\u001b[0;34m,\u001b[0m \u001b[0;34m\"memory_map\"\u001b[0m\u001b[0;34m,\u001b[0m \u001b[0;34m\"compression\"\u001b[0m\u001b[0;34m)\u001b[0m\u001b[0;34m:\u001b[0m\u001b[0;34m\u001b[0m\u001b[0;34m\u001b[0m\u001b[0m\n",
      "\u001b[0;32m~/anaconda3/lib/python3.8/site-packages/pandas/io/parsers.py\u001b[0m in \u001b[0;36m_open_handles\u001b[0;34m(self, src, kwds)\u001b[0m\n\u001b[1;32m   1360\u001b[0m         \u001b[0mLet\u001b[0m \u001b[0mthe\u001b[0m \u001b[0mreaders\u001b[0m \u001b[0mopen\u001b[0m \u001b[0mIOHanldes\u001b[0m \u001b[0mafter\u001b[0m \u001b[0mthey\u001b[0m \u001b[0mare\u001b[0m \u001b[0mdone\u001b[0m \u001b[0;32mwith\u001b[0m \u001b[0mtheir\u001b[0m \u001b[0mpotential\u001b[0m \u001b[0mraises\u001b[0m\u001b[0;34m.\u001b[0m\u001b[0;34m\u001b[0m\u001b[0;34m\u001b[0m\u001b[0m\n\u001b[1;32m   1361\u001b[0m         \"\"\"\n\u001b[0;32m-> 1362\u001b[0;31m         self.handles = get_handle(\n\u001b[0m\u001b[1;32m   1363\u001b[0m             \u001b[0msrc\u001b[0m\u001b[0;34m,\u001b[0m\u001b[0;34m\u001b[0m\u001b[0;34m\u001b[0m\u001b[0m\n\u001b[1;32m   1364\u001b[0m             \u001b[0;34m\"r\"\u001b[0m\u001b[0;34m,\u001b[0m\u001b[0;34m\u001b[0m\u001b[0;34m\u001b[0m\u001b[0m\n",
      "\u001b[0;32m~/anaconda3/lib/python3.8/site-packages/pandas/io/common.py\u001b[0m in \u001b[0;36mget_handle\u001b[0;34m(path_or_buf, mode, encoding, compression, memory_map, is_text, errors, storage_options)\u001b[0m\n\u001b[1;32m    640\u001b[0m                 \u001b[0merrors\u001b[0m \u001b[0;34m=\u001b[0m \u001b[0;34m\"replace\"\u001b[0m\u001b[0;34m\u001b[0m\u001b[0;34m\u001b[0m\u001b[0m\n\u001b[1;32m    641\u001b[0m             \u001b[0;31m# Encoding\u001b[0m\u001b[0;34m\u001b[0m\u001b[0;34m\u001b[0m\u001b[0;34m\u001b[0m\u001b[0m\n\u001b[0;32m--> 642\u001b[0;31m             handle = open(\n\u001b[0m\u001b[1;32m    643\u001b[0m                 \u001b[0mhandle\u001b[0m\u001b[0;34m,\u001b[0m\u001b[0;34m\u001b[0m\u001b[0;34m\u001b[0m\u001b[0m\n\u001b[1;32m    644\u001b[0m                 \u001b[0mioargs\u001b[0m\u001b[0;34m.\u001b[0m\u001b[0mmode\u001b[0m\u001b[0;34m,\u001b[0m\u001b[0;34m\u001b[0m\u001b[0;34m\u001b[0m\u001b[0m\n",
      "\u001b[0;31mFileNotFoundError\u001b[0m: [Errno 2] No such file or directory: '../Data/ESGG/2019/osn_ESGG_tracks_aroundTMA_2019/osn_departure_ESGG_tracks_aroundTMA_2019_01_week1.csv'"
     ]
    }
   ],
   "source": [
    "filename = \"../Data/ESGG/2019/osn_ESGG_tracks_aroundTMA_2019/osn_departure_ESGG_tracks_aroundTMA_2019_01_week1.csv\"\n",
    "\n",
    "temp1_df = pd.read_csv(filename, sep=' ',\n",
    "    names = ['flightId', 'sequence', 'destination', 'beginDate', 'callsign', 'icao24', 'timestamp', 'lat', 'lon', 'baroAltitude'])\n",
    "temp1_df.set_index(['flightId', 'sequence'], inplace = True)\n",
    "\n",
    "filename = \"../Data/ESGG/2019/osn_ESGG_tracks_aroundTMA_2019/osn_departure_ESGG_tracks_aroundTMA_2019_01_week2.csv\"\n",
    "temp2_df = pd.read_csv(filename, sep=' ',\n",
    "    names = ['flightId', 'sequence', 'destination', 'beginDate', 'callsign', 'icao24', 'timestamp', 'lat', 'lon', 'baroAltitude'])\n",
    "temp2_df.set_index(['flightId', 'sequence'], inplace = True)\n",
    "\n",
    "filename = \"../Data/ESGG/2019/osn_ESGG_tracks_aroundTMA_2019/osn_departure_ESGG_tracks_aroundTMA_2019_01_week3.csv\"\n",
    "temp3_df = pd.read_csv(filename, sep=' ',\n",
    "    names = ['flightId', 'sequence', 'destination', 'beginDate', 'callsign', 'icao24', 'timestamp', 'lat', 'lon', 'baroAltitude'])\n",
    "temp3_df.set_index(['flightId', 'sequence'], inplace = True)\n",
    "\n",
    "filename = \"../Data/ESGG/2019/osn_ESGG_tracks_aroundTMA_2019/osn_departure_ESGG_tracks_aroundTMA_2019_01_week4.csv\"\n",
    "temp4_df = pd.read_csv(filename, sep=' ',\n",
    "    names = ['flightId', 'sequence', 'destination', 'beginDate', 'callsign', 'icao24', 'timestamp', 'lat', 'lon', 'baroAltitude'])\n",
    "temp4_df.set_index(['flightId', 'sequence'], inplace = True)\n",
    "\n",
    "filename = \"../Data/ESGG/2019/osn_ESGG_tracks_aroundTMA_2019/osn_departure_ESGG_tracks_aroundTMA_2019_01_week5.csv\"\n",
    "temp5_df = pd.read_csv(filename, sep=' ',\n",
    "    names = ['flightId', 'sequence', 'destination', 'beginDate', 'callsign', 'icao24', 'timestamp', 'lat', 'lon', 'baroAltitude'])\n",
    "temp5_df.set_index(['flightId', 'sequence'], inplace = True)"
   ]
  },
  {
   "cell_type": "code",
   "execution_count": null,
   "metadata": {},
   "outputs": [],
   "source": [
    "len1 = len(temp1_df.groupby(level='flightId'))\n",
    "len2 = len(temp2_df.groupby(level='flightId'))\n",
    "len3 = len(temp3_df.groupby(level='flightId'))\n",
    "len4 = len(temp4_df.groupby(level='flightId'))\n",
    "len5 = len(temp5_df.groupby(level='flightId'))\n",
    "print(len1+len2+len3+len4+len5) #"
   ]
  },
  {
   "cell_type": "code",
   "execution_count": null,
   "metadata": {},
   "outputs": [],
   "source": [
    "filename = \"../Data/ESGG/2019/osn_ESGG_tracks_aroundTMA_2019/osn_departure_ESGG_tracks_aroundTMA_2019_02_week1.csv\"\n",
    "temp1_df = pd.read_csv(filename, sep=' ',\n",
    "    names = ['flightId', 'sequence', 'destination', 'beginDate', 'callsign', 'icao24', 'timestamp', 'lat', 'lon', 'baroAltitude'])\n",
    "temp1_df.set_index(['flightId', 'sequence'], inplace = True)\n",
    "\n",
    "filename = \"../Data/ESGG/2019/osn_ESGG_tracks_aroundTMA_2019/osn_departure_ESGG_tracks_aroundTMA_2019_02_week2.csv\"\n",
    "temp2_df = pd.read_csv(filename, sep=' ',\n",
    "    names = ['flightId', 'sequence', 'destination', 'beginDate', 'callsign', 'icao24', 'timestamp', 'lat', 'lon', 'baroAltitude'])\n",
    "temp2_df.set_index(['flightId', 'sequence'], inplace = True)\n",
    "\n",
    "filename = \"../Data/ESGG/2019/osn_ESGG_tracks_aroundTMA_2019/osn_departure_ESGG_tracks_aroundTMA_2019_02_week3.csv\"\n",
    "temp3_df = pd.read_csv(filename, sep=' ',\n",
    "    names = ['flightId', 'sequence', 'destination', 'beginDate', 'callsign', 'icao24', 'timestamp', 'lat', 'lon', 'baroAltitude'])\n",
    "temp3_df.set_index(['flightId', 'sequence'], inplace = True)\n",
    "\n",
    "filename = \"../Data/ESGG/2019/osn_ESGG_tracks_aroundTMA_2019/osn_departure_ESGG_tracks_aroundTMA_2019_02_week4.csv\"\n",
    "temp4_df = pd.read_csv(filename, sep=' ',\n",
    "    names = ['flightId', 'sequence', 'destination', 'beginDate', 'callsign', 'icao24', 'timestamp', 'lat', 'lon', 'baroAltitude'])\n",
    "temp4_df.set_index(['flightId', 'sequence'], inplace = True)"
   ]
  },
  {
   "cell_type": "code",
   "execution_count": null,
   "metadata": {},
   "outputs": [],
   "source": [
    "len1 = len(temp1_df.groupby(level='flightId'))\n",
    "len2 = len(temp2_df.groupby(level='flightId'))\n",
    "len3 = len(temp3_df.groupby(level='flightId'))\n",
    "len4 = len(temp4_df.groupby(level='flightId'))\n",
    "print(len1+len2+len3+len4) #"
   ]
  },
  {
   "cell_type": "code",
   "execution_count": null,
   "metadata": {},
   "outputs": [],
   "source": [
    "filename = \"../Data/ESGG/2019/osn_ESGG_tracks_aroundTMA_2019/osn_departure_ESGG_tracks_aroundTMA_2019_03_week1.csv\"\n",
    "temp1_df = pd.read_csv(filename, sep=' ',\n",
    "    names = ['flightId', 'sequence', 'destination', 'beginDate', 'callsign', 'icao24', 'timestamp', 'lat', 'lon', 'baroAltitude'])\n",
    "temp1_df.set_index(['flightId', 'sequence'], inplace = True)\n",
    "\n",
    "filename = \"../Data/ESGG/2019/osn_ESGG_tracks_aroundTMA_2019/osn_departure_ESGG_tracks_aroundTMA_2019_03_week2.csv\"\n",
    "temp2_df = pd.read_csv(filename, sep=' ',\n",
    "    names = ['flightId', 'sequence', 'destination', 'beginDate', 'callsign', 'icao24', 'timestamp', 'lat', 'lon', 'baroAltitude'])\n",
    "temp2_df.set_index(['flightId', 'sequence'], inplace = True)\n",
    "\n",
    "filename = \"../Data/ESGG/2019/osn_ESGG_tracks_aroundTMA_2019/osn_departure_ESGG_tracks_aroundTMA_2019_03_week3.csv\"\n",
    "temp3_df = pd.read_csv(filename, sep=' ',\n",
    "    names = ['flightId', 'sequence', 'destination', 'beginDate', 'callsign', 'icao24', 'timestamp', 'lat', 'lon', 'baroAltitude'])\n",
    "temp3_df.set_index(['flightId', 'sequence'], inplace = True)\n",
    "\n",
    "filename = \"../Data/ESGG/2019/osn_ESGG_tracks_aroundTMA_2019/osn_departure_ESGG_tracks_aroundTMA_2019_03_week4.csv\"\n",
    "temp4_df = pd.read_csv(filename, sep=' ',\n",
    "    names = ['flightId', 'sequence', 'destination', 'beginDate', 'callsign', 'icao24', 'timestamp', 'lat', 'lon', 'baroAltitude'])\n",
    "temp4_df.set_index(['flightId', 'sequence'], inplace = True)\n",
    "\n",
    "filename = \"../Data/ESGG/2019/osn_ESGG_tracks_aroundTMA_2019/osn_departure_ESGG_tracks_aroundTMA_2019_03_week5.csv\"\n",
    "temp5_df = pd.read_csv(filename, sep=' ',\n",
    "    names = ['flightId', 'sequence', 'destination', 'beginDate', 'callsign', 'icao24', 'timestamp', 'lat', 'lon', 'baroAltitude'])\n",
    "temp5_df.set_index(['flightId', 'sequence'], inplace = True)"
   ]
  },
  {
   "cell_type": "code",
   "execution_count": null,
   "metadata": {},
   "outputs": [],
   "source": [
    "len1 = len(temp1_df.groupby(level='flightId'))\n",
    "len2 = len(temp2_df.groupby(level='flightId'))\n",
    "len3 = len(temp3_df.groupby(level='flightId'))\n",
    "len4 = len(temp4_df.groupby(level='flightId'))\n",
    "len5 = len(temp5_df.groupby(level='flightId'))\n",
    "print(len1+len2+len3+len4+len5) #"
   ]
  },
  {
   "cell_type": "code",
   "execution_count": 19,
   "metadata": {},
   "outputs": [],
   "source": [
    "filename = \"../Data/ESGG/2019/osn_ESGG_tracks_aroundTMA_2019/osn_departure_ESGG_tracks_aroundTMA_2019_04_week1.csv\"\n",
    "temp1_df = pd.read_csv(filename, sep=' ',\n",
    "    names = ['flightId', 'sequence', 'destination', 'beginDate', 'callsign', 'icao24', 'timestamp', 'lat', 'lon', 'baroAltitude'])\n",
    "temp1_df.set_index(['flightId', 'sequence'], inplace = True)\n",
    "\n",
    "filename = \"../Data/ESGG/2019/osn_ESGG_tracks_aroundTMA_2019/osn_departure_ESGG_tracks_aroundTMA_2019_04_week2.csv\"\n",
    "temp2_df = pd.read_csv(filename, sep=' ',\n",
    "    names = ['flightId', 'sequence', 'destination', 'beginDate', 'callsign', 'icao24', 'timestamp', 'lat', 'lon', 'baroAltitude'])\n",
    "temp2_df.set_index(['flightId', 'sequence'], inplace = True)\n",
    "\n",
    "filename = \"../Data/ESGG/2019/osn_ESGG_tracks_aroundTMA_2019/osn_departure_ESGG_tracks_aroundTMA_2019_04_week3.csv\"\n",
    "temp3_df = pd.read_csv(filename, sep=' ',\n",
    "    names = ['flightId', 'sequence', 'destination', 'beginDate', 'callsign', 'icao24', 'timestamp', 'lat', 'lon', 'baroAltitude'])\n",
    "temp3_df.set_index(['flightId', 'sequence'], inplace = True)\n",
    "\n",
    "filename = \"../Data/ESGG/2019/osn_ESGG_tracks_aroundTMA_2019/osn_departure_ESGG_tracks_aroundTMA_2019_04_week4.csv\"\n",
    "temp4_df = pd.read_csv(filename, sep=' ',\n",
    "    names = ['flightId', 'sequence', 'destination', 'beginDate', 'callsign', 'icao24', 'timestamp', 'lat', 'lon', 'baroAltitude'])\n",
    "temp4_df.set_index(['flightId', 'sequence'], inplace = True)\n",
    "\n",
    "filename = \"../Data/ESGG/2019/osn_ESGG_tracks_aroundTMA_2019/osn_departure_ESGG_tracks_aroundTMA_2019_04_week5.csv\"\n",
    "temp5_df = pd.read_csv(filename, sep=' ',\n",
    "    names = ['flightId', 'sequence', 'destination', 'beginDate', 'callsign', 'icao24', 'timestamp', 'lat', 'lon', 'baroAltitude'])\n",
    "temp5_df.set_index(['flightId', 'sequence'], inplace = True)"
   ]
  },
  {
   "cell_type": "code",
   "execution_count": 20,
   "metadata": {},
   "outputs": [
    {
     "name": "stdout",
     "output_type": "stream",
     "text": [
      "2329\n"
     ]
    }
   ],
   "source": [
    "len1 = len(temp1_df.groupby(level='flightId'))\n",
    "len2 = len(temp2_df.groupby(level='flightId'))\n",
    "len3 = len(temp3_df.groupby(level='flightId'))\n",
    "len4 = len(temp4_df.groupby(level='flightId'))\n",
    "len5 = len(temp5_df.groupby(level='flightId'))\n",
    "print(len1+len2+len3+len4+len5) #2329"
   ]
  },
  {
   "cell_type": "code",
   "execution_count": 3,
   "metadata": {},
   "outputs": [],
   "source": [
    "filename = \"../Data/ESGG/2019/osn_ESGG_tracks_aroundTMA_2019/osn_departure_ESGG_tracks_aroundTMA_2019_05_week1.csv\"\n",
    "temp1_df = pd.read_csv(filename, sep=' ',\n",
    "    names = ['flightId', 'sequence', 'destination', 'beginDate', 'callsign', 'icao24', 'timestamp', 'lat', 'lon', 'baroAltitude'])\n",
    "temp1_df.set_index(['flightId', 'sequence'], inplace = True)\n",
    "\n",
    "filename = \"../Data/ESGG/2019/osn_ESGG_tracks_aroundTMA_2019/osn_departure_ESGG_tracks_aroundTMA_2019_05_week2.csv\"\n",
    "temp2_df = pd.read_csv(filename, sep=' ',\n",
    "    names = ['flightId', 'sequence', 'destination', 'beginDate', 'callsign', 'icao24', 'timestamp', 'lat', 'lon', 'baroAltitude'])\n",
    "temp2_df.set_index(['flightId', 'sequence'], inplace = True)\n",
    "\n",
    "filename = \"../Data/ESGG/2019/osn_ESGG_tracks_aroundTMA_2019/osn_departure_ESGG_tracks_aroundTMA_2019_05_week3.csv\"\n",
    "temp3_df = pd.read_csv(filename, sep=' ',\n",
    "    names = ['flightId', 'sequence', 'destination', 'beginDate', 'callsign', 'icao24', 'timestamp', 'lat', 'lon', 'baroAltitude'])\n",
    "temp3_df.set_index(['flightId', 'sequence'], inplace = True)\n",
    "\n",
    "filename = \"../Data/ESGG/2019/osn_ESGG_tracks_aroundTMA_2019/osn_departure_ESGG_tracks_aroundTMA_2019_05_week4.csv\"\n",
    "temp4_df = pd.read_csv(filename, sep=' ',\n",
    "    names = ['flightId', 'sequence', 'destination', 'beginDate', 'callsign', 'icao24', 'timestamp', 'lat', 'lon', 'baroAltitude'])\n",
    "temp4_df.set_index(['flightId', 'sequence'], inplace = True)\n",
    "\n",
    "filename = \"../Data/ESGG/2019/osn_ESGG_tracks_aroundTMA_2019/osn_departure_ESGG_tracks_aroundTMA_2019_05_week5.csv\"\n",
    "temp5_df = pd.read_csv(filename, sep=' ',\n",
    "    names = ['flightId', 'sequence', 'destination', 'beginDate', 'callsign', 'icao24', 'timestamp', 'lat', 'lon', 'baroAltitude'])\n",
    "temp5_df.set_index(['flightId', 'sequence'], inplace = True)"
   ]
  },
  {
   "cell_type": "code",
   "execution_count": 4,
   "metadata": {},
   "outputs": [
    {
     "name": "stdout",
     "output_type": "stream",
     "text": [
      "2475\n"
     ]
    }
   ],
   "source": [
    "len1 = len(temp1_df.groupby(level='flightId'))\n",
    "len2 = len(temp2_df.groupby(level='flightId'))\n",
    "len3 = len(temp3_df.groupby(level='flightId'))\n",
    "len4 = len(temp4_df.groupby(level='flightId'))\n",
    "len5 = len(temp5_df.groupby(level='flightId'))\n",
    "print(len1+len2+len3+len4+len5) #2475"
   ]
  },
  {
   "cell_type": "code",
   "execution_count": 5,
   "metadata": {},
   "outputs": [],
   "source": [
    "filename = \"../Data/ESGG/2019/osn_ESGG_tracks_aroundTMA_2019/osn_departure_ESGG_tracks_aroundTMA_2019_06_week1.csv\"\n",
    "temp1_df = pd.read_csv(filename, sep=' ',\n",
    "    names = ['flightId', 'sequence', 'destination', 'beginDate', 'callsign', 'icao24', 'timestamp', 'lat', 'lon', 'baroAltitude'])\n",
    "temp1_df.set_index(['flightId', 'sequence'], inplace = True)\n",
    "\n",
    "filename = \"../Data/ESGG/2019/osn_ESGG_tracks_aroundTMA_2019/osn_departure_ESGG_tracks_aroundTMA_2019_06_week2.csv\"\n",
    "temp2_df = pd.read_csv(filename, sep=' ',\n",
    "    names = ['flightId', 'sequence', 'destination', 'beginDate', 'callsign', 'icao24', 'timestamp', 'lat', 'lon', 'baroAltitude'])\n",
    "temp2_df.set_index(['flightId', 'sequence'], inplace = True)\n",
    "\n",
    "filename = \"../Data/ESGG/2019/osn_ESGG_tracks_aroundTMA_2019/osn_departure_ESGG_tracks_aroundTMA_2019_06_week3.csv\"\n",
    "temp3_df = pd.read_csv(filename, sep=' ',\n",
    "    names = ['flightId', 'sequence', 'destination', 'beginDate', 'callsign', 'icao24', 'timestamp', 'lat', 'lon', 'baroAltitude'])\n",
    "temp3_df.set_index(['flightId', 'sequence'], inplace = True)\n",
    "\n",
    "filename = \"../Data/ESGG/2019/osn_ESGG_tracks_aroundTMA_2019/osn_departure_ESGG_tracks_aroundTMA_2019_06_week4.csv\"\n",
    "temp4_df = pd.read_csv(filename, sep=' ',\n",
    "    names = ['flightId', 'sequence', 'destination', 'beginDate', 'callsign', 'icao24', 'timestamp', 'lat', 'lon', 'baroAltitude'])\n",
    "temp4_df.set_index(['flightId', 'sequence'], inplace = True)\n",
    "\n",
    "filename = \"../Data/ESGG/2019/osn_ESGG_tracks_aroundTMA_2019/osn_departure_ESGG_tracks_aroundTMA_2019_06_week5.csv\"\n",
    "temp5_df = pd.read_csv(filename, sep=' ',\n",
    "    names = ['flightId', 'sequence', 'destination', 'beginDate', 'callsign', 'icao24', 'timestamp', 'lat', 'lon', 'baroAltitude'])\n",
    "temp5_df.set_index(['flightId', 'sequence'], inplace = True)"
   ]
  },
  {
   "cell_type": "code",
   "execution_count": 6,
   "metadata": {},
   "outputs": [
    {
     "name": "stdout",
     "output_type": "stream",
     "text": [
      "2429\n"
     ]
    }
   ],
   "source": [
    "len1 = len(temp1_df.groupby(level='flightId'))\n",
    "len2 = len(temp2_df.groupby(level='flightId'))\n",
    "len3 = len(temp3_df.groupby(level='flightId'))\n",
    "len4 = len(temp4_df.groupby(level='flightId'))\n",
    "len5 = len(temp5_df.groupby(level='flightId'))\n",
    "print(len1+len2+len3+len4+len5) #2429"
   ]
  },
  {
   "cell_type": "code",
   "execution_count": 7,
   "metadata": {},
   "outputs": [],
   "source": [
    "filename = \"../Data/ESGG/2019/osn_ESGG_tracks_aroundTMA_2019/osn_departure_ESGG_tracks_aroundTMA_2019_07_week1.csv\"\n",
    "temp1_df = pd.read_csv(filename, sep=' ',\n",
    "    names = ['flightId', 'sequence', 'destination', 'beginDate', 'callsign', 'icao24', 'timestamp', 'lat', 'lon', 'baroAltitude'])\n",
    "temp1_df.set_index(['flightId', 'sequence'], inplace = True)\n",
    "\n",
    "filename = \"../Data/ESGG/2019/osn_ESGG_tracks_aroundTMA_2019/osn_departure_ESGG_tracks_aroundTMA_2019_07_week2.csv\"\n",
    "temp2_df = pd.read_csv(filename, sep=' ',\n",
    "    names = ['flightId', 'sequence', 'destination', 'beginDate', 'callsign', 'icao24', 'timestamp', 'lat', 'lon', 'baroAltitude'])\n",
    "temp2_df.set_index(['flightId', 'sequence'], inplace = True)\n",
    "\n",
    "filename = \"../Data/ESGG/2019/osn_ESGG_tracks_aroundTMA_2019/osn_departure_ESGG_tracks_aroundTMA_2019_07_week3.csv\"\n",
    "temp3_df = pd.read_csv(filename, sep=' ',\n",
    "    names = ['flightId', 'sequence', 'destination', 'beginDate', 'callsign', 'icao24', 'timestamp', 'lat', 'lon', 'baroAltitude'])\n",
    "temp3_df.set_index(['flightId', 'sequence'], inplace = True)\n",
    "\n",
    "filename = \"../Data/ESGG/2019/osn_ESGG_tracks_aroundTMA_2019/osn_departure_ESGG_tracks_aroundTMA_2019_07_week4.csv\"\n",
    "temp4_df = pd.read_csv(filename, sep=' ',\n",
    "    names = ['flightId', 'sequence', 'destination', 'beginDate', 'callsign', 'icao24', 'timestamp', 'lat', 'lon', 'baroAltitude'])\n",
    "temp4_df.set_index(['flightId', 'sequence'], inplace = True)\n",
    "\n",
    "filename = \"../Data/ESGG/2019/osn_ESGG_tracks_aroundTMA_2019/osn_departure_ESGG_tracks_aroundTMA_2019_07_week5.csv\"\n",
    "temp5_df = pd.read_csv(filename, sep=' ',\n",
    "    names = ['flightId', 'sequence', 'destination', 'beginDate', 'callsign', 'icao24', 'timestamp', 'lat', 'lon', 'baroAltitude'])\n",
    "temp5_df.set_index(['flightId', 'sequence'], inplace = True)"
   ]
  },
  {
   "cell_type": "code",
   "execution_count": 8,
   "metadata": {},
   "outputs": [
    {
     "name": "stdout",
     "output_type": "stream",
     "text": [
      "2507\n"
     ]
    }
   ],
   "source": [
    "len1 = len(temp1_df.groupby(level='flightId'))\n",
    "len2 = len(temp2_df.groupby(level='flightId'))\n",
    "len3 = len(temp3_df.groupby(level='flightId'))\n",
    "len4 = len(temp4_df.groupby(level='flightId'))\n",
    "len5 = len(temp5_df.groupby(level='flightId'))\n",
    "print(len1+len2+len3+len4+len5) #2507"
   ]
  },
  {
   "cell_type": "code",
   "execution_count": 9,
   "metadata": {},
   "outputs": [],
   "source": [
    "filename = \"../Data/ESGG/2019/osn_ESGG_tracks_aroundTMA_2019/osn_departure_ESGG_tracks_aroundTMA_2019_08_week1.csv\"\n",
    "temp1_df = pd.read_csv(filename, sep=' ',\n",
    "    names = ['flightId', 'sequence', 'destination', 'beginDate', 'callsign', 'icao24', 'timestamp', 'lat', 'lon', 'baroAltitude'])\n",
    "temp1_df.set_index(['flightId', 'sequence'], inplace = True)\n",
    "\n",
    "filename = \"../Data/ESGG/2019/osn_ESGG_tracks_aroundTMA_2019/osn_departure_ESGG_tracks_aroundTMA_2019_08_week2.csv\"\n",
    "temp2_df = pd.read_csv(filename, sep=' ',\n",
    "    names = ['flightId', 'sequence', 'destination', 'beginDate', 'callsign', 'icao24', 'timestamp', 'lat', 'lon', 'baroAltitude'])\n",
    "temp2_df.set_index(['flightId', 'sequence'], inplace = True)\n",
    "\n",
    "filename = \"../Data/ESGG/2019/osn_ESGG_tracks_aroundTMA_2019/osn_departure_ESGG_tracks_aroundTMA_2019_08_week3.csv\"\n",
    "temp3_df = pd.read_csv(filename, sep=' ',\n",
    "    names = ['flightId', 'sequence', 'destination', 'beginDate', 'callsign', 'icao24', 'timestamp', 'lat', 'lon', 'baroAltitude'])\n",
    "temp3_df.set_index(['flightId', 'sequence'], inplace = True)\n",
    "\n",
    "filename = \"../Data/ESGG/2019/osn_ESGG_tracks_aroundTMA_2019/osn_departure_ESGG_tracks_aroundTMA_2019_08_week4.csv\"\n",
    "temp4_df = pd.read_csv(filename, sep=' ',\n",
    "    names = ['flightId', 'sequence', 'destination', 'beginDate', 'callsign', 'icao24', 'timestamp', 'lat', 'lon', 'baroAltitude'])\n",
    "temp4_df.set_index(['flightId', 'sequence'], inplace = True)\n",
    "\n",
    "filename = \"../Data/ESGG/2019/osn_ESGG_tracks_aroundTMA_2019/osn_departure_ESGG_tracks_aroundTMA_2019_08_week5.csv\"\n",
    "temp5_df = pd.read_csv(filename, sep=' ',\n",
    "    names = ['flightId', 'sequence', 'destination', 'beginDate', 'callsign', 'icao24', 'timestamp', 'lat', 'lon', 'baroAltitude'])\n",
    "temp5_df.set_index(['flightId', 'sequence'], inplace = True)"
   ]
  },
  {
   "cell_type": "code",
   "execution_count": 10,
   "metadata": {},
   "outputs": [
    {
     "name": "stdout",
     "output_type": "stream",
     "text": [
      "2509\n"
     ]
    }
   ],
   "source": [
    "len1 = len(temp1_df.groupby(level='flightId'))\n",
    "len2 = len(temp2_df.groupby(level='flightId'))\n",
    "len3 = len(temp3_df.groupby(level='flightId'))\n",
    "len4 = len(temp4_df.groupby(level='flightId'))\n",
    "len5 = len(temp5_df.groupby(level='flightId'))\n",
    "print(len1+len2+len3+len4+len5) #2509"
   ]
  },
  {
   "cell_type": "code",
   "execution_count": 11,
   "metadata": {},
   "outputs": [],
   "source": [
    "filename = \"../Data/ESGG/2019/osn_ESGG_tracks_aroundTMA_2019/osn_departure_ESGG_tracks_aroundTMA_2019_09_week1.csv\"\n",
    "temp1_df = pd.read_csv(filename, sep=' ',\n",
    "    names = ['flightId', 'sequence', 'destination', 'beginDate', 'callsign', 'icao24', 'timestamp', 'lat', 'lon', 'baroAltitude'])\n",
    "temp1_df.set_index(['flightId', 'sequence'], inplace = True)\n",
    "\n",
    "filename = \"../Data/ESGG/2019/osn_ESGG_tracks_aroundTMA_2019/osn_departure_ESGG_tracks_aroundTMA_2019_09_week2.csv\"\n",
    "temp2_df = pd.read_csv(filename, sep=' ',\n",
    "    names = ['flightId', 'sequence', 'destination', 'beginDate', 'callsign', 'icao24', 'timestamp', 'lat', 'lon', 'baroAltitude'])\n",
    "temp2_df.set_index(['flightId', 'sequence'], inplace = True)\n",
    "\n",
    "filename = \"../Data/ESGG/2019/osn_ESGG_tracks_aroundTMA_2019/osn_departure_ESGG_tracks_aroundTMA_2019_09_week3.csv\"\n",
    "temp3_df = pd.read_csv(filename, sep=' ',\n",
    "    names = ['flightId', 'sequence', 'destination', 'beginDate', 'callsign', 'icao24', 'timestamp', 'lat', 'lon', 'baroAltitude'])\n",
    "temp3_df.set_index(['flightId', 'sequence'], inplace = True)\n",
    "\n",
    "filename = \"../Data/ESGG/2019/osn_ESGG_tracks_aroundTMA_2019/osn_departure_ESGG_tracks_aroundTMA_2019_09_week4.csv\"\n",
    "temp4_df = pd.read_csv(filename, sep=' ',\n",
    "    names = ['flightId', 'sequence', 'destination', 'beginDate', 'callsign', 'icao24', 'timestamp', 'lat', 'lon', 'baroAltitude'])\n",
    "temp4_df.set_index(['flightId', 'sequence'], inplace = True)\n",
    "\n",
    "filename = \"../Data/ESGG/2019/osn_ESGG_tracks_aroundTMA_2019/osn_departure_ESGG_tracks_aroundTMA_2019_09_week5.csv\"\n",
    "temp5_df = pd.read_csv(filename, sep=' ',\n",
    "    names = ['flightId', 'sequence', 'destination', 'beginDate', 'callsign', 'icao24', 'timestamp', 'lat', 'lon', 'baroAltitude'])\n",
    "temp5_df.set_index(['flightId', 'sequence'], inplace = True)"
   ]
  },
  {
   "cell_type": "code",
   "execution_count": 12,
   "metadata": {},
   "outputs": [
    {
     "name": "stdout",
     "output_type": "stream",
     "text": [
      "2506\n"
     ]
    }
   ],
   "source": [
    "len1 = len(temp1_df.groupby(level='flightId'))\n",
    "len2 = len(temp2_df.groupby(level='flightId'))\n",
    "len3 = len(temp3_df.groupby(level='flightId'))\n",
    "len4 = len(temp4_df.groupby(level='flightId'))\n",
    "len5 = len(temp5_df.groupby(level='flightId'))\n",
    "print(len1+len2+len3+len4+len5) #2506"
   ]
  },
  {
   "cell_type": "code",
   "execution_count": 13,
   "metadata": {},
   "outputs": [],
   "source": [
    "filename = \"../Data/ESGG/2019/osn_ESGG_tracks_aroundTMA_2019/osn_departure_ESGG_tracks_aroundTMA_2019_10_week1.csv\"\n",
    "temp1_df = pd.read_csv(filename, sep=' ',\n",
    "    names = ['flightId', 'sequence', 'destination', 'beginDate', 'callsign', 'icao24', 'timestamp', 'lat', 'lon', 'baroAltitude'])\n",
    "temp1_df.set_index(['flightId', 'sequence'], inplace = True)\n",
    "\n",
    "filename = \"../Data/ESGG/2019/osn_ESGG_tracks_aroundTMA_2019/osn_departure_ESGG_tracks_aroundTMA_2019_10_week2.csv\"\n",
    "temp2_df = pd.read_csv(filename, sep=' ',\n",
    "    names = ['flightId', 'sequence', 'destination', 'beginDate', 'callsign', 'icao24', 'timestamp', 'lat', 'lon', 'baroAltitude'])\n",
    "temp2_df.set_index(['flightId', 'sequence'], inplace = True)\n",
    "\n",
    "filename = \"../Data/ESGG/2019/osn_ESGG_tracks_aroundTMA_2019/osn_departure_ESGG_tracks_aroundTMA_2019_10_week3.csv\"\n",
    "temp3_df = pd.read_csv(filename, sep=' ',\n",
    "    names = ['flightId', 'sequence', 'destination', 'beginDate', 'callsign', 'icao24', 'timestamp', 'lat', 'lon', 'baroAltitude'])\n",
    "temp3_df.set_index(['flightId', 'sequence'], inplace = True)\n",
    "\n",
    "filename = \"../Data/ESGG/2019/osn_ESGG_tracks_aroundTMA_2019/osn_departure_ESGG_tracks_aroundTMA_2019_10_week4.csv\"\n",
    "temp4_df = pd.read_csv(filename, sep=' ',\n",
    "    names = ['flightId', 'sequence', 'destination', 'beginDate', 'callsign', 'icao24', 'timestamp', 'lat', 'lon', 'baroAltitude'])\n",
    "temp4_df.set_index(['flightId', 'sequence'], inplace = True)\n",
    "\n",
    "filename = \"../Data/ESGG/2019/osn_ESGG_tracks_aroundTMA_2019/osn_departure_ESGG_tracks_aroundTMA_2019_10_week5.csv\"\n",
    "temp5_df = pd.read_csv(filename, sep=' ',\n",
    "    names = ['flightId', 'sequence', 'destination', 'beginDate', 'callsign', 'icao24', 'timestamp', 'lat', 'lon', 'baroAltitude'])\n",
    "temp5_df.set_index(['flightId', 'sequence'], inplace = True)"
   ]
  },
  {
   "cell_type": "code",
   "execution_count": 14,
   "metadata": {},
   "outputs": [
    {
     "name": "stdout",
     "output_type": "stream",
     "text": [
      "2564\n"
     ]
    }
   ],
   "source": [
    "len1 = len(temp1_df.groupby(level='flightId'))\n",
    "len2 = len(temp2_df.groupby(level='flightId'))\n",
    "len3 = len(temp3_df.groupby(level='flightId'))\n",
    "len4 = len(temp4_df.groupby(level='flightId'))\n",
    "len5 = len(temp5_df.groupby(level='flightId'))\n",
    "print(len1+len2+len3+len4+len5) #2564"
   ]
  },
  {
   "cell_type": "code",
   "execution_count": 15,
   "metadata": {},
   "outputs": [],
   "source": [
    "filename = \"../Data/ESGG/2019/osn_ESGG_tracks_aroundTMA_2019/osn_departure_ESGG_tracks_aroundTMA_2019_11_week1.csv\"\n",
    "temp1_df = pd.read_csv(filename, sep=' ',\n",
    "    names = ['flightId', 'sequence', 'destination', 'beginDate', 'callsign', 'icao24', 'timestamp', 'lat', 'lon', 'baroAltitude'])\n",
    "temp1_df.set_index(['flightId', 'sequence'], inplace = True)\n",
    "\n",
    "filename = \"../Data/ESGG/2019/osn_ESGG_tracks_aroundTMA_2019/osn_departure_ESGG_tracks_aroundTMA_2019_11_week2.csv\"\n",
    "temp2_df = pd.read_csv(filename, sep=' ',\n",
    "    names = ['flightId', 'sequence', 'destination', 'beginDate', 'callsign', 'icao24', 'timestamp', 'lat', 'lon', 'baroAltitude'])\n",
    "temp2_df.set_index(['flightId', 'sequence'], inplace = True)\n",
    "\n",
    "filename = \"../Data/ESGG/2019/osn_ESGG_tracks_aroundTMA_2019/osn_departure_ESGG_tracks_aroundTMA_2019_11_week3.csv\"\n",
    "temp3_df = pd.read_csv(filename, sep=' ',\n",
    "    names = ['flightId', 'sequence', 'destination', 'beginDate', 'callsign', 'icao24', 'timestamp', 'lat', 'lon', 'baroAltitude'])\n",
    "temp3_df.set_index(['flightId', 'sequence'], inplace = True)\n",
    "\n",
    "filename = \"../Data/ESGG/2019/osn_ESGG_tracks_aroundTMA_2019/osn_departure_ESGG_tracks_aroundTMA_2019_11_week4.csv\"\n",
    "temp4_df = pd.read_csv(filename, sep=' ',\n",
    "    names = ['flightId', 'sequence', 'destination', 'beginDate', 'callsign', 'icao24', 'timestamp', 'lat', 'lon', 'baroAltitude'])\n",
    "temp4_df.set_index(['flightId', 'sequence'], inplace = True)\n",
    "\n",
    "filename = \"../Data/ESGG/2019/osn_ESGG_tracks_aroundTMA_2019/osn_departure_ESGG_tracks_aroundTMA_2019_11_week5.csv\"\n",
    "temp5_df = pd.read_csv(filename, sep=' ',\n",
    "    names = ['flightId', 'sequence', 'destination', 'beginDate', 'callsign', 'icao24', 'timestamp', 'lat', 'lon', 'baroAltitude'])\n",
    "temp5_df.set_index(['flightId', 'sequence'], inplace = True)"
   ]
  },
  {
   "cell_type": "code",
   "execution_count": 16,
   "metadata": {},
   "outputs": [
    {
     "name": "stdout",
     "output_type": "stream",
     "text": [
      "2141\n"
     ]
    }
   ],
   "source": [
    "len1 = len(temp1_df.groupby(level='flightId'))\n",
    "len2 = len(temp2_df.groupby(level='flightId'))\n",
    "len3 = len(temp3_df.groupby(level='flightId'))\n",
    "len4 = len(temp4_df.groupby(level='flightId'))\n",
    "len5 = len(temp5_df.groupby(level='flightId'))\n",
    "print(len1+len2+len3+len4+len5) #2141"
   ]
  },
  {
   "cell_type": "code",
   "execution_count": 17,
   "metadata": {},
   "outputs": [],
   "source": [
    "filename = \"../Data/ESGG/2019/osn_ESGG_tracks_aroundTMA_2019/osn_departure_ESGG_tracks_aroundTMA_2019_12_week1.csv\"\n",
    "temp1_df = pd.read_csv(filename, sep=' ',\n",
    "    names = ['flightId', 'sequence', 'destination', 'beginDate', 'callsign', 'icao24', 'timestamp', 'lat', 'lon', 'baroAltitude'])\n",
    "temp1_df.set_index(['flightId', 'sequence'], inplace = True)\n",
    "\n",
    "filename = \"../Data/ESGG/2019/osn_ESGG_tracks_aroundTMA_2019/osn_departure_ESGG_tracks_aroundTMA_2019_12_week2.csv\"\n",
    "temp2_df = pd.read_csv(filename, sep=' ',\n",
    "    names = ['flightId', 'sequence', 'destination', 'beginDate', 'callsign', 'icao24', 'timestamp', 'lat', 'lon', 'baroAltitude'])\n",
    "temp2_df.set_index(['flightId', 'sequence'], inplace = True)\n",
    "\n",
    "filename = \"../Data/ESGG/2019/osn_ESGG_tracks_aroundTMA_2019/osn_departure_ESGG_tracks_aroundTMA_2019_12_week3.csv\"\n",
    "temp3_df = pd.read_csv(filename, sep=' ',\n",
    "    names = ['flightId', 'sequence', 'destination', 'beginDate', 'callsign', 'icao24', 'timestamp', 'lat', 'lon', 'baroAltitude'])\n",
    "temp3_df.set_index(['flightId', 'sequence'], inplace = True)\n",
    "\n",
    "filename = \"../Data/ESGG/2019/osn_ESGG_tracks_aroundTMA_2019/osn_departure_ESGG_tracks_aroundTMA_2019_12_week4.csv\"\n",
    "temp4_df = pd.read_csv(filename, sep=' ',\n",
    "    names = ['flightId', 'sequence', 'destination', 'beginDate', 'callsign', 'icao24', 'timestamp', 'lat', 'lon', 'baroAltitude'])\n",
    "temp4_df.set_index(['flightId', 'sequence'], inplace = True)\n",
    "\n",
    "filename = \"../Data/ESGG/2019/osn_ESGG_tracks_aroundTMA_2019/osn_departure_ESGG_tracks_aroundTMA_2019_12_week5.csv\"\n",
    "temp5_df = pd.read_csv(filename, sep=' ',\n",
    "    names = ['flightId', 'sequence', 'destination', 'beginDate', 'callsign', 'icao24', 'timestamp', 'lat', 'lon', 'baroAltitude'])\n",
    "temp5_df.set_index(['flightId', 'sequence'], inplace = True)"
   ]
  },
  {
   "cell_type": "code",
   "execution_count": 18,
   "metadata": {},
   "outputs": [
    {
     "name": "stdout",
     "output_type": "stream",
     "text": [
      "2021\n"
     ]
    }
   ],
   "source": [
    "len1 = len(temp1_df.groupby(level='flightId'))\n",
    "len2 = len(temp2_df.groupby(level='flightId'))\n",
    "len3 = len(temp3_df.groupby(level='flightId'))\n",
    "len4 = len(temp4_df.groupby(level='flightId'))\n",
    "len5 = len(temp5_df.groupby(level='flightId'))\n",
    "print(len1+len2+len3+len4+len5) #2021"
   ]
  },
  {
   "cell_type": "code",
   "execution_count": null,
   "metadata": {},
   "outputs": [],
   "source": [
    "filename = \"../Data/ESGG/2020/osn_ESGG_tracks_aroundTMA_2020/osn_departure_ESGG_tracks_aroundTMA_2020_01_week1.csv\"\n",
    "temp1_df = pd.read_csv(filename, sep=' ',\n",
    "    names = ['flightId', 'sequence', 'destination', 'beginDate', 'callsign', 'icao24', 'timestamp', 'lat', 'lon', 'baroAltitude'])\n",
    "temp1_df.set_index(['flightId', 'sequence'], inplace = True)\n",
    "\n",
    "filename = \"../Data/ESGG/2020/osn_ESGG_tracks_aroundTMA_2020/osn_departure_ESGG_tracks_aroundTMA_2020_01_week2.csv\"\n",
    "temp2_df = pd.read_csv(filename, sep=' ',\n",
    "    names = ['flightId', 'sequence', 'destination', 'beginDate', 'callsign', 'icao24', 'timestamp', 'lat', 'lon', 'baroAltitude'])\n",
    "temp2_df.set_index(['flightId', 'sequence'], inplace = True)\n",
    "\n",
    "filename = \"../Data/ESGG/2020/osn_ESGG_tracks_aroundTMA_2020/osn_departure_ESGG_tracks_aroundTMA_2020_01_week3.csv\"\n",
    "temp3_df = pd.read_csv(filename, sep=' ',\n",
    "    names = ['flightId', 'sequence', 'destination', 'beginDate', 'callsign', 'icao24', 'timestamp', 'lat', 'lon', 'baroAltitude'])\n",
    "temp3_df.set_index(['flightId', 'sequence'], inplace = True)\n",
    "\n",
    "filename = \"../Data/ESGG/2020/osn_ESGG_tracks_aroundTMA_2020/osn_departure_ESGG_tracks_aroundTMA_2020_01_week4.csv\"\n",
    "temp4_df = pd.read_csv(filename, sep=' ',\n",
    "    names = ['flightId', 'sequence', 'destination', 'beginDate', 'callsign', 'icao24', 'timestamp', 'lat', 'lon', 'baroAltitude'])\n",
    "temp4_df.set_index(['flightId', 'sequence'], inplace = True)\n",
    "\n",
    "filename = \"../Data/ESGG/2020/osn_ESGG_tracks_aroundTMA_2020/osn_departure_ESGG_tracks_aroundTMA_2020_01_week5.csv\"\n",
    "temp5_df = pd.read_csv(filename, sep=' ',\n",
    "    names = ['flightId', 'sequence', 'destination', 'beginDate', 'callsign', 'icao24', 'timestamp', 'lat', 'lon', 'baroAltitude'])\n",
    "temp5_df.set_index(['flightId', 'sequence'], inplace = True)"
   ]
  },
  {
   "cell_type": "code",
   "execution_count": null,
   "metadata": {},
   "outputs": [],
   "source": [
    "len1 = len(temp1_df.groupby(level='flightId'))\n",
    "len2 = len(temp2_df.groupby(level='flightId'))\n",
    "len3 = len(temp3_df.groupby(level='flightId'))\n",
    "len4 = len(temp4_df.groupby(level='flightId'))\n",
    "len5 = len(temp5_df.groupby(level='flightId'))\n",
    "print(len1+len2+len3+len4+len5) #2070"
   ]
  },
  {
   "cell_type": "code",
   "execution_count": null,
   "metadata": {},
   "outputs": [],
   "source": [
    "filename = \"../Data/ESGG/2020/osn_ESGG_tracks_aroundTMA_2020/osn_departure_ESGG_tracks_aroundTMA_2020_02_week1.csv\"\n",
    "temp1_df = pd.read_csv(filename, sep=' ',\n",
    "    names = ['flightId', 'sequence', 'destination', 'beginDate', 'callsign', 'icao24', 'timestamp', 'lat', 'lon', 'baroAltitude'])\n",
    "temp1_df.set_index(['flightId', 'sequence'], inplace = True)\n",
    "\n",
    "filename = \"../Data/ESGG/2020/osn_ESGG_tracks_aroundTMA_2020/osn_departure_ESGG_tracks_aroundTMA_2020_02_week2.csv\"\n",
    "temp2_df = pd.read_csv(filename, sep=' ',\n",
    "    names = ['flightId', 'sequence', 'destination', 'beginDate', 'callsign', 'icao24', 'timestamp', 'lat', 'lon', 'baroAltitude'])\n",
    "temp2_df.set_index(['flightId', 'sequence'], inplace = True)\n",
    "\n",
    "filename = \"../Data/ESGG/2020/osn_ESGG_tracks_aroundTMA_2020/osn_departure_ESGG_tracks_aroundTMA_2020_02_week3.csv\"\n",
    "temp3_df = pd.read_csv(filename, sep=' ',\n",
    "    names = ['flightId', 'sequence', 'destination', 'beginDate', 'callsign', 'icao24', 'timestamp', 'lat', 'lon', 'baroAltitude'])\n",
    "temp3_df.set_index(['flightId', 'sequence'], inplace = True)\n",
    "\n",
    "filename = \"../Data/ESGG/2020/osn_ESGG_tracks_aroundTMA_2020/osn_departure_ESGG_tracks_aroundTMA_2020_02_week4.csv\"\n",
    "temp4_df = pd.read_csv(filename, sep=' ',\n",
    "    names = ['flightId', 'sequence', 'destination', 'beginDate', 'callsign', 'icao24', 'timestamp', 'lat', 'lon', 'baroAltitude'])\n",
    "temp4_df.set_index(['flightId', 'sequence'], inplace = True)\n",
    "\n",
    "filename = \"../Data/ESGG/2020/osn_ESGG_tracks_aroundTMA_2020/osn_departure_ESGG_tracks_aroundTMA_2020_02_week5.csv\"\n",
    "temp5_df = pd.read_csv(filename, sep=' ',\n",
    "    names = ['flightId', 'sequence', 'destination', 'beginDate', 'callsign', 'icao24', 'timestamp', 'lat', 'lon', 'baroAltitude'])\n",
    "temp5_df.set_index(['flightId', 'sequence'], inplace = True)"
   ]
  },
  {
   "cell_type": "code",
   "execution_count": null,
   "metadata": {},
   "outputs": [],
   "source": [
    "len1 = len(temp1_df.groupby(level='flightId'))\n",
    "len2 = len(temp2_df.groupby(level='flightId'))\n",
    "len3 = len(temp3_df.groupby(level='flightId'))\n",
    "len4 = len(temp4_df.groupby(level='flightId'))\n",
    "len5 = len(temp5_df.groupby(level='flightId'))\n",
    "print(len1+len2+len3+len4+len5) #1963"
   ]
  },
  {
   "cell_type": "code",
   "execution_count": null,
   "metadata": {},
   "outputs": [],
   "source": [
    "filename = \"../Data/ESGG/2020/osn_ESGG_tracks_aroundTMA_2020/osn_departure_ESGG_tracks_aroundTMA_2020_03_week1.csv\"\n",
    "temp1_df = pd.read_csv(filename, sep=' ',\n",
    "    names = ['flightId', 'sequence', 'destination', 'beginDate', 'callsign', 'icao24', 'timestamp', 'lat', 'lon', 'baroAltitude'])\n",
    "temp1_df.set_index(['flightId', 'sequence'], inplace = True)\n",
    "\n",
    "filename = \"../Data/ESGG/2020/osn_ESGG_tracks_aroundTMA_2020/osn_departure_ESGG_tracks_aroundTMA_2020_03_week2.csv\"\n",
    "temp2_df = pd.read_csv(filename, sep=' ',\n",
    "    names = ['flightId', 'sequence', 'destination', 'beginDate', 'callsign', 'icao24', 'timestamp', 'lat', 'lon', 'baroAltitude'])\n",
    "temp2_df.set_index(['flightId', 'sequence'], inplace = True)\n",
    "\n",
    "filename = \"../Data/ESGG/2020/osn_ESGG_tracks_aroundTMA_2020/osn_departure_ESGG_tracks_aroundTMA_2020_03_week3.csv\"\n",
    "temp3_df = pd.read_csv(filename, sep=' ',\n",
    "    names = ['flightId', 'sequence', 'destination', 'beginDate', 'callsign', 'icao24', 'timestamp', 'lat', 'lon', 'baroAltitude'])\n",
    "temp3_df.set_index(['flightId', 'sequence'], inplace = True)\n",
    "\n",
    "filename = \"../Data/ESGG/2020/osn_ESGG_tracks_aroundTMA_2020/osn_departure_ESGG_tracks_aroundTMA_2020_03_week4.csv\"\n",
    "temp4_df = pd.read_csv(filename, sep=' ',\n",
    "    names = ['flightId', 'sequence', 'destination', 'beginDate', 'callsign', 'icao24', 'timestamp', 'lat', 'lon', 'baroAltitude'])\n",
    "temp4_df.set_index(['flightId', 'sequence'], inplace = True)\n",
    "\n",
    "filename = \"../Data/ESGG/2020/osn_ESGG_tracks_aroundTMA_2020/osn_departure_ESGG_tracks_aroundTMA_2020_03_week5.csv\"\n",
    "temp5_df = pd.read_csv(filename, sep=' ',\n",
    "    names = ['flightId', 'sequence', 'destination', 'beginDate', 'callsign', 'icao24', 'timestamp', 'lat', 'lon', 'baroAltitude'])\n",
    "temp5_df.set_index(['flightId', 'sequence'], inplace = True)"
   ]
  },
  {
   "cell_type": "code",
   "execution_count": null,
   "metadata": {},
   "outputs": [],
   "source": [
    "len1 = len(temp1_df.groupby(level='flightId'))\n",
    "len2 = len(temp2_df.groupby(level='flightId'))\n",
    "len3 = len(temp3_df.groupby(level='flightId'))\n",
    "len4 = len(temp4_df.groupby(level='flightId'))\n",
    "len5 = len(temp5_df.groupby(level='flightId'))\n",
    "print(len1+len2+len3+len4+len5) #1319"
   ]
  },
  {
   "cell_type": "code",
   "execution_count": null,
   "metadata": {},
   "outputs": [],
   "source": [
    "filename = \"../Data/ESGG/2020/osn_ESGG_tracks_aroundTMA_2020/osn_departure_ESGG_tracks_aroundTMA_2020_04_week1.csv\"\n",
    "temp1_df = pd.read_csv(filename, sep=' ',\n",
    "    names = ['flightId', 'sequence', 'destination', 'beginDate', 'callsign', 'icao24', 'timestamp', 'lat', 'lon', 'baroAltitude'])\n",
    "temp1_df.set_index(['flightId', 'sequence'], inplace = True)\n",
    "\n",
    "filename = \"../Data/ESGG/2020/osn_ESGG_tracks_aroundTMA_2020/osn_departure_ESGG_tracks_aroundTMA_2020_04_week2.csv\"\n",
    "temp2_df = pd.read_csv(filename, sep=' ',\n",
    "    names = ['flightId', 'sequence', 'destination', 'beginDate', 'callsign', 'icao24', 'timestamp', 'lat', 'lon', 'baroAltitude'])\n",
    "temp2_df.set_index(['flightId', 'sequence'], inplace = True)\n",
    "\n",
    "filename = \"../Data/ESGG/2020/osn_ESGG_tracks_aroundTMA_2020/osn_departure_ESGG_tracks_aroundTMA_2020_04_week3.csv\"\n",
    "temp3_df = pd.read_csv(filename, sep=' ',\n",
    "    names = ['flightId', 'sequence', 'destination', 'beginDate', 'callsign', 'icao24', 'timestamp', 'lat', 'lon', 'baroAltitude'])\n",
    "temp3_df.set_index(['flightId', 'sequence'], inplace = True)\n",
    "\n",
    "filename = \"../Data/ESGG/2020/osn_ESGG_tracks_aroundTMA_2020/osn_departure_ESGG_tracks_aroundTMA_2020_04_week4.csv\"\n",
    "temp4_df = pd.read_csv(filename, sep=' ',\n",
    "    names = ['flightId', 'sequence', 'destination', 'beginDate', 'callsign', 'icao24', 'timestamp', 'lat', 'lon', 'baroAltitude'])\n",
    "temp4_df.set_index(['flightId', 'sequence'], inplace = True)\n",
    "\n",
    "filename = \"../Data/ESGG/2020/osn_ESGG_tracks_aroundTMA_2020/osn_departure_ESGG_tracks_aroundTMA_2020_04_week5.csv\"\n",
    "temp5_df = pd.read_csv(filename, sep=' ',\n",
    "    names = ['flightId', 'sequence', 'destination', 'beginDate', 'callsign', 'icao24', 'timestamp', 'lat', 'lon', 'baroAltitude'])\n",
    "temp5_df.set_index(['flightId', 'sequence'], inplace = True)"
   ]
  },
  {
   "cell_type": "code",
   "execution_count": null,
   "metadata": {},
   "outputs": [],
   "source": [
    "len1 = len(temp1_df.groupby(level='flightId'))\n",
    "len2 = len(temp2_df.groupby(level='flightId'))\n",
    "len3 = len(temp3_df.groupby(level='flightId'))\n",
    "len4 = len(temp4_df.groupby(level='flightId'))\n",
    "len5 = len(temp5_df.groupby(level='flightId'))\n",
    "print(len1+len2+len3+len4+len5) #123"
   ]
  },
  {
   "cell_type": "code",
   "execution_count": null,
   "metadata": {},
   "outputs": [],
   "source": [
    "filename = \"../Data/ESGG/2020/osn_ESGG_tracks_aroundTMA_2020/osn_departure_ESGG_tracks_aroundTMA_2020_05_week1.csv\"\n",
    "temp1_df = pd.read_csv(filename, sep=' ',\n",
    "    names = ['flightId', 'sequence', 'destination', 'beginDate', 'callsign', 'icao24', 'timestamp', 'lat', 'lon', 'baroAltitude'])\n",
    "temp1_df.set_index(['flightId', 'sequence'], inplace = True)\n",
    "\n",
    "filename = \"../Data/ESGG/2020/osn_ESGG_tracks_aroundTMA_2020/osn_departure_ESGG_tracks_aroundTMA_2020_05_week2.csv\"\n",
    "temp2_df = pd.read_csv(filename, sep=' ',\n",
    "    names = ['flightId', 'sequence', 'destination', 'beginDate', 'callsign', 'icao24', 'timestamp', 'lat', 'lon', 'baroAltitude'])\n",
    "temp2_df.set_index(['flightId', 'sequence'], inplace = True)\n",
    "\n",
    "filename = \"../Data/ESGG/2020/osn_ESGG_tracks_aroundTMA_2020/osn_departure_ESGG_tracks_aroundTMA_2020_05_week3.csv\"\n",
    "temp3_df = pd.read_csv(filename, sep=' ',\n",
    "    names = ['flightId', 'sequence', 'destination', 'beginDate', 'callsign', 'icao24', 'timestamp', 'lat', 'lon', 'baroAltitude'])\n",
    "temp3_df.set_index(['flightId', 'sequence'], inplace = True)\n",
    "\n",
    "filename = \"../Data/ESGG/2020/osn_ESGG_tracks_aroundTMA_2020/osn_departure_ESGG_tracks_aroundTMA_2020_05_week4.csv\"\n",
    "temp4_df = pd.read_csv(filename, sep=' ',\n",
    "    names = ['flightId', 'sequence', 'destination', 'beginDate', 'callsign', 'icao24', 'timestamp', 'lat', 'lon', 'baroAltitude'])\n",
    "temp4_df.set_index(['flightId', 'sequence'], inplace = True)\n",
    "\n",
    "filename = \"../Data/ESGG/2020/osn_ESGG_tracks_aroundTMA_2020/osn_departure_ESGG_tracks_aroundTMA_2020_05_week5.csv\"\n",
    "temp5_df = pd.read_csv(filename, sep=' ',\n",
    "    names = ['flightId', 'sequence', 'destination', 'beginDate', 'callsign', 'icao24', 'timestamp', 'lat', 'lon', 'baroAltitude'])\n",
    "temp5_df.set_index(['flightId', 'sequence'], inplace = True)"
   ]
  },
  {
   "cell_type": "code",
   "execution_count": null,
   "metadata": {},
   "outputs": [],
   "source": [
    "len1 = len(temp1_df.groupby(level='flightId'))\n",
    "len2 = len(temp2_df.groupby(level='flightId'))\n",
    "len3 = len(temp3_df.groupby(level='flightId'))\n",
    "len4 = len(temp4_df.groupby(level='flightId'))\n",
    "len5 = len(temp5_df.groupby(level='flightId'))\n",
    "print(len1+len2+len3+len4+len5) #159"
   ]
  },
  {
   "cell_type": "code",
   "execution_count": null,
   "metadata": {},
   "outputs": [],
   "source": [
    "filename = \"../Data/ESGG/2020/osn_ESGG_tracks_aroundTMA_2020/osn_departure_ESGG_tracks_aroundTMA_2020_06_week1.csv\"\n",
    "temp1_df = pd.read_csv(filename, sep=' ',\n",
    "    names = ['flightId', 'sequence', 'destination', 'beginDate', 'callsign', 'icao24', 'timestamp', 'lat', 'lon', 'baroAltitude'])\n",
    "temp1_df.set_index(['flightId', 'sequence'], inplace = True)\n",
    "\n",
    "filename = \"../Data/ESGG/2020/osn_ESGG_tracks_aroundTMA_2020/osn_departure_ESGG_tracks_aroundTMA_2020_06_week2.csv\"\n",
    "temp2_df = pd.read_csv(filename, sep=' ',\n",
    "    names = ['flightId', 'sequence', 'destination', 'beginDate', 'callsign', 'icao24', 'timestamp', 'lat', 'lon', 'baroAltitude'])\n",
    "temp2_df.set_index(['flightId', 'sequence'], inplace = True)\n",
    "\n",
    "filename = \"../Data/ESGG/2020/osn_ESGG_tracks_aroundTMA_2020/osn_departure_ESGG_tracks_aroundTMA_2020_06_week3.csv\"\n",
    "temp3_df = pd.read_csv(filename, sep=' ',\n",
    "    names = ['flightId', 'sequence', 'destination', 'beginDate', 'callsign', 'icao24', 'timestamp', 'lat', 'lon', 'baroAltitude'])\n",
    "temp3_df.set_index(['flightId', 'sequence'], inplace = True)\n",
    "\n",
    "filename = \"../Data/ESGG/2020/osn_ESGG_tracks_aroundTMA_2020/osn_departure_ESGG_tracks_aroundTMA_2020_06_week4.csv\"\n",
    "temp4_df = pd.read_csv(filename, sep=' ',\n",
    "    names = ['flightId', 'sequence', 'destination', 'beginDate', 'callsign', 'icao24', 'timestamp', 'lat', 'lon', 'baroAltitude'])\n",
    "temp4_df.set_index(['flightId', 'sequence'], inplace = True)\n",
    "\n",
    "filename = \"../Data/ESGG/2020/osn_ESGG_tracks_aroundTMA_2020/osn_departure_ESGG_tracks_aroundTMA_2020_06_week5.csv\"\n",
    "temp5_df = pd.read_csv(filename, sep=' ',\n",
    "    names = ['flightId', 'sequence', 'destination', 'beginDate', 'callsign', 'icao24', 'timestamp', 'lat', 'lon', 'baroAltitude'])\n",
    "temp5_df.set_index(['flightId', 'sequence'], inplace = True)"
   ]
  },
  {
   "cell_type": "code",
   "execution_count": null,
   "metadata": {},
   "outputs": [],
   "source": [
    "len1 = len(temp1_df.groupby(level='flightId'))\n",
    "len2 = len(temp2_df.groupby(level='flightId'))\n",
    "len3 = len(temp3_df.groupby(level='flightId'))\n",
    "len4 = len(temp4_df.groupby(level='flightId'))\n",
    "len5 = len(temp5_df.groupby(level='flightId'))\n",
    "print(len1+len2+len3+len4+len5) #234"
   ]
  },
  {
   "cell_type": "code",
   "execution_count": null,
   "metadata": {},
   "outputs": [],
   "source": [
    "filename = \"../Data/ESGG/2020/osn_ESGG_tracks_aroundTMA_2020/osn_departure_ESGG_tracks_aroundTMA_2020_07_week1.csv\"\n",
    "temp1_df = pd.read_csv(filename, sep=' ',\n",
    "    names = ['flightId', 'sequence', 'destination', 'beginDate', 'callsign', 'icao24', 'timestamp', 'lat', 'lon', 'baroAltitude'])\n",
    "temp1_df.set_index(['flightId', 'sequence'], inplace = True)\n",
    "\n",
    "filename = \"../Data/ESGG/2020/osn_ESGG_tracks_aroundTMA_2020/osn_departure_ESGG_tracks_aroundTMA_2020_07_week2.csv\"\n",
    "temp2_df = pd.read_csv(filename, sep=' ',\n",
    "    names = ['flightId', 'sequence', 'destination', 'beginDate', 'callsign', 'icao24', 'timestamp', 'lat', 'lon', 'baroAltitude'])\n",
    "temp2_df.set_index(['flightId', 'sequence'], inplace = True)\n",
    "\n",
    "filename = \"../Data/ESGG/2020/osn_ESGG_tracks_aroundTMA_2020/osn_departure_ESGG_tracks_aroundTMA_2020_07_week3.csv\"\n",
    "temp3_df = pd.read_csv(filename, sep=' ',\n",
    "    names = ['flightId', 'sequence', 'destination', 'beginDate', 'callsign', 'icao24', 'timestamp', 'lat', 'lon', 'baroAltitude'])\n",
    "temp3_df.set_index(['flightId', 'sequence'], inplace = True)\n",
    "\n",
    "filename = \"../Data/ESGG/2020/osn_ESGG_tracks_aroundTMA_2020/osn_departure_ESGG_tracks_aroundTMA_2020_07_week4.csv\"\n",
    "temp4_df = pd.read_csv(filename, sep=' ',\n",
    "    names = ['flightId', 'sequence', 'destination', 'beginDate', 'callsign', 'icao24', 'timestamp', 'lat', 'lon', 'baroAltitude'])\n",
    "temp4_df.set_index(['flightId', 'sequence'], inplace = True)\n",
    "\n",
    "filename = \"../Data/ESGG/2020/osn_ESGG_tracks_aroundTMA_2020/osn_departure_ESGG_tracks_aroundTMA_2020_07_week5.csv\"\n",
    "temp5_df = pd.read_csv(filename, sep=' ',\n",
    "    names = ['flightId', 'sequence', 'destination', 'beginDate', 'callsign', 'icao24', 'timestamp', 'lat', 'lon', 'baroAltitude'])\n",
    "temp5_df.set_index(['flightId', 'sequence'], inplace = True)"
   ]
  },
  {
   "cell_type": "code",
   "execution_count": null,
   "metadata": {},
   "outputs": [],
   "source": [
    "len1 = len(temp1_df.groupby(level='flightId'))\n",
    "len2 = len(temp2_df.groupby(level='flightId'))\n",
    "len3 = len(temp3_df.groupby(level='flightId'))\n",
    "len4 = len(temp4_df.groupby(level='flightId'))\n",
    "len5 = len(temp5_df.groupby(level='flightId'))\n",
    "print(len1+len2+len3+len4+len5) #554"
   ]
  },
  {
   "cell_type": "code",
   "execution_count": null,
   "metadata": {},
   "outputs": [],
   "source": [
    "filename = \"../Data/ESGG/2020/osn_ESGG_tracks_aroundTMA_2020/osn_departure_ESGG_tracks_aroundTMA_2020_08_week1.csv\"\n",
    "temp1_df = pd.read_csv(filename, sep=' ',\n",
    "    names = ['flightId', 'sequence', 'destination', 'beginDate', 'callsign', 'icao24', 'timestamp', 'lat', 'lon', 'baroAltitude'])\n",
    "temp1_df.set_index(['flightId', 'sequence'], inplace = True)\n",
    "\n",
    "filename = \"../Data/ESGG/2020/osn_ESGG_tracks_aroundTMA_2020/osn_departure_ESGG_tracks_aroundTMA_2020_08_week2.csv\"\n",
    "temp2_df = pd.read_csv(filename, sep=' ',\n",
    "    names = ['flightId', 'sequence', 'destination', 'beginDate', 'callsign', 'icao24', 'timestamp', 'lat', 'lon', 'baroAltitude'])\n",
    "temp2_df.set_index(['flightId', 'sequence'], inplace = True)\n",
    "\n",
    "filename = \"../Data/ESGG/2020/osn_ESGG_tracks_aroundTMA_2020/osn_departure_ESGG_tracks_aroundTMA_2020_08_week3.csv\"\n",
    "temp3_df = pd.read_csv(filename, sep=' ',\n",
    "    names = ['flightId', 'sequence', 'destination', 'beginDate', 'callsign', 'icao24', 'timestamp', 'lat', 'lon', 'baroAltitude'])\n",
    "temp3_df.set_index(['flightId', 'sequence'], inplace = True)\n",
    "\n",
    "filename = \"../Data/ESGG/2020/osn_ESGG_tracks_aroundTMA_2020/osn_departure_ESGG_tracks_aroundTMA_2020_08_week4.csv\"\n",
    "temp4_df = pd.read_csv(filename, sep=' ',\n",
    "    names = ['flightId', 'sequence', 'destination', 'beginDate', 'callsign', 'icao24', 'timestamp', 'lat', 'lon', 'baroAltitude'])\n",
    "temp4_df.set_index(['flightId', 'sequence'], inplace = True)\n",
    "\n",
    "filename = \"../Data/ESGG/2020/osn_ESGG_tracks_aroundTMA_2020/osn_departure_ESGG_tracks_aroundTMA_2020_08_week5.csv\"\n",
    "temp5_df = pd.read_csv(filename, sep=' ',\n",
    "    names = ['flightId', 'sequence', 'destination', 'beginDate', 'callsign', 'icao24', 'timestamp', 'lat', 'lon', 'baroAltitude'])\n",
    "temp5_df.set_index(['flightId', 'sequence'], inplace = True)"
   ]
  },
  {
   "cell_type": "code",
   "execution_count": null,
   "metadata": {},
   "outputs": [],
   "source": [
    "len1 = len(temp1_df.groupby(level='flightId'))\n",
    "len2 = len(temp2_df.groupby(level='flightId'))\n",
    "len3 = len(temp3_df.groupby(level='flightId'))\n",
    "len4 = len(temp4_df.groupby(level='flightId'))\n",
    "len5 = len(temp5_df.groupby(level='flightId'))\n",
    "print(len1+len2+len3+len4+len5) #622"
   ]
  },
  {
   "cell_type": "code",
   "execution_count": null,
   "metadata": {},
   "outputs": [],
   "source": [
    "filename = \"../Data/ESGG/2020/osn_ESGG_tracks_aroundTMA_2020/osn_departure_ESGG_tracks_aroundTMA_2020_09_week1.csv\"\n",
    "temp1_df = pd.read_csv(filename, sep=' ',\n",
    "    names = ['flightId', 'sequence', 'destination', 'beginDate', 'callsign', 'icao24', 'timestamp', 'lat', 'lon', 'baroAltitude'])\n",
    "temp1_df.set_index(['flightId', 'sequence'], inplace = True)\n",
    "\n",
    "filename = \"../Data/ESGG/2020/osn_ESGG_tracks_aroundTMA_2020/osn_departure_ESGG_tracks_aroundTMA_2020_09_week2.csv\"\n",
    "temp2_df = pd.read_csv(filename, sep=' ',\n",
    "    names = ['flightId', 'sequence', 'destination', 'beginDate', 'callsign', 'icao24', 'timestamp', 'lat', 'lon', 'baroAltitude'])\n",
    "temp2_df.set_index(['flightId', 'sequence'], inplace = True)\n",
    "\n",
    "filename = \"../Data/ESGG/2020/osn_ESGG_tracks_aroundTMA_2020/osn_departure_ESGG_tracks_aroundTMA_2020_09_week3.csv\"\n",
    "temp3_df = pd.read_csv(filename, sep=' ',\n",
    "    names = ['flightId', 'sequence', 'destination', 'beginDate', 'callsign', 'icao24', 'timestamp', 'lat', 'lon', 'baroAltitude'])\n",
    "temp3_df.set_index(['flightId', 'sequence'], inplace = True)\n",
    "\n",
    "filename = \"../Data/ESGG/2020/osn_ESGG_tracks_aroundTMA_2020/osn_departure_ESGG_tracks_aroundTMA_2020_09_week4.csv\"\n",
    "temp4_df = pd.read_csv(filename, sep=' ',\n",
    "    names = ['flightId', 'sequence', 'destination', 'beginDate', 'callsign', 'icao24', 'timestamp', 'lat', 'lon', 'baroAltitude'])\n",
    "temp4_df.set_index(['flightId', 'sequence'], inplace = True)\n",
    "\n",
    "filename = \"../Data/ESGG/2020/osn_ESGG_tracks_aroundTMA_2020/osn_departure_ESGG_tracks_aroundTMA_2020_09_week5.csv\"\n",
    "temp5_df = pd.read_csv(filename, sep=' ',\n",
    "    names = ['flightId', 'sequence', 'destination', 'beginDate', 'callsign', 'icao24', 'timestamp', 'lat', 'lon', 'baroAltitude'])\n",
    "temp5_df.set_index(['flightId', 'sequence'], inplace = True)"
   ]
  },
  {
   "cell_type": "code",
   "execution_count": null,
   "metadata": {},
   "outputs": [],
   "source": [
    "len1 = len(temp1_df.groupby(level='flightId'))\n",
    "len2 = len(temp2_df.groupby(level='flightId'))\n",
    "len3 = len(temp3_df.groupby(level='flightId'))\n",
    "len4 = len(temp4_df.groupby(level='flightId'))\n",
    "len5 = len(temp5_df.groupby(level='flightId'))\n",
    "print(len1+len2+len3+len4+len5) #700"
   ]
  },
  {
   "cell_type": "code",
   "execution_count": null,
   "metadata": {},
   "outputs": [],
   "source": [
    "filename = \"../Data/ESGG/2020/osn_ESGG_tracks_aroundTMA_2020/osn_departure_ESGG_tracks_aroundTMA_2020_10_week1.csv\"\n",
    "temp1_df = pd.read_csv(filename, sep=' ',\n",
    "    names = ['flightId', 'sequence', 'destination', 'beginDate', 'callsign', 'icao24', 'timestamp', 'lat', 'lon', 'baroAltitude'])\n",
    "temp1_df.set_index(['flightId', 'sequence'], inplace = True)\n",
    "\n",
    "filename = \"../Data/ESGG/2020/osn_ESGG_tracks_aroundTMA_2020/osn_departure_ESGG_tracks_aroundTMA_2020_10_week2.csv\"\n",
    "temp2_df = pd.read_csv(filename, sep=' ',\n",
    "    names = ['flightId', 'sequence', 'destination', 'beginDate', 'callsign', 'icao24', 'timestamp', 'lat', 'lon', 'baroAltitude'])\n",
    "temp2_df.set_index(['flightId', 'sequence'], inplace = True)\n",
    "\n",
    "filename = \"../Data/ESGG/2020/osn_ESGG_tracks_aroundTMA_2020/osn_departure_ESGG_tracks_aroundTMA_2020_10_week3.csv\"\n",
    "temp3_df = pd.read_csv(filename, sep=' ',\n",
    "    names = ['flightId', 'sequence', 'destination', 'beginDate', 'callsign', 'icao24', 'timestamp', 'lat', 'lon', 'baroAltitude'])\n",
    "temp3_df.set_index(['flightId', 'sequence'], inplace = True)\n",
    "\n",
    "filename = \"../Data/ESGG/2020/osn_ESGG_tracks_aroundTMA_2020/osn_departure_ESGG_tracks_aroundTMA_2020_10_week4.csv\"\n",
    "temp4_df = pd.read_csv(filename, sep=' ',\n",
    "    names = ['flightId', 'sequence', 'destination', 'beginDate', 'callsign', 'icao24', 'timestamp', 'lat', 'lon', 'baroAltitude'])\n",
    "temp4_df.set_index(['flightId', 'sequence'], inplace = True)\n",
    "\n",
    "filename = \"../Data/ESGG/2020/osn_ESGG_tracks_aroundTMA_2020/osn_departure_ESGG_tracks_aroundTMA_2020_10_week5.csv\"\n",
    "temp5_df = pd.read_csv(filename, sep=' ',\n",
    "    names = ['flightId', 'sequence', 'destination', 'beginDate', 'callsign', 'icao24', 'timestamp', 'lat', 'lon', 'baroAltitude'])\n",
    "temp5_df.set_index(['flightId', 'sequence'], inplace = True)"
   ]
  },
  {
   "cell_type": "code",
   "execution_count": null,
   "metadata": {},
   "outputs": [],
   "source": [
    "len1 = len(temp1_df.groupby(level='flightId'))\n",
    "len2 = len(temp2_df.groupby(level='flightId'))\n",
    "len3 = len(temp3_df.groupby(level='flightId'))\n",
    "len4 = len(temp4_df.groupby(level='flightId'))\n",
    "len5 = len(temp5_df.groupby(level='flightId'))\n",
    "print(len1+len2+len3+len4+len5) #740"
   ]
  },
  {
   "cell_type": "code",
   "execution_count": null,
   "metadata": {},
   "outputs": [],
   "source": [
    "filename = \"../Data/ESGG/2020/osn_ESGG_tracks_aroundTMA_2020/osn_departure_ESGG_tracks_aroundTMA_2020_11_week1.csv\"\n",
    "temp1_df = pd.read_csv(filename, sep=' ',\n",
    "    names = ['flightId', 'sequence', 'destination', 'beginDate', 'callsign', 'icao24', 'timestamp', 'lat', 'lon', 'baroAltitude'])\n",
    "temp1_df.set_index(['flightId', 'sequence'], inplace = True)\n",
    "\n",
    "filename = \"../Data/ESGG/2020/osn_ESGG_tracks_aroundTMA_2020/osn_departure_ESGG_tracks_aroundTMA_2020_11_week2.csv\"\n",
    "temp2_df = pd.read_csv(filename, sep=' ',\n",
    "    names = ['flightId', 'sequence', 'destination', 'beginDate', 'callsign', 'icao24', 'timestamp', 'lat', 'lon', 'baroAltitude'])\n",
    "temp2_df.set_index(['flightId', 'sequence'], inplace = True)\n",
    "\n",
    "filename = \"../Data/ESGG/2020/osn_ESGG_tracks_aroundTMA_2020/osn_departure_ESGG_tracks_aroundTMA_2020_11_week3.csv\"\n",
    "temp3_df = pd.read_csv(filename, sep=' ',\n",
    "    names = ['flightId', 'sequence', 'destination', 'beginDate', 'callsign', 'icao24', 'timestamp', 'lat', 'lon', 'baroAltitude'])\n",
    "temp3_df.set_index(['flightId', 'sequence'], inplace = True)\n",
    "\n",
    "filename = \"../Data/ESGG/2020/osn_ESGG_tracks_aroundTMA_2020/osn_departure_ESGG_tracks_aroundTMA_2020_11_week4.csv\"\n",
    "temp4_df = pd.read_csv(filename, sep=' ',\n",
    "    names = ['flightId', 'sequence', 'destination', 'beginDate', 'callsign', 'icao24', 'timestamp', 'lat', 'lon', 'baroAltitude'])\n",
    "temp4_df.set_index(['flightId', 'sequence'], inplace = True)\n",
    "\n",
    "filename = \"../Data/ESGG/2020/osn_ESGG_tracks_aroundTMA_2020/osn_departure_ESGG_tracks_aroundTMA_2020_11_week5.csv\"\n",
    "temp5_df = pd.read_csv(filename, sep=' ',\n",
    "    names = ['flightId', 'sequence', 'destination', 'beginDate', 'callsign', 'icao24', 'timestamp', 'lat', 'lon', 'baroAltitude'])\n",
    "temp5_df.set_index(['flightId', 'sequence'], inplace = True)"
   ]
  },
  {
   "cell_type": "code",
   "execution_count": null,
   "metadata": {},
   "outputs": [],
   "source": [
    "len1 = len(temp1_df.groupby(level='flightId'))\n",
    "len2 = len(temp2_df.groupby(level='flightId'))\n",
    "len3 = len(temp3_df.groupby(level='flightId'))\n",
    "len4 = len(temp4_df.groupby(level='flightId'))\n",
    "len5 = len(temp5_df.groupby(level='flightId'))\n",
    "print(len1+len2+len3+len4+len5) #535"
   ]
  },
  {
   "cell_type": "code",
   "execution_count": null,
   "metadata": {},
   "outputs": [],
   "source": [
    "filename = \"../Data/ESGG/2020/osn_ESGG_tracks_aroundTMA_2020/osn_departure_ESGG_tracks_aroundTMA_2020_12_week1.csv\"\n",
    "temp1_df = pd.read_csv(filename, sep=' ',\n",
    "    names = ['flightId', 'sequence', 'destination', 'beginDate', 'callsign', 'icao24', 'timestamp', 'lat', 'lon', 'baroAltitude'])\n",
    "temp1_df.set_index(['flightId', 'sequence'], inplace = True)\n",
    "\n",
    "filename = \"../Data/ESGG/2020/osn_ESGG_tracks_aroundTMA_2020/osn_departure_ESGG_tracks_aroundTMA_2020_12_week2.csv\"\n",
    "temp2_df = pd.read_csv(filename, sep=' ',\n",
    "    names = ['flightId', 'sequence', 'destination', 'beginDate', 'callsign', 'icao24', 'timestamp', 'lat', 'lon', 'baroAltitude'])\n",
    "temp2_df.set_index(['flightId', 'sequence'], inplace = True)\n",
    "\n",
    "filename = \"../Data/ESGG/2020/osn_ESGG_tracks_aroundTMA_2020/osn_departure_ESGG_tracks_aroundTMA_2020_12_week3.csv\"\n",
    "temp3_df = pd.read_csv(filename, sep=' ',\n",
    "    names = ['flightId', 'sequence', 'destination', 'beginDate', 'callsign', 'icao24', 'timestamp', 'lat', 'lon', 'baroAltitude'])\n",
    "temp3_df.set_index(['flightId', 'sequence'], inplace = True)\n",
    "\n",
    "filename = \"../Data/ESGG/2020/osn_ESGG_tracks_aroundTMA_2020/osn_departure_ESGG_tracks_aroundTMA_2020_12_week4.csv\"\n",
    "temp4_df = pd.read_csv(filename, sep=' ',\n",
    "    names = ['flightId', 'sequence', 'destination', 'beginDate', 'callsign', 'icao24', 'timestamp', 'lat', 'lon', 'baroAltitude'])\n",
    "temp4_df.set_index(['flightId', 'sequence'], inplace = True)\n",
    "\n",
    "filename = \"../Data/ESGG/2020/osn_ESGG_tracks_aroundTMA_2020/osn_departure_ESGG_tracks_aroundTMA_2020_12_week5.csv\"\n",
    "temp5_df = pd.read_csv(filename, sep=' ',\n",
    "    names = ['flightId', 'sequence', 'destination', 'beginDate', 'callsign', 'icao24', 'timestamp', 'lat', 'lon', 'baroAltitude'])\n",
    "temp5_df.set_index(['flightId', 'sequence'], inplace = True)"
   ]
  },
  {
   "cell_type": "code",
   "execution_count": null,
   "metadata": {},
   "outputs": [],
   "source": [
    "len1 = len(temp1_df.groupby(level='flightId'))\n",
    "len2 = len(temp2_df.groupby(level='flightId'))\n",
    "len3 = len(temp3_df.groupby(level='flightId'))\n",
    "len4 = len(temp4_df.groupby(level='flightId'))\n",
    "len5 = len(temp5_df.groupby(level='flightId'))\n",
    "print(len1+len2+len3+len4+len5) #547"
   ]
  }
 ],
 "metadata": {
  "kernelspec": {
   "display_name": "Python 3",
   "language": "python",
   "name": "python3"
  },
  "language_info": {
   "codemirror_mode": {
    "name": "ipython",
    "version": 3
   },
   "file_extension": ".py",
   "mimetype": "text/x-python",
   "name": "python",
   "nbconvert_exporter": "python",
   "pygments_lexer": "ipython3",
   "version": "3.8.8"
  }
 },
 "nbformat": 4,
 "nbformat_minor": 2
}
