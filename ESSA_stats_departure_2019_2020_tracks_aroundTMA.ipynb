{
 "cells": [
  {
   "cell_type": "code",
   "execution_count": 1,
   "metadata": {},
   "outputs": [],
   "source": [
    "%matplotlib inline\n",
    "\n",
    "import numpy as np\n",
    "import pandas as pd\n",
    "import matplotlib.pyplot as plt\n",
    "import seaborn as sns\n",
    "\n",
    "from datetime import datetime\n",
    "from datetime import timezone\n",
    "\n",
    "from math import cos, radians"
   ]
  },
  {
   "cell_type": "markdown",
   "metadata": {},
   "source": [
    "# Data uploading"
   ]
  },
  {
   "cell_type": "code",
   "execution_count": 2,
   "metadata": {},
   "outputs": [],
   "source": [
    "filename = \"../Data/ESSA/2019/osn_ESSA_tracks_aroundTMA_2019/osn_departure_ESSA_tracks_aroundTMA_2019_01_week1.csv\"\n",
    "temp1_df = pd.read_csv(filename, sep=' ',\n",
    "    names = ['flightId', 'sequence', 'timestamp', 'lat', 'lon', 'rawAltitude', 'altitude', 'velocity', 'beginDate', 'endDate'])\n",
    "temp1_df.set_index(['flightId', 'sequence'], inplace = True)\n",
    "\n",
    "filename = \"../Data/ESSA/2019/osn_ESSA_tracks_aroundTMA_2019/osn_departure_ESSA_tracks_aroundTMA_2019_01_week2.csv\"\n",
    "temp2_df = pd.read_csv(filename, sep=' ',\n",
    "    names = ['flightId', 'sequence', 'timestamp', 'lat', 'lon', 'rawAltitude', 'altitude', 'velocity', 'beginDate', 'endDate'])\n",
    "temp2_df.set_index(['flightId', 'sequence'], inplace = True)\n",
    "\n",
    "filename = \"../Data/ESSA/2019/osn_ESSA_tracks_aroundTMA_2019/osn_departure_ESSA_tracks_aroundTMA_2019_01_week3.csv\"\n",
    "temp3_df = pd.read_csv(filename, sep=' ',\n",
    "    names = ['flightId', 'sequence', 'timestamp', 'lat', 'lon', 'rawAltitude', 'altitude', 'velocity', 'beginDate', 'endDate'])\n",
    "temp3_df.set_index(['flightId', 'sequence'], inplace = True)\n",
    "\n",
    "filename = \"../Data/ESSA/2019/osn_ESSA_tracks_aroundTMA_2019/osn_departure_ESSA_tracks_aroundTMA_2019_01_week4.csv\"\n",
    "temp4_df = pd.read_csv(filename, sep=' ',\n",
    "    names = ['flightId', 'sequence', 'timestamp', 'lat', 'lon', 'rawAltitude', 'altitude', 'velocity', 'beginDate', 'endDate'])\n",
    "temp4_df.set_index(['flightId', 'sequence'], inplace = True)\n",
    "\n",
    "filename = \"../Data/ESSA/2019/osn_ESSA_tracks_aroundTMA_2019/osn_departure_ESSA_tracks_aroundTMA_2019_01_week5.csv\"\n",
    "temp5_df = pd.read_csv(filename, sep=' ',\n",
    "    names = ['flightId', 'sequence', 'timestamp', 'lat', 'lon', 'rawAltitude', 'altitude', 'velocity', 'beginDate', 'endDate'])\n",
    "temp5_df.set_index(['flightId', 'sequence'], inplace = True)"
   ]
  },
  {
   "cell_type": "code",
   "execution_count": 3,
   "metadata": {},
   "outputs": [
    {
     "name": "stdout",
     "output_type": "stream",
     "text": [
      "8129\n"
     ]
    }
   ],
   "source": [
    "len1 = len(temp1_df.groupby(level='flightId'))\n",
    "len2 = len(temp2_df.groupby(level='flightId'))\n",
    "len3 = len(temp3_df.groupby(level='flightId'))\n",
    "len4 = len(temp4_df.groupby(level='flightId'))\n",
    "len5 = len(temp5_df.groupby(level='flightId'))\n",
    "print(len1+len2+len3+len4+len5) #8129"
   ]
  },
  {
   "cell_type": "code",
   "execution_count": 4,
   "metadata": {},
   "outputs": [],
   "source": [
    "filename = \"../Data/ESSA/2019/osn_ESSA_tracks_aroundTMA_2019/osn_departure_ESSA_tracks_aroundTMA_2019_02_week1.csv\"\n",
    "temp1_df = pd.read_csv(filename, sep=' ',\n",
    "    names = ['flightId', 'sequence', 'destination', 'beginDate', 'callsign', 'icao24', 'timestamp', 'lat', 'lon', 'baroAltitude'])\n",
    "temp1_df.set_index(['flightId', 'sequence'], inplace = True)\n",
    "\n",
    "filename = \"../Data/ESSA/2019/osn_ESSA_tracks_aroundTMA_2019/osn_departure_ESSA_tracks_aroundTMA_2019_02_week2.csv\"\n",
    "temp2_df = pd.read_csv(filename, sep=' ',\n",
    "    names = ['flightId', 'sequence', 'destination', 'beginDate', 'callsign', 'icao24', 'timestamp', 'lat', 'lon', 'baroAltitude'])\n",
    "temp2_df.set_index(['flightId', 'sequence'], inplace = True)\n",
    "\n",
    "filename = \"../Data/ESSA/2019/osn_ESSA_tracks_aroundTMA_2019/osn_departure_ESSA_tracks_aroundTMA_2019_02_week3.csv\"\n",
    "temp3_df = pd.read_csv(filename, sep=' ',\n",
    "    names = ['flightId', 'sequence', 'destination', 'beginDate', 'callsign', 'icao24', 'timestamp', 'lat', 'lon', 'baroAltitude'])\n",
    "temp3_df.set_index(['flightId', 'sequence'], inplace = True)\n",
    "\n",
    "filename = \"../Data/ESSA/2019/osn_ESSA_tracks_aroundTMA_2019/osn_departure_ESSA_tracks_aroundTMA_2019_02_week4.csv\"\n",
    "temp4_df = pd.read_csv(filename, sep=' ',\n",
    "    names = ['flightId', 'sequence', 'destination', 'beginDate', 'callsign', 'icao24', 'timestamp', 'lat', 'lon', 'baroAltitude'])\n",
    "temp4_df.set_index(['flightId', 'sequence'], inplace = True)"
   ]
  },
  {
   "cell_type": "code",
   "execution_count": 5,
   "metadata": {},
   "outputs": [
    {
     "name": "stdout",
     "output_type": "stream",
     "text": [
      "7764\n"
     ]
    }
   ],
   "source": [
    "len1 = len(temp1_df.groupby(level='flightId'))\n",
    "len2 = len(temp2_df.groupby(level='flightId'))\n",
    "len3 = len(temp3_df.groupby(level='flightId'))\n",
    "len4 = len(temp4_df.groupby(level='flightId'))\n",
    "print(len1+len2+len3+len4) #7764"
   ]
  },
  {
   "cell_type": "code",
   "execution_count": 6,
   "metadata": {},
   "outputs": [],
   "source": [
    "filename = \"../Data/ESSA/2019/osn_ESSA_tracks_aroundTMA_2019/osn_departure_ESSA_tracks_aroundTMA_2019_03_week1.csv\"\n",
    "temp1_df = pd.read_csv(filename, sep=' ',\n",
    "    names = ['flightId', 'sequence', 'destination', 'beginDate', 'callsign', 'icao24', 'timestamp', 'lat', 'lon', 'baroAltitude'])\n",
    "temp1_df.set_index(['flightId', 'sequence'], inplace = True)\n",
    "\n",
    "filename = \"../Data/ESSA/2019/osn_ESSA_tracks_aroundTMA_2019/osn_departure_ESSA_tracks_aroundTMA_2019_03_week2.csv\"\n",
    "temp2_df = pd.read_csv(filename, sep=' ',\n",
    "    names = ['flightId', 'sequence', 'destination', 'beginDate', 'callsign', 'icao24', 'timestamp', 'lat', 'lon', 'baroAltitude'])\n",
    "temp2_df.set_index(['flightId', 'sequence'], inplace = True)\n",
    "\n",
    "filename = \"../Data/ESSA/2019/osn_ESSA_tracks_aroundTMA_2019/osn_departure_ESSA_tracks_aroundTMA_2019_03_week3.csv\"\n",
    "temp3_df = pd.read_csv(filename, sep=' ',\n",
    "    names = ['flightId', 'sequence', 'destination', 'beginDate', 'callsign', 'icao24', 'timestamp', 'lat', 'lon', 'baroAltitude'])\n",
    "temp3_df.set_index(['flightId', 'sequence'], inplace = True)\n",
    "\n",
    "filename = \"../Data/ESSA/2019/osn_ESSA_tracks_aroundTMA_2019/osn_departure_ESSA_tracks_aroundTMA_2019_03_week4.csv\"\n",
    "temp4_df = pd.read_csv(filename, sep=' ',\n",
    "    names = ['flightId', 'sequence', 'destination', 'beginDate', 'callsign', 'icao24', 'timestamp', 'lat', 'lon', 'baroAltitude'])\n",
    "temp4_df.set_index(['flightId', 'sequence'], inplace = True)\n",
    "\n",
    "filename = \"../Data/ESSA/2019/osn_ESSA_tracks_aroundTMA_2019/osn_departure_ESSA_tracks_aroundTMA_2019_03_week5.csv\"\n",
    "temp5_df = pd.read_csv(filename, sep=' ',\n",
    "    names = ['flightId', 'sequence', 'destination', 'beginDate', 'callsign', 'icao24', 'timestamp', 'lat', 'lon', 'baroAltitude'])\n",
    "temp5_df.set_index(['flightId', 'sequence'], inplace = True)"
   ]
  },
  {
   "cell_type": "code",
   "execution_count": 7,
   "metadata": {},
   "outputs": [
    {
     "name": "stdout",
     "output_type": "stream",
     "text": [
      "9224\n"
     ]
    }
   ],
   "source": [
    "len1 = len(temp1_df.groupby(level='flightId'))\n",
    "len2 = len(temp2_df.groupby(level='flightId'))\n",
    "len3 = len(temp3_df.groupby(level='flightId'))\n",
    "len4 = len(temp4_df.groupby(level='flightId'))\n",
    "len5 = len(temp5_df.groupby(level='flightId'))\n",
    "print(len1+len2+len3+len4+len5) #9224"
   ]
  },
  {
   "cell_type": "code",
   "execution_count": 8,
   "metadata": {},
   "outputs": [],
   "source": [
    "filename = \"../Data/ESSA/2019/osn_ESSA_tracks_aroundTMA_2019/osn_departure_ESSA_tracks_aroundTMA_2019_04_week1.csv\"\n",
    "temp1_df = pd.read_csv(filename, sep=' ',\n",
    "    names = ['flightId', 'sequence', 'destination', 'beginDate', 'callsign', 'icao24', 'timestamp', 'lat', 'lon', 'baroAltitude'])\n",
    "temp1_df.set_index(['flightId', 'sequence'], inplace = True)\n",
    "\n",
    "filename = \"../Data/ESSA/2019/osn_ESSA_tracks_aroundTMA_2019/osn_departure_ESSA_tracks_aroundTMA_2019_04_week2.csv\"\n",
    "temp2_df = pd.read_csv(filename, sep=' ',\n",
    "    names = ['flightId', 'sequence', 'destination', 'beginDate', 'callsign', 'icao24', 'timestamp', 'lat', 'lon', 'baroAltitude'])\n",
    "temp2_df.set_index(['flightId', 'sequence'], inplace = True)\n",
    "\n",
    "filename = \"../Data/ESSA/2019/osn_ESSA_tracks_aroundTMA_2019/osn_departure_ESSA_tracks_aroundTMA_2019_04_week3.csv\"\n",
    "temp3_df = pd.read_csv(filename, sep=' ',\n",
    "    names = ['flightId', 'sequence', 'destination', 'beginDate', 'callsign', 'icao24', 'timestamp', 'lat', 'lon', 'baroAltitude'])\n",
    "temp3_df.set_index(['flightId', 'sequence'], inplace = True)\n",
    "\n",
    "filename = \"../Data/ESSA/2019/osn_ESSA_tracks_aroundTMA_2019/osn_departure_ESSA_tracks_aroundTMA_2019_04_week4.csv\"\n",
    "temp4_df = pd.read_csv(filename, sep=' ',\n",
    "    names = ['flightId', 'sequence', 'destination', 'beginDate', 'callsign', 'icao24', 'timestamp', 'lat', 'lon', 'baroAltitude'])\n",
    "temp4_df.set_index(['flightId', 'sequence'], inplace = True)\n",
    "\n",
    "filename = \"../Data/ESSA/2019/osn_ESSA_tracks_aroundTMA_2019/osn_departure_ESSA_tracks_aroundTMA_2019_04_week5.csv\"\n",
    "temp5_df = pd.read_csv(filename, sep=' ',\n",
    "    names = ['flightId', 'sequence', 'destination', 'beginDate', 'callsign', 'icao24', 'timestamp', 'lat', 'lon', 'baroAltitude'])\n",
    "temp5_df.set_index(['flightId', 'sequence'], inplace = True)"
   ]
  },
  {
   "cell_type": "code",
   "execution_count": 9,
   "metadata": {},
   "outputs": [
    {
     "name": "stdout",
     "output_type": "stream",
     "text": [
      "8526\n"
     ]
    }
   ],
   "source": [
    "len1 = len(temp1_df.groupby(level='flightId'))\n",
    "len2 = len(temp2_df.groupby(level='flightId'))\n",
    "len3 = len(temp3_df.groupby(level='flightId'))\n",
    "len4 = len(temp4_df.groupby(level='flightId'))\n",
    "len5 = len(temp5_df.groupby(level='flightId'))\n",
    "print(len1+len2+len3+len4+len5) #8526"
   ]
  },
  {
   "cell_type": "code",
   "execution_count": 10,
   "metadata": {},
   "outputs": [],
   "source": [
    "filename = \"../Data/ESSA/2019/osn_ESSA_tracks_aroundTMA_2019/osn_departure_ESSA_tracks_aroundTMA_2019_05_week1.csv\"\n",
    "temp1_df = pd.read_csv(filename, sep=' ',\n",
    "    names = ['flightId', 'sequence', 'destination', 'beginDate', 'callsign', 'icao24', 'timestamp', 'lat', 'lon', 'baroAltitude'])\n",
    "temp1_df.set_index(['flightId', 'sequence'], inplace = True)\n",
    "\n",
    "filename = \"../Data/ESSA/2019/osn_ESSA_tracks_aroundTMA_2019/osn_departure_ESSA_tracks_aroundTMA_2019_05_week2.csv\"\n",
    "temp2_df = pd.read_csv(filename, sep=' ',\n",
    "    names = ['flightId', 'sequence', 'destination', 'beginDate', 'callsign', 'icao24', 'timestamp', 'lat', 'lon', 'baroAltitude'])\n",
    "temp2_df.set_index(['flightId', 'sequence'], inplace = True)\n",
    "\n",
    "filename = \"../Data/ESSA/2019/osn_ESSA_tracks_aroundTMA_2019/osn_departure_ESSA_tracks_aroundTMA_2019_05_week3.csv\"\n",
    "temp3_df = pd.read_csv(filename, sep=' ',\n",
    "    names = ['flightId', 'sequence', 'destination', 'beginDate', 'callsign', 'icao24', 'timestamp', 'lat', 'lon', 'baroAltitude'])\n",
    "temp3_df.set_index(['flightId', 'sequence'], inplace = True)\n",
    "\n",
    "filename = \"../Data/ESSA/2019/osn_ESSA_tracks_aroundTMA_2019/osn_departure_ESSA_tracks_aroundTMA_2019_05_week4.csv\"\n",
    "temp4_df = pd.read_csv(filename, sep=' ',\n",
    "    names = ['flightId', 'sequence', 'destination', 'beginDate', 'callsign', 'icao24', 'timestamp', 'lat', 'lon', 'baroAltitude'])\n",
    "temp4_df.set_index(['flightId', 'sequence'], inplace = True)\n",
    "\n",
    "filename = \"../Data/ESSA/2019/osn_ESSA_tracks_aroundTMA_2019/osn_departure_ESSA_tracks_aroundTMA_2019_05_week5.csv\"\n",
    "temp5_df = pd.read_csv(filename, sep=' ',\n",
    "    names = ['flightId', 'sequence', 'destination', 'beginDate', 'callsign', 'icao24', 'timestamp', 'lat', 'lon', 'baroAltitude'])\n",
    "temp5_df.set_index(['flightId', 'sequence'], inplace = True)"
   ]
  },
  {
   "cell_type": "code",
   "execution_count": 11,
   "metadata": {},
   "outputs": [
    {
     "name": "stdout",
     "output_type": "stream",
     "text": [
      "9478\n"
     ]
    }
   ],
   "source": [
    "len1 = len(temp1_df.groupby(level='flightId'))\n",
    "len2 = len(temp2_df.groupby(level='flightId'))\n",
    "len3 = len(temp3_df.groupby(level='flightId'))\n",
    "len4 = len(temp4_df.groupby(level='flightId'))\n",
    "len5 = len(temp5_df.groupby(level='flightId'))\n",
    "print(len1+len2+len3+len4+len5) #9478"
   ]
  },
  {
   "cell_type": "code",
   "execution_count": 12,
   "metadata": {},
   "outputs": [],
   "source": [
    "filename = \"../Data/ESSA/2019/osn_ESSA_tracks_aroundTMA_2019/osn_departure_ESSA_tracks_aroundTMA_2019_06_week1.csv\"\n",
    "temp1_df = pd.read_csv(filename, sep=' ',\n",
    "    names = ['flightId', 'sequence', 'destination', 'beginDate', 'callsign', 'icao24', 'timestamp', 'lat', 'lon', 'baroAltitude'])\n",
    "temp1_df.set_index(['flightId', 'sequence'], inplace = True)\n",
    "\n",
    "filename = \"../Data/ESSA/2019/osn_ESSA_tracks_aroundTMA_2019/osn_departure_ESSA_tracks_aroundTMA_2019_06_week2.csv\"\n",
    "temp2_df = pd.read_csv(filename, sep=' ',\n",
    "    names = ['flightId', 'sequence', 'destination', 'beginDate', 'callsign', 'icao24', 'timestamp', 'lat', 'lon', 'baroAltitude'])\n",
    "temp2_df.set_index(['flightId', 'sequence'], inplace = True)\n",
    "\n",
    "filename = \"../Data/ESSA/2019/osn_ESSA_tracks_aroundTMA_2019/osn_departure_ESSA_tracks_aroundTMA_2019_06_week3.csv\"\n",
    "temp3_df = pd.read_csv(filename, sep=' ',\n",
    "    names = ['flightId', 'sequence', 'destination', 'beginDate', 'callsign', 'icao24', 'timestamp', 'lat', 'lon', 'baroAltitude'])\n",
    "temp3_df.set_index(['flightId', 'sequence'], inplace = True)\n",
    "\n",
    "filename = \"../Data/ESSA/2019/osn_ESSA_tracks_aroundTMA_2019/osn_departure_ESSA_tracks_aroundTMA_2019_06_week4.csv\"\n",
    "temp4_df = pd.read_csv(filename, sep=' ',\n",
    "    names = ['flightId', 'sequence', 'destination', 'beginDate', 'callsign', 'icao24', 'timestamp', 'lat', 'lon', 'baroAltitude'])\n",
    "temp4_df.set_index(['flightId', 'sequence'], inplace = True)\n",
    "\n",
    "filename = \"../Data/ESSA/2019/osn_ESSA_tracks_aroundTMA_2019/osn_departure_ESSA_tracks_aroundTMA_2019_06_week5.csv\"\n",
    "temp5_df = pd.read_csv(filename, sep=' ',\n",
    "    names = ['flightId', 'sequence', 'destination', 'beginDate', 'callsign', 'icao24', 'timestamp', 'lat', 'lon', 'baroAltitude'])\n",
    "temp5_df.set_index(['flightId', 'sequence'], inplace = True)"
   ]
  },
  {
   "cell_type": "code",
   "execution_count": 13,
   "metadata": {},
   "outputs": [
    {
     "name": "stdout",
     "output_type": "stream",
     "text": [
      "9290\n"
     ]
    }
   ],
   "source": [
    "len1 = len(temp1_df.groupby(level='flightId'))\n",
    "len2 = len(temp2_df.groupby(level='flightId'))\n",
    "len3 = len(temp3_df.groupby(level='flightId'))\n",
    "len4 = len(temp4_df.groupby(level='flightId'))\n",
    "len5 = len(temp5_df.groupby(level='flightId'))\n",
    "print(len1+len2+len3+len4+len5) #9290"
   ]
  },
  {
   "cell_type": "code",
   "execution_count": 14,
   "metadata": {},
   "outputs": [],
   "source": [
    "filename = \"../Data/ESSA/2019/osn_ESSA_tracks_aroundTMA_2019/osn_departure_ESSA_tracks_aroundTMA_2019_07_week1.csv\"\n",
    "temp1_df = pd.read_csv(filename, sep=' ',\n",
    "    names = ['flightId', 'sequence', 'destination', 'beginDate', 'callsign', 'icao24', 'timestamp', 'lat', 'lon', 'baroAltitude'])\n",
    "temp1_df.set_index(['flightId', 'sequence'], inplace = True)\n",
    "\n",
    "filename = \"../Data/ESSA/2019/osn_ESSA_tracks_aroundTMA_2019/osn_departure_ESSA_tracks_aroundTMA_2019_07_week2.csv\"\n",
    "temp2_df = pd.read_csv(filename, sep=' ',\n",
    "    names = ['flightId', 'sequence', 'destination', 'beginDate', 'callsign', 'icao24', 'timestamp', 'lat', 'lon', 'baroAltitude'])\n",
    "temp2_df.set_index(['flightId', 'sequence'], inplace = True)\n",
    "\n",
    "filename = \"../Data/ESSA/2019/osn_ESSA_tracks_aroundTMA_2019/osn_departure_ESSA_tracks_aroundTMA_2019_07_week3.csv\"\n",
    "temp3_df = pd.read_csv(filename, sep=' ',\n",
    "    names = ['flightId', 'sequence', 'destination', 'beginDate', 'callsign', 'icao24', 'timestamp', 'lat', 'lon', 'baroAltitude'])\n",
    "temp3_df.set_index(['flightId', 'sequence'], inplace = True)\n",
    "\n",
    "filename = \"../Data/ESSA/2019/osn_ESSA_tracks_aroundTMA_2019/osn_departure_ESSA_tracks_aroundTMA_2019_07_week4.csv\"\n",
    "temp4_df = pd.read_csv(filename, sep=' ',\n",
    "    names = ['flightId', 'sequence', 'destination', 'beginDate', 'callsign', 'icao24', 'timestamp', 'lat', 'lon', 'baroAltitude'])\n",
    "temp4_df.set_index(['flightId', 'sequence'], inplace = True)\n",
    "\n",
    "filename = \"../Data/ESSA/2019/osn_ESSA_tracks_aroundTMA_2019/osn_departure_ESSA_tracks_aroundTMA_2019_07_week5.csv\"\n",
    "temp5_df = pd.read_csv(filename, sep=' ',\n",
    "    names = ['flightId', 'sequence', 'destination', 'beginDate', 'callsign', 'icao24', 'timestamp', 'lat', 'lon', 'baroAltitude'])\n",
    "temp5_df.set_index(['flightId', 'sequence'], inplace = True)"
   ]
  },
  {
   "cell_type": "code",
   "execution_count": 15,
   "metadata": {},
   "outputs": [
    {
     "name": "stdout",
     "output_type": "stream",
     "text": [
      "8700\n"
     ]
    }
   ],
   "source": [
    "len1 = len(temp1_df.groupby(level='flightId'))\n",
    "len2 = len(temp2_df.groupby(level='flightId'))\n",
    "len3 = len(temp3_df.groupby(level='flightId'))\n",
    "len4 = len(temp4_df.groupby(level='flightId'))\n",
    "len5 = len(temp5_df.groupby(level='flightId'))\n",
    "print(len1+len2+len3+len4+len5) #8646"
   ]
  },
  {
   "cell_type": "code",
   "execution_count": 16,
   "metadata": {},
   "outputs": [],
   "source": [
    "filename = \"../Data/ESSA/2019/osn_ESSA_tracks_aroundTMA_2019/osn_departure_ESSA_tracks_aroundTMA_2019_08_week1.csv\"\n",
    "temp1_df = pd.read_csv(filename, sep=' ',\n",
    "    names = ['flightId', 'sequence', 'destination', 'beginDate', 'callsign', 'icao24', 'timestamp', 'lat', 'lon', 'baroAltitude'])\n",
    "temp1_df.set_index(['flightId', 'sequence'], inplace = True)\n",
    "\n",
    "filename = \"../Data/ESSA/2019/osn_ESSA_tracks_aroundTMA_2019/osn_departure_ESSA_tracks_aroundTMA_2019_08_week2.csv\"\n",
    "temp2_df = pd.read_csv(filename, sep=' ',\n",
    "    names = ['flightId', 'sequence', 'destination', 'beginDate', 'callsign', 'icao24', 'timestamp', 'lat', 'lon', 'baroAltitude'])\n",
    "temp2_df.set_index(['flightId', 'sequence'], inplace = True)\n",
    "\n",
    "filename = \"../Data/ESSA/2019/osn_ESSA_tracks_aroundTMA_2019/osn_departure_ESSA_tracks_aroundTMA_2019_08_week3.csv\"\n",
    "temp3_df = pd.read_csv(filename, sep=' ',\n",
    "    names = ['flightId', 'sequence', 'destination', 'beginDate', 'callsign', 'icao24', 'timestamp', 'lat', 'lon', 'baroAltitude'])\n",
    "temp3_df.set_index(['flightId', 'sequence'], inplace = True)\n",
    "\n",
    "filename = \"../Data/ESSA/2019/osn_ESSA_tracks_aroundTMA_2019/osn_departure_ESSA_tracks_aroundTMA_2019_08_week4.csv\"\n",
    "temp4_df = pd.read_csv(filename, sep=' ',\n",
    "    names = ['flightId', 'sequence', 'destination', 'beginDate', 'callsign', 'icao24', 'timestamp', 'lat', 'lon', 'baroAltitude'])\n",
    "temp4_df.set_index(['flightId', 'sequence'], inplace = True)\n",
    "\n",
    "filename = \"../Data/ESSA/2019/osn_ESSA_tracks_aroundTMA_2019/osn_departure_ESSA_tracks_aroundTMA_2019_08_week5.csv\"\n",
    "temp5_df = pd.read_csv(filename, sep=' ',\n",
    "    names = ['flightId', 'sequence', 'destination', 'beginDate', 'callsign', 'icao24', 'timestamp', 'lat', 'lon', 'baroAltitude'])\n",
    "temp5_df.set_index(['flightId', 'sequence'], inplace = True)"
   ]
  },
  {
   "cell_type": "code",
   "execution_count": 17,
   "metadata": {},
   "outputs": [
    {
     "name": "stdout",
     "output_type": "stream",
     "text": [
      "9126\n"
     ]
    }
   ],
   "source": [
    "len1 = len(temp1_df.groupby(level='flightId'))\n",
    "len2 = len(temp2_df.groupby(level='flightId'))\n",
    "len3 = len(temp3_df.groupby(level='flightId'))\n",
    "len4 = len(temp4_df.groupby(level='flightId'))\n",
    "len5 = len(temp5_df.groupby(level='flightId'))\n",
    "print(len1+len2+len3+len4+len5) #9038"
   ]
  },
  {
   "cell_type": "code",
   "execution_count": 18,
   "metadata": {},
   "outputs": [],
   "source": [
    "filename = \"../Data/ESSA/2019/osn_ESSA_tracks_aroundTMA_2019/osn_departure_ESSA_tracks_aroundTMA_2019_09_week1.csv\"\n",
    "temp1_df = pd.read_csv(filename, sep=' ',\n",
    "    names = ['flightId', 'sequence', 'destination', 'beginDate', 'callsign', 'icao24', 'timestamp', 'lat', 'lon', 'baroAltitude'])\n",
    "temp1_df.set_index(['flightId', 'sequence'], inplace = True)\n",
    "\n",
    "filename = \"../Data/ESSA/2019/osn_ESSA_tracks_aroundTMA_2019/osn_departure_ESSA_tracks_aroundTMA_2019_09_week2.csv\"\n",
    "temp2_df = pd.read_csv(filename, sep=' ',\n",
    "    names = ['flightId', 'sequence', 'destination', 'beginDate', 'callsign', 'icao24', 'timestamp', 'lat', 'lon', 'baroAltitude'])\n",
    "temp2_df.set_index(['flightId', 'sequence'], inplace = True)\n",
    "\n",
    "filename = \"../Data/ESSA/2019/osn_ESSA_tracks_aroundTMA_2019/osn_departure_ESSA_tracks_aroundTMA_2019_09_week3.csv\"\n",
    "temp3_df = pd.read_csv(filename, sep=' ',\n",
    "    names = ['flightId', 'sequence', 'destination', 'beginDate', 'callsign', 'icao24', 'timestamp', 'lat', 'lon', 'baroAltitude'])\n",
    "temp3_df.set_index(['flightId', 'sequence'], inplace = True)\n",
    "\n",
    "filename = \"../Data/ESSA/2019/osn_ESSA_tracks_aroundTMA_2019/osn_departure_ESSA_tracks_aroundTMA_2019_09_week4.csv\"\n",
    "temp4_df = pd.read_csv(filename, sep=' ',\n",
    "    names = ['flightId', 'sequence', 'destination', 'beginDate', 'callsign', 'icao24', 'timestamp', 'lat', 'lon', 'baroAltitude'])\n",
    "temp4_df.set_index(['flightId', 'sequence'], inplace = True)\n",
    "\n",
    "filename = \"../Data/ESSA/2019/osn_ESSA_tracks_aroundTMA_2019/osn_departure_ESSA_tracks_aroundTMA_2019_09_week5.csv\"\n",
    "temp5_df = pd.read_csv(filename, sep=' ',\n",
    "    names = ['flightId', 'sequence', 'destination', 'beginDate', 'callsign', 'icao24', 'timestamp', 'lat', 'lon', 'baroAltitude'])\n",
    "temp5_df.set_index(['flightId', 'sequence'], inplace = True)"
   ]
  },
  {
   "cell_type": "code",
   "execution_count": 19,
   "metadata": {},
   "outputs": [
    {
     "name": "stdout",
     "output_type": "stream",
     "text": [
      "9288\n"
     ]
    }
   ],
   "source": [
    "len1 = len(temp1_df.groupby(level='flightId'))\n",
    "len2 = len(temp2_df.groupby(level='flightId'))\n",
    "len3 = len(temp3_df.groupby(level='flightId'))\n",
    "len4 = len(temp4_df.groupby(level='flightId'))\n",
    "len5 = len(temp5_df.groupby(level='flightId'))\n",
    "print(len1+len2+len3+len4+len5) #9239"
   ]
  },
  {
   "cell_type": "code",
   "execution_count": 20,
   "metadata": {},
   "outputs": [],
   "source": [
    "filename = \"../Data/ESSA/2019/osn_ESSA_tracks_aroundTMA_2019/osn_departure_ESSA_tracks_aroundTMA_2019_10_week1.csv\"\n",
    "temp1_df = pd.read_csv(filename, sep=' ',\n",
    "    names = ['flightId', 'sequence', 'destination', 'beginDate', 'callsign', 'icao24', 'timestamp', 'lat', 'lon', 'baroAltitude'])\n",
    "temp1_df.set_index(['flightId', 'sequence'], inplace = True)\n",
    "\n",
    "filename = \"../Data/ESSA/2019/osn_ESSA_tracks_aroundTMA_2019/osn_departure_ESSA_tracks_aroundTMA_2019_10_week2.csv\"\n",
    "temp2_df = pd.read_csv(filename, sep=' ',\n",
    "    names = ['flightId', 'sequence', 'destination', 'beginDate', 'callsign', 'icao24', 'timestamp', 'lat', 'lon', 'baroAltitude'])\n",
    "temp2_df.set_index(['flightId', 'sequence'], inplace = True)\n",
    "\n",
    "filename = \"../Data/ESSA/2019/osn_ESSA_tracks_aroundTMA_2019/osn_departure_ESSA_tracks_aroundTMA_2019_10_week3.csv\"\n",
    "temp3_df = pd.read_csv(filename, sep=' ',\n",
    "    names = ['flightId', 'sequence', 'destination', 'beginDate', 'callsign', 'icao24', 'timestamp', 'lat', 'lon', 'baroAltitude'])\n",
    "temp3_df.set_index(['flightId', 'sequence'], inplace = True)\n",
    "\n",
    "filename = \"../Data/ESSA/2019/osn_ESSA_tracks_aroundTMA_2019/osn_departure_ESSA_tracks_aroundTMA_2019_10_week4.csv\"\n",
    "temp4_df = pd.read_csv(filename, sep=' ',\n",
    "    names = ['flightId', 'sequence', 'destination', 'beginDate', 'callsign', 'icao24', 'timestamp', 'lat', 'lon', 'baroAltitude'])\n",
    "temp4_df.set_index(['flightId', 'sequence'], inplace = True)\n",
    "\n",
    "filename = \"../Data/ESSA/2019/osn_ESSA_tracks_aroundTMA_2019/osn_departure_ESSA_tracks_aroundTMA_2019_10_week5.csv\"\n",
    "temp5_df = pd.read_csv(filename, sep=' ',\n",
    "    names = ['flightId', 'sequence', 'destination', 'beginDate', 'callsign', 'icao24', 'timestamp', 'lat', 'lon', 'baroAltitude'])\n",
    "temp5_df.set_index(['flightId', 'sequence'], inplace = True)"
   ]
  },
  {
   "cell_type": "code",
   "execution_count": 21,
   "metadata": {},
   "outputs": [
    {
     "name": "stdout",
     "output_type": "stream",
     "text": [
      "9625\n"
     ]
    }
   ],
   "source": [
    "len1 = len(temp1_df.groupby(level='flightId'))\n",
    "len2 = len(temp2_df.groupby(level='flightId'))\n",
    "len3 = len(temp3_df.groupby(level='flightId'))\n",
    "len4 = len(temp4_df.groupby(level='flightId'))\n",
    "len5 = len(temp5_df.groupby(level='flightId'))\n",
    "print(len1+len2+len3+len4+len5) #8604"
   ]
  },
  {
   "cell_type": "code",
   "execution_count": 22,
   "metadata": {},
   "outputs": [],
   "source": [
    "filename = \"../Data/ESSA/2019/osn_ESSA_tracks_aroundTMA_2019/osn_departure_ESSA_tracks_aroundTMA_2019_11_week1.csv\"\n",
    "temp1_df = pd.read_csv(filename, sep=' ',\n",
    "    names = ['flightId', 'sequence', 'destination', 'beginDate', 'callsign', 'icao24', 'timestamp', 'lat', 'lon', 'baroAltitude'])\n",
    "temp1_df.set_index(['flightId', 'sequence'], inplace = True)\n",
    "\n",
    "filename = \"../Data/ESSA/2019/osn_ESSA_tracks_aroundTMA_2019/osn_departure_ESSA_tracks_aroundTMA_2019_11_week2.csv\"\n",
    "temp2_df = pd.read_csv(filename, sep=' ',\n",
    "    names = ['flightId', 'sequence', 'destination', 'beginDate', 'callsign', 'icao24', 'timestamp', 'lat', 'lon', 'baroAltitude'])\n",
    "temp2_df.set_index(['flightId', 'sequence'], inplace = True)\n",
    "\n",
    "filename = \"../Data/ESSA/2019/osn_ESSA_tracks_aroundTMA_2019/osn_departure_ESSA_tracks_aroundTMA_2019_11_week3.csv\"\n",
    "temp3_df = pd.read_csv(filename, sep=' ',\n",
    "    names = ['flightId', 'sequence', 'destination', 'beginDate', 'callsign', 'icao24', 'timestamp', 'lat', 'lon', 'baroAltitude'])\n",
    "temp3_df.set_index(['flightId', 'sequence'], inplace = True)\n",
    "\n",
    "filename = \"../Data/ESSA/2019/osn_ESSA_tracks_aroundTMA_2019/osn_departure_ESSA_tracks_aroundTMA_2019_11_week4.csv\"\n",
    "temp4_df = pd.read_csv(filename, sep=' ',\n",
    "    names = ['flightId', 'sequence', 'destination', 'beginDate', 'callsign', 'icao24', 'timestamp', 'lat', 'lon', 'baroAltitude'])\n",
    "temp4_df.set_index(['flightId', 'sequence'], inplace = True)\n",
    "\n",
    "filename = \"../Data/ESSA/2019/osn_ESSA_tracks_aroundTMA_2019/osn_departure_ESSA_tracks_aroundTMA_2019_11_week5.csv\"\n",
    "temp5_df = pd.read_csv(filename, sep=' ',\n",
    "    names = ['flightId', 'sequence', 'destination', 'beginDate', 'callsign', 'icao24', 'timestamp', 'lat', 'lon', 'baroAltitude'])\n",
    "temp5_df.set_index(['flightId', 'sequence'], inplace = True)"
   ]
  },
  {
   "cell_type": "code",
   "execution_count": 23,
   "metadata": {},
   "outputs": [
    {
     "name": "stdout",
     "output_type": "stream",
     "text": [
      "8304\n"
     ]
    }
   ],
   "source": [
    "len1 = len(temp1_df.groupby(level='flightId'))\n",
    "len2 = len(temp2_df.groupby(level='flightId'))\n",
    "len3 = len(temp3_df.groupby(level='flightId'))\n",
    "len4 = len(temp4_df.groupby(level='flightId'))\n",
    "len5 = len(temp5_df.groupby(level='flightId'))\n",
    "print(len1+len2+len3+len4+len5) #8278"
   ]
  },
  {
   "cell_type": "code",
   "execution_count": 24,
   "metadata": {},
   "outputs": [],
   "source": [
    "filename = \"../Data/ESSA/2019/osn_ESSA_tracks_aroundTMA_2019/osn_departure_ESSA_tracks_aroundTMA_2019_12_week1.csv\"\n",
    "temp1_df = pd.read_csv(filename, sep=' ',\n",
    "    names = ['flightId', 'sequence', 'destination', 'beginDate', 'callsign', 'icao24', 'timestamp', 'lat', 'lon', 'baroAltitude'])\n",
    "temp1_df.set_index(['flightId', 'sequence'], inplace = True)\n",
    "\n",
    "filename = \"../Data/ESSA/2019/osn_ESSA_tracks_aroundTMA_2019/osn_departure_ESSA_tracks_aroundTMA_2019_12_week2.csv\"\n",
    "temp2_df = pd.read_csv(filename, sep=' ',\n",
    "    names = ['flightId', 'sequence', 'destination', 'beginDate', 'callsign', 'icao24', 'timestamp', 'lat', 'lon', 'baroAltitude'])\n",
    "temp2_df.set_index(['flightId', 'sequence'], inplace = True)\n",
    "\n",
    "filename = \"../Data/ESSA/2019/osn_ESSA_tracks_aroundTMA_2019/osn_departure_ESSA_tracks_aroundTMA_2019_12_week3.csv\"\n",
    "temp3_df = pd.read_csv(filename, sep=' ',\n",
    "    names = ['flightId', 'sequence', 'destination', 'beginDate', 'callsign', 'icao24', 'timestamp', 'lat', 'lon', 'baroAltitude'])\n",
    "temp3_df.set_index(['flightId', 'sequence'], inplace = True)\n",
    "\n",
    "filename = \"../Data/ESSA/2019/osn_ESSA_tracks_aroundTMA_2019/osn_departure_ESSA_tracks_aroundTMA_2019_12_week4.csv\"\n",
    "temp4_df = pd.read_csv(filename, sep=' ',\n",
    "    names = ['flightId', 'sequence', 'destination', 'beginDate', 'callsign', 'icao24', 'timestamp', 'lat', 'lon', 'baroAltitude'])\n",
    "temp4_df.set_index(['flightId', 'sequence'], inplace = True)\n",
    "\n",
    "filename = \"../Data/ESSA/2019/osn_ESSA_tracks_aroundTMA_2019/osn_departure_ESSA_tracks_aroundTMA_2019_12_week5.csv\"\n",
    "temp5_df = pd.read_csv(filename, sep=' ',\n",
    "    names = ['flightId', 'sequence', 'destination', 'beginDate', 'callsign', 'icao24', 'timestamp', 'lat', 'lon', 'baroAltitude'])\n",
    "temp5_df.set_index(['flightId', 'sequence'], inplace = True)"
   ]
  },
  {
   "cell_type": "code",
   "execution_count": 25,
   "metadata": {},
   "outputs": [
    {
     "name": "stdout",
     "output_type": "stream",
     "text": [
      "7354\n"
     ]
    }
   ],
   "source": [
    "len1 = len(temp1_df.groupby(level='flightId'))\n",
    "len2 = len(temp2_df.groupby(level='flightId'))\n",
    "len3 = len(temp3_df.groupby(level='flightId'))\n",
    "len4 = len(temp4_df.groupby(level='flightId'))\n",
    "len5 = len(temp5_df.groupby(level='flightId'))\n",
    "print(len1+len2+len3+len4+len5) #7409"
   ]
  },
  {
   "cell_type": "code",
   "execution_count": 26,
   "metadata": {},
   "outputs": [],
   "source": [
    "filename = \"../Data/ESSA/2020/osn_ESSA_tracks_aroundTMA_2020/osn_departure_ESSA_tracks_aroundTMA_2020_01_week1.csv\"\n",
    "temp1_df = pd.read_csv(filename, sep=' ',\n",
    "    names = ['flightId', 'sequence', 'destination', 'beginDate', 'callsign', 'icao24', 'timestamp', 'lat', 'lon', 'baroAltitude'])\n",
    "temp1_df.set_index(['flightId', 'sequence'], inplace = True)\n",
    "\n",
    "filename = \"../Data/ESSA/2020/osn_ESSA_tracks_aroundTMA_2020/osn_departure_ESSA_tracks_aroundTMA_2020_01_week2.csv\"\n",
    "temp2_df = pd.read_csv(filename, sep=' ',\n",
    "    names = ['flightId', 'sequence', 'destination', 'beginDate', 'callsign', 'icao24', 'timestamp', 'lat', 'lon', 'baroAltitude'])\n",
    "temp2_df.set_index(['flightId', 'sequence'], inplace = True)\n",
    "\n",
    "filename = \"../Data/ESSA/2020/osn_ESSA_tracks_aroundTMA_2020/osn_departure_ESSA_tracks_aroundTMA_2020_01_week3.csv\"\n",
    "temp3_df = pd.read_csv(filename, sep=' ',\n",
    "    names = ['flightId', 'sequence', 'destination', 'beginDate', 'callsign', 'icao24', 'timestamp', 'lat', 'lon', 'baroAltitude'])\n",
    "temp3_df.set_index(['flightId', 'sequence'], inplace = True)\n",
    "\n",
    "filename = \"../Data/ESSA/2020/osn_ESSA_tracks_aroundTMA_2020/osn_departure_ESSA_tracks_aroundTMA_2020_01_week4.csv\"\n",
    "temp4_df = pd.read_csv(filename, sep=' ',\n",
    "    names = ['flightId', 'sequence', 'destination', 'beginDate', 'callsign', 'icao24', 'timestamp', 'lat', 'lon', 'baroAltitude'])\n",
    "temp4_df.set_index(['flightId', 'sequence'], inplace = True)\n",
    "\n",
    "filename = \"../Data/ESSA/2020/osn_ESSA_tracks_aroundTMA_2020/osn_departure_ESSA_tracks_aroundTMA_2020_01_week5.csv\"\n",
    "temp5_df = pd.read_csv(filename, sep=' ',\n",
    "    names = ['flightId', 'sequence', 'destination', 'beginDate', 'callsign', 'icao24', 'timestamp', 'lat', 'lon', 'baroAltitude'])\n",
    "temp5_df.set_index(['flightId', 'sequence'], inplace = True)"
   ]
  },
  {
   "cell_type": "code",
   "execution_count": 27,
   "metadata": {},
   "outputs": [
    {
     "name": "stdout",
     "output_type": "stream",
     "text": [
      "7534\n"
     ]
    }
   ],
   "source": [
    "len1 = len(temp1_df.groupby(level='flightId'))\n",
    "len2 = len(temp2_df.groupby(level='flightId'))\n",
    "len3 = len(temp3_df.groupby(level='flightId'))\n",
    "len4 = len(temp4_df.groupby(level='flightId'))\n",
    "len5 = len(temp5_df.groupby(level='flightId'))\n",
    "print(len1+len2+len3+len4+len5) #7534"
   ]
  },
  {
   "cell_type": "code",
   "execution_count": 28,
   "metadata": {},
   "outputs": [],
   "source": [
    "filename = \"../Data/ESSA/2020/osn_ESSA_tracks_aroundTMA_2020/osn_departure_ESSA_tracks_aroundTMA_2020_02_week1.csv\"\n",
    "temp1_df = pd.read_csv(filename, sep=' ',\n",
    "    names = ['flightId', 'sequence', 'destination', 'beginDate', 'callsign', 'icao24', 'timestamp', 'lat', 'lon', 'baroAltitude'])\n",
    "temp1_df.set_index(['flightId', 'sequence'], inplace = True)\n",
    "\n",
    "filename = \"../Data/ESSA/2020/osn_ESSA_tracks_aroundTMA_2020/osn_departure_ESSA_tracks_aroundTMA_2020_02_week2.csv\"\n",
    "temp2_df = pd.read_csv(filename, sep=' ',\n",
    "    names = ['flightId', 'sequence', 'destination', 'beginDate', 'callsign', 'icao24', 'timestamp', 'lat', 'lon', 'baroAltitude'])\n",
    "temp2_df.set_index(['flightId', 'sequence'], inplace = True)\n",
    "\n",
    "filename = \"../Data/ESSA/2020/osn_ESSA_tracks_aroundTMA_2020/osn_departure_ESSA_tracks_aroundTMA_2020_02_week3.csv\"\n",
    "temp3_df = pd.read_csv(filename, sep=' ',\n",
    "    names = ['flightId', 'sequence', 'destination', 'beginDate', 'callsign', 'icao24', 'timestamp', 'lat', 'lon', 'baroAltitude'])\n",
    "temp3_df.set_index(['flightId', 'sequence'], inplace = True)\n",
    "\n",
    "filename = \"../Data/ESSA/2020/osn_ESSA_tracks_aroundTMA_2020/osn_departure_ESSA_tracks_aroundTMA_2020_02_week4.csv\"\n",
    "temp4_df = pd.read_csv(filename, sep=' ',\n",
    "    names = ['flightId', 'sequence', 'destination', 'beginDate', 'callsign', 'icao24', 'timestamp', 'lat', 'lon', 'baroAltitude'])\n",
    "temp4_df.set_index(['flightId', 'sequence'], inplace = True)\n",
    "\n",
    "filename = \"../Data/ESSA/2020/osn_ESSA_tracks_aroundTMA_2020/osn_departure_ESSA_tracks_aroundTMA_2020_02_week5.csv\"\n",
    "temp5_df = pd.read_csv(filename, sep=' ',\n",
    "    names = ['flightId', 'sequence', 'destination', 'beginDate', 'callsign', 'icao24', 'timestamp', 'lat', 'lon', 'baroAltitude'])\n",
    "temp5_df.set_index(['flightId', 'sequence'], inplace = True)"
   ]
  },
  {
   "cell_type": "code",
   "execution_count": 29,
   "metadata": {},
   "outputs": [
    {
     "name": "stdout",
     "output_type": "stream",
     "text": [
      "7496\n"
     ]
    }
   ],
   "source": [
    "len1 = len(temp1_df.groupby(level='flightId'))\n",
    "len2 = len(temp2_df.groupby(level='flightId'))\n",
    "len3 = len(temp3_df.groupby(level='flightId'))\n",
    "len4 = len(temp4_df.groupby(level='flightId'))\n",
    "len5 = len(temp5_df.groupby(level='flightId'))\n",
    "print(len1+len2+len3+len4+len5) #7496"
   ]
  },
  {
   "cell_type": "code",
   "execution_count": 30,
   "metadata": {},
   "outputs": [],
   "source": [
    "filename = \"../Data/ESSA/2020/osn_ESSA_tracks_aroundTMA_2020/osn_departure_ESSA_tracks_aroundTMA_2020_03_week1.csv\"\n",
    "temp1_df = pd.read_csv(filename, sep=' ',\n",
    "    names = ['flightId', 'sequence', 'destination', 'beginDate', 'callsign', 'icao24', 'timestamp', 'lat', 'lon', 'baroAltitude'])\n",
    "temp1_df.set_index(['flightId', 'sequence'], inplace = True)\n",
    "\n",
    "filename = \"../Data/ESSA/2020/osn_ESSA_tracks_aroundTMA_2020/osn_departure_ESSA_tracks_aroundTMA_2020_03_week2.csv\"\n",
    "temp2_df = pd.read_csv(filename, sep=' ',\n",
    "    names = ['flightId', 'sequence', 'destination', 'beginDate', 'callsign', 'icao24', 'timestamp', 'lat', 'lon', 'baroAltitude'])\n",
    "temp2_df.set_index(['flightId', 'sequence'], inplace = True)\n",
    "\n",
    "filename = \"../Data/ESSA/2020/osn_ESSA_tracks_aroundTMA_2020/osn_departure_ESSA_tracks_aroundTMA_2020_03_week3.csv\"\n",
    "temp3_df = pd.read_csv(filename, sep=' ',\n",
    "    names = ['flightId', 'sequence', 'destination', 'beginDate', 'callsign', 'icao24', 'timestamp', 'lat', 'lon', 'baroAltitude'])\n",
    "temp3_df.set_index(['flightId', 'sequence'], inplace = True)\n",
    "\n",
    "filename = \"../Data/ESSA/2020/osn_ESSA_tracks_aroundTMA_2020/osn_departure_ESSA_tracks_aroundTMA_2020_03_week4.csv\"\n",
    "temp4_df = pd.read_csv(filename, sep=' ',\n",
    "    names = ['flightId', 'sequence', 'destination', 'beginDate', 'callsign', 'icao24', 'timestamp', 'lat', 'lon', 'baroAltitude'])\n",
    "temp4_df.set_index(['flightId', 'sequence'], inplace = True)\n",
    "\n",
    "filename = \"../Data/ESSA/2020/osn_ESSA_tracks_aroundTMA_2020/osn_departure_ESSA_tracks_aroundTMA_2020_03_week5.csv\"\n",
    "temp5_df = pd.read_csv(filename, sep=' ',\n",
    "    names = ['flightId', 'sequence', 'destination', 'beginDate', 'callsign', 'icao24', 'timestamp', 'lat', 'lon', 'baroAltitude'])\n",
    "temp5_df.set_index(['flightId', 'sequence'], inplace = True)"
   ]
  },
  {
   "cell_type": "code",
   "execution_count": 31,
   "metadata": {},
   "outputs": [
    {
     "name": "stdout",
     "output_type": "stream",
     "text": [
      "5456\n"
     ]
    }
   ],
   "source": [
    "len1 = len(temp1_df.groupby(level='flightId'))\n",
    "len2 = len(temp2_df.groupby(level='flightId'))\n",
    "len3 = len(temp3_df.groupby(level='flightId'))\n",
    "len4 = len(temp4_df.groupby(level='flightId'))\n",
    "len5 = len(temp5_df.groupby(level='flightId'))\n",
    "print(len1+len2+len3+len4+len5) #5456"
   ]
  },
  {
   "cell_type": "code",
   "execution_count": 32,
   "metadata": {},
   "outputs": [],
   "source": [
    "filename = \"../Data/ESSA/2020/osn_ESSA_tracks_aroundTMA_2020/osn_departure_ESSA_tracks_aroundTMA_2020_04_week1.csv\"\n",
    "temp1_df = pd.read_csv(filename, sep=' ',\n",
    "    names = ['flightId', 'sequence', 'destination', 'beginDate', 'callsign', 'icao24', 'timestamp', 'lat', 'lon', 'baroAltitude'])\n",
    "temp1_df.set_index(['flightId', 'sequence'], inplace = True)\n",
    "\n",
    "filename = \"../Data/ESSA/2020/osn_ESSA_tracks_aroundTMA_2020/osn_departure_ESSA_tracks_aroundTMA_2020_04_week2.csv\"\n",
    "temp2_df = pd.read_csv(filename, sep=' ',\n",
    "    names = ['flightId', 'sequence', 'destination', 'beginDate', 'callsign', 'icao24', 'timestamp', 'lat', 'lon', 'baroAltitude'])\n",
    "temp2_df.set_index(['flightId', 'sequence'], inplace = True)\n",
    "\n",
    "filename = \"../Data/ESSA/2020/osn_ESSA_tracks_aroundTMA_2020/osn_departure_ESSA_tracks_aroundTMA_2020_04_week3.csv\"\n",
    "temp3_df = pd.read_csv(filename, sep=' ',\n",
    "    names = ['flightId', 'sequence', 'destination', 'beginDate', 'callsign', 'icao24', 'timestamp', 'lat', 'lon', 'baroAltitude'])\n",
    "temp3_df.set_index(['flightId', 'sequence'], inplace = True)\n",
    "\n",
    "filename = \"../Data/ESSA/2020/osn_ESSA_tracks_aroundTMA_2020/osn_departure_ESSA_tracks_aroundTMA_2020_04_week4.csv\"\n",
    "temp4_df = pd.read_csv(filename, sep=' ',\n",
    "    names = ['flightId', 'sequence', 'destination', 'beginDate', 'callsign', 'icao24', 'timestamp', 'lat', 'lon', 'baroAltitude'])\n",
    "temp4_df.set_index(['flightId', 'sequence'], inplace = True)\n",
    "\n",
    "filename = \"../Data/ESSA/2020/osn_ESSA_tracks_aroundTMA_2020/osn_departure_ESSA_tracks_aroundTMA_2020_04_week5.csv\"\n",
    "temp5_df = pd.read_csv(filename, sep=' ',\n",
    "    names = ['flightId', 'sequence', 'destination', 'beginDate', 'callsign', 'icao24', 'timestamp', 'lat', 'lon', 'baroAltitude'])\n",
    "temp5_df.set_index(['flightId', 'sequence'], inplace = True)"
   ]
  },
  {
   "cell_type": "code",
   "execution_count": 33,
   "metadata": {},
   "outputs": [
    {
     "name": "stdout",
     "output_type": "stream",
     "text": [
      "766\n"
     ]
    }
   ],
   "source": [
    "len1 = len(temp1_df.groupby(level='flightId'))\n",
    "len2 = len(temp2_df.groupby(level='flightId'))\n",
    "len3 = len(temp3_df.groupby(level='flightId'))\n",
    "len4 = len(temp4_df.groupby(level='flightId'))\n",
    "len5 = len(temp5_df.groupby(level='flightId'))\n",
    "print(len1+len2+len3+len4+len5) #766"
   ]
  },
  {
   "cell_type": "code",
   "execution_count": 34,
   "metadata": {},
   "outputs": [],
   "source": [
    "filename = \"../Data/ESSA/2020/osn_ESSA_tracks_aroundTMA_2020/osn_departure_ESSA_tracks_aroundTMA_2020_05_week1.csv\"\n",
    "temp1_df = pd.read_csv(filename, sep=' ',\n",
    "    names = ['flightId', 'sequence', 'destination', 'beginDate', 'callsign', 'icao24', 'timestamp', 'lat', 'lon', 'baroAltitude'])\n",
    "temp1_df.set_index(['flightId', 'sequence'], inplace = True)\n",
    "\n",
    "filename = \"../Data/ESSA/2020/osn_ESSA_tracks_aroundTMA_2020/osn_departure_ESSA_tracks_aroundTMA_2020_05_week2.csv\"\n",
    "temp2_df = pd.read_csv(filename, sep=' ',\n",
    "    names = ['flightId', 'sequence', 'destination', 'beginDate', 'callsign', 'icao24', 'timestamp', 'lat', 'lon', 'baroAltitude'])\n",
    "temp2_df.set_index(['flightId', 'sequence'], inplace = True)\n",
    "\n",
    "filename = \"../Data/ESSA/2020/osn_ESSA_tracks_aroundTMA_2020/osn_departure_ESSA_tracks_aroundTMA_2020_05_week3.csv\"\n",
    "temp3_df = pd.read_csv(filename, sep=' ',\n",
    "    names = ['flightId', 'sequence', 'destination', 'beginDate', 'callsign', 'icao24', 'timestamp', 'lat', 'lon', 'baroAltitude'])\n",
    "temp3_df.set_index(['flightId', 'sequence'], inplace = True)\n",
    "\n",
    "filename = \"../Data/ESSA/2020/osn_ESSA_tracks_aroundTMA_2020/osn_departure_ESSA_tracks_aroundTMA_2020_05_week4.csv\"\n",
    "temp4_df = pd.read_csv(filename, sep=' ',\n",
    "    names = ['flightId', 'sequence', 'destination', 'beginDate', 'callsign', 'icao24', 'timestamp', 'lat', 'lon', 'baroAltitude'])\n",
    "temp4_df.set_index(['flightId', 'sequence'], inplace = True)\n",
    "\n",
    "filename = \"../Data/ESSA/2020/osn_ESSA_tracks_aroundTMA_2020/osn_departure_ESSA_tracks_aroundTMA_2020_05_week5.csv\"\n",
    "temp5_df = pd.read_csv(filename, sep=' ',\n",
    "    names = ['flightId', 'sequence', 'destination', 'beginDate', 'callsign', 'icao24', 'timestamp', 'lat', 'lon', 'baroAltitude'])\n",
    "temp5_df.set_index(['flightId', 'sequence'], inplace = True)"
   ]
  },
  {
   "cell_type": "code",
   "execution_count": 35,
   "metadata": {},
   "outputs": [
    {
     "name": "stdout",
     "output_type": "stream",
     "text": [
      "818\n"
     ]
    }
   ],
   "source": [
    "len1 = len(temp1_df.groupby(level='flightId'))\n",
    "len2 = len(temp2_df.groupby(level='flightId'))\n",
    "len3 = len(temp3_df.groupby(level='flightId'))\n",
    "len4 = len(temp4_df.groupby(level='flightId'))\n",
    "len5 = len(temp5_df.groupby(level='flightId'))\n",
    "print(len1+len2+len3+len4+len5) #818"
   ]
  },
  {
   "cell_type": "code",
   "execution_count": 36,
   "metadata": {},
   "outputs": [],
   "source": [
    "filename = \"../Data/ESSA/2020/osn_ESSA_tracks_aroundTMA_2020/osn_departure_ESSA_tracks_aroundTMA_2020_06_week1.csv\"\n",
    "temp1_df = pd.read_csv(filename, sep=' ',\n",
    "    names = ['flightId', 'sequence', 'destination', 'beginDate', 'callsign', 'icao24', 'timestamp', 'lat', 'lon', 'baroAltitude'])\n",
    "temp1_df.set_index(['flightId', 'sequence'], inplace = True)\n",
    "\n",
    "filename = \"../Data/ESSA/2020/osn_ESSA_tracks_aroundTMA_2020/osn_departure_ESSA_tracks_aroundTMA_2020_06_week2.csv\"\n",
    "temp2_df = pd.read_csv(filename, sep=' ',\n",
    "    names = ['flightId', 'sequence', 'destination', 'beginDate', 'callsign', 'icao24', 'timestamp', 'lat', 'lon', 'baroAltitude'])\n",
    "temp2_df.set_index(['flightId', 'sequence'], inplace = True)\n",
    "\n",
    "filename = \"../Data/ESSA/2020/osn_ESSA_tracks_aroundTMA_2020/osn_departure_ESSA_tracks_aroundTMA_2020_06_week3.csv\"\n",
    "temp3_df = pd.read_csv(filename, sep=' ',\n",
    "    names = ['flightId', 'sequence', 'destination', 'beginDate', 'callsign', 'icao24', 'timestamp', 'lat', 'lon', 'baroAltitude'])\n",
    "temp3_df.set_index(['flightId', 'sequence'], inplace = True)\n",
    "\n",
    "filename = \"../Data/ESSA/2020/osn_ESSA_tracks_aroundTMA_2020/osn_departure_ESSA_tracks_aroundTMA_2020_06_week4.csv\"\n",
    "temp4_df = pd.read_csv(filename, sep=' ',\n",
    "    names = ['flightId', 'sequence', 'destination', 'beginDate', 'callsign', 'icao24', 'timestamp', 'lat', 'lon', 'baroAltitude'])\n",
    "temp4_df.set_index(['flightId', 'sequence'], inplace = True)\n",
    "\n",
    "filename = \"../Data/ESSA/2020/osn_ESSA_tracks_aroundTMA_2020/osn_departure_ESSA_tracks_aroundTMA_2020_06_week5.csv\"\n",
    "temp5_df = pd.read_csv(filename, sep=' ',\n",
    "    names = ['flightId', 'sequence', 'destination', 'beginDate', 'callsign', 'icao24', 'timestamp', 'lat', 'lon', 'baroAltitude'])\n",
    "temp5_df.set_index(['flightId', 'sequence'], inplace = True)"
   ]
  },
  {
   "cell_type": "code",
   "execution_count": 37,
   "metadata": {},
   "outputs": [
    {
     "name": "stdout",
     "output_type": "stream",
     "text": [
      "1079\n"
     ]
    }
   ],
   "source": [
    "len1 = len(temp1_df.groupby(level='flightId'))\n",
    "len2 = len(temp2_df.groupby(level='flightId'))\n",
    "len3 = len(temp3_df.groupby(level='flightId'))\n",
    "len4 = len(temp4_df.groupby(level='flightId'))\n",
    "len5 = len(temp5_df.groupby(level='flightId'))\n",
    "print(len1+len2+len3+len4+len5) #1079"
   ]
  },
  {
   "cell_type": "code",
   "execution_count": 38,
   "metadata": {},
   "outputs": [],
   "source": [
    "filename = \"../Data/ESSA/2020/osn_ESSA_tracks_aroundTMA_2020/osn_departure_ESSA_tracks_aroundTMA_2020_07_week1.csv\"\n",
    "temp1_df = pd.read_csv(filename, sep=' ',\n",
    "    names = ['flightId', 'sequence', 'destination', 'beginDate', 'callsign', 'icao24', 'timestamp', 'lat', 'lon', 'baroAltitude'])\n",
    "temp1_df.set_index(['flightId', 'sequence'], inplace = True)\n",
    "\n",
    "filename = \"../Data/ESSA/2020/osn_ESSA_tracks_aroundTMA_2020/osn_departure_ESSA_tracks_aroundTMA_2020_07_week2.csv\"\n",
    "temp2_df = pd.read_csv(filename, sep=' ',\n",
    "    names = ['flightId', 'sequence', 'destination', 'beginDate', 'callsign', 'icao24', 'timestamp', 'lat', 'lon', 'baroAltitude'])\n",
    "temp2_df.set_index(['flightId', 'sequence'], inplace = True)\n",
    "\n",
    "filename = \"../Data/ESSA/2020/osn_ESSA_tracks_aroundTMA_2020/osn_departure_ESSA_tracks_aroundTMA_2020_07_week3.csv\"\n",
    "temp3_df = pd.read_csv(filename, sep=' ',\n",
    "    names = ['flightId', 'sequence', 'destination', 'beginDate', 'callsign', 'icao24', 'timestamp', 'lat', 'lon', 'baroAltitude'])\n",
    "temp3_df.set_index(['flightId', 'sequence'], inplace = True)\n",
    "\n",
    "filename = \"../Data/ESSA/2020/osn_ESSA_tracks_aroundTMA_2020/osn_departure_ESSA_tracks_aroundTMA_2020_07_week4.csv\"\n",
    "temp4_df = pd.read_csv(filename, sep=' ',\n",
    "    names = ['flightId', 'sequence', 'destination', 'beginDate', 'callsign', 'icao24', 'timestamp', 'lat', 'lon', 'baroAltitude'])\n",
    "temp4_df.set_index(['flightId', 'sequence'], inplace = True)\n",
    "\n",
    "filename = \"../Data/ESSA/2020/osn_ESSA_tracks_aroundTMA_2020/osn_departure_ESSA_tracks_aroundTMA_2020_07_week5.csv\"\n",
    "temp5_df = pd.read_csv(filename, sep=' ',\n",
    "    names = ['flightId', 'sequence', 'destination', 'beginDate', 'callsign', 'icao24', 'timestamp', 'lat', 'lon', 'baroAltitude'])\n",
    "temp5_df.set_index(['flightId', 'sequence'], inplace = True)"
   ]
  },
  {
   "cell_type": "code",
   "execution_count": 39,
   "metadata": {},
   "outputs": [
    {
     "name": "stdout",
     "output_type": "stream",
     "text": [
      "2125\n"
     ]
    }
   ],
   "source": [
    "len1 = len(temp1_df.groupby(level='flightId'))\n",
    "len2 = len(temp2_df.groupby(level='flightId'))\n",
    "len3 = len(temp3_df.groupby(level='flightId'))\n",
    "len4 = len(temp4_df.groupby(level='flightId'))\n",
    "len5 = len(temp5_df.groupby(level='flightId'))\n",
    "print(len1+len2+len3+len4+len5) #2125"
   ]
  },
  {
   "cell_type": "code",
   "execution_count": 40,
   "metadata": {},
   "outputs": [],
   "source": [
    "filename = \"../Data/ESSA/2020/osn_ESSA_tracks_aroundTMA_2020/osn_departure_ESSA_tracks_aroundTMA_2020_08_week1.csv\"\n",
    "temp1_df = pd.read_csv(filename, sep=' ',\n",
    "    names = ['flightId', 'sequence', 'destination', 'beginDate', 'callsign', 'icao24', 'timestamp', 'lat', 'lon', 'baroAltitude'])\n",
    "temp1_df.set_index(['flightId', 'sequence'], inplace = True)\n",
    "\n",
    "filename = \"../Data/ESSA/2020/osn_ESSA_tracks_aroundTMA_2020/osn_departure_ESSA_tracks_aroundTMA_2020_08_week2.csv\"\n",
    "temp2_df = pd.read_csv(filename, sep=' ',\n",
    "    names = ['flightId', 'sequence', 'destination', 'beginDate', 'callsign', 'icao24', 'timestamp', 'lat', 'lon', 'baroAltitude'])\n",
    "temp2_df.set_index(['flightId', 'sequence'], inplace = True)\n",
    "\n",
    "filename = \"../Data/ESSA/2020/osn_ESSA_tracks_aroundTMA_2020/osn_departure_ESSA_tracks_aroundTMA_2020_08_week3.csv\"\n",
    "temp3_df = pd.read_csv(filename, sep=' ',\n",
    "    names = ['flightId', 'sequence', 'destination', 'beginDate', 'callsign', 'icao24', 'timestamp', 'lat', 'lon', 'baroAltitude'])\n",
    "temp3_df.set_index(['flightId', 'sequence'], inplace = True)\n",
    "\n",
    "filename = \"../Data/ESSA/2020/osn_ESSA_tracks_aroundTMA_2020/osn_departure_ESSA_tracks_aroundTMA_2020_08_week4.csv\"\n",
    "temp4_df = pd.read_csv(filename, sep=' ',\n",
    "    names = ['flightId', 'sequence', 'destination', 'beginDate', 'callsign', 'icao24', 'timestamp', 'lat', 'lon', 'baroAltitude'])\n",
    "temp4_df.set_index(['flightId', 'sequence'], inplace = True)\n",
    "\n",
    "filename = \"../Data/ESSA/2020/osn_ESSA_tracks_aroundTMA_2020/osn_departure_ESSA_tracks_aroundTMA_2020_08_week5.csv\"\n",
    "temp5_df = pd.read_csv(filename, sep=' ',\n",
    "    names = ['flightId', 'sequence', 'destination', 'beginDate', 'callsign', 'icao24', 'timestamp', 'lat', 'lon', 'baroAltitude'])\n",
    "temp5_df.set_index(['flightId', 'sequence'], inplace = True)"
   ]
  },
  {
   "cell_type": "code",
   "execution_count": 41,
   "metadata": {},
   "outputs": [
    {
     "name": "stdout",
     "output_type": "stream",
     "text": [
      "2531\n"
     ]
    }
   ],
   "source": [
    "len1 = len(temp1_df.groupby(level='flightId'))\n",
    "len2 = len(temp2_df.groupby(level='flightId'))\n",
    "len3 = len(temp3_df.groupby(level='flightId'))\n",
    "len4 = len(temp4_df.groupby(level='flightId'))\n",
    "len5 = len(temp5_df.groupby(level='flightId'))\n",
    "print(len1+len2+len3+len4+len5) #2531"
   ]
  },
  {
   "cell_type": "code",
   "execution_count": 42,
   "metadata": {},
   "outputs": [],
   "source": [
    "filename = \"../Data/ESSA/2020/osn_ESSA_tracks_aroundTMA_2020/osn_departure_ESSA_tracks_aroundTMA_2020_09_week1.csv\"\n",
    "temp1_df = pd.read_csv(filename, sep=' ',\n",
    "    names = ['flightId', 'sequence', 'destination', 'beginDate', 'callsign', 'icao24', 'timestamp', 'lat', 'lon', 'baroAltitude'])\n",
    "temp1_df.set_index(['flightId', 'sequence'], inplace = True)\n",
    "\n",
    "filename = \"../Data/ESSA/2020/osn_ESSA_tracks_aroundTMA_2020/osn_departure_ESSA_tracks_aroundTMA_2020_09_week2.csv\"\n",
    "temp2_df = pd.read_csv(filename, sep=' ',\n",
    "    names = ['flightId', 'sequence', 'destination', 'beginDate', 'callsign', 'icao24', 'timestamp', 'lat', 'lon', 'baroAltitude'])\n",
    "temp2_df.set_index(['flightId', 'sequence'], inplace = True)\n",
    "\n",
    "filename = \"../Data/ESSA/2020/osn_ESSA_tracks_aroundTMA_2020/osn_departure_ESSA_tracks_aroundTMA_2020_09_week3.csv\"\n",
    "temp3_df = pd.read_csv(filename, sep=' ',\n",
    "    names = ['flightId', 'sequence', 'destination', 'beginDate', 'callsign', 'icao24', 'timestamp', 'lat', 'lon', 'baroAltitude'])\n",
    "temp3_df.set_index(['flightId', 'sequence'], inplace = True)\n",
    "\n",
    "filename = \"../Data/ESSA/2020/osn_ESSA_tracks_aroundTMA_2020/osn_departure_ESSA_tracks_aroundTMA_2020_09_week4.csv\"\n",
    "temp4_df = pd.read_csv(filename, sep=' ',\n",
    "    names = ['flightId', 'sequence', 'destination', 'beginDate', 'callsign', 'icao24', 'timestamp', 'lat', 'lon', 'baroAltitude'])\n",
    "temp4_df.set_index(['flightId', 'sequence'], inplace = True)\n",
    "\n",
    "filename = \"../Data/ESSA/2020/osn_ESSA_tracks_aroundTMA_2020/osn_departure_ESSA_tracks_aroundTMA_2020_09_week5.csv\"\n",
    "temp5_df = pd.read_csv(filename, sep=' ',\n",
    "    names = ['flightId', 'sequence', 'destination', 'beginDate', 'callsign', 'icao24', 'timestamp', 'lat', 'lon', 'baroAltitude'])\n",
    "temp5_df.set_index(['flightId', 'sequence'], inplace = True)"
   ]
  },
  {
   "cell_type": "code",
   "execution_count": 43,
   "metadata": {},
   "outputs": [
    {
     "name": "stdout",
     "output_type": "stream",
     "text": [
      "2763\n"
     ]
    }
   ],
   "source": [
    "len1 = len(temp1_df.groupby(level='flightId'))\n",
    "len2 = len(temp2_df.groupby(level='flightId'))\n",
    "len3 = len(temp3_df.groupby(level='flightId'))\n",
    "len4 = len(temp4_df.groupby(level='flightId'))\n",
    "len5 = len(temp5_df.groupby(level='flightId'))\n",
    "print(len1+len2+len3+len4+len5) #2763"
   ]
  },
  {
   "cell_type": "code",
   "execution_count": 44,
   "metadata": {},
   "outputs": [],
   "source": [
    "filename = \"../Data/ESSA/2020/osn_ESSA_tracks_aroundTMA_2020/osn_departure_ESSA_tracks_aroundTMA_2020_10_week1.csv\"\n",
    "temp1_df = pd.read_csv(filename, sep=' ',\n",
    "    names = ['flightId', 'sequence', 'destination', 'beginDate', 'callsign', 'icao24', 'timestamp', 'lat', 'lon', 'baroAltitude'])\n",
    "temp1_df.set_index(['flightId', 'sequence'], inplace = True)\n",
    "\n",
    "filename = \"../Data/ESSA/2020/osn_ESSA_tracks_aroundTMA_2020/osn_departure_ESSA_tracks_aroundTMA_2020_10_week2.csv\"\n",
    "temp2_df = pd.read_csv(filename, sep=' ',\n",
    "    names = ['flightId', 'sequence', 'destination', 'beginDate', 'callsign', 'icao24', 'timestamp', 'lat', 'lon', 'baroAltitude'])\n",
    "temp2_df.set_index(['flightId', 'sequence'], inplace = True)\n",
    "\n",
    "filename = \"../Data/ESSA/2020/osn_ESSA_tracks_aroundTMA_2020/osn_departure_ESSA_tracks_aroundTMA_2020_10_week3.csv\"\n",
    "temp3_df = pd.read_csv(filename, sep=' ',\n",
    "    names = ['flightId', 'sequence', 'destination', 'beginDate', 'callsign', 'icao24', 'timestamp', 'lat', 'lon', 'baroAltitude'])\n",
    "temp3_df.set_index(['flightId', 'sequence'], inplace = True)\n",
    "\n",
    "filename = \"../Data/ESSA/2020/osn_ESSA_tracks_aroundTMA_2020/osn_departure_ESSA_tracks_aroundTMA_2020_10_week4.csv\"\n",
    "temp4_df = pd.read_csv(filename, sep=' ',\n",
    "    names = ['flightId', 'sequence', 'destination', 'beginDate', 'callsign', 'icao24', 'timestamp', 'lat', 'lon', 'baroAltitude'])\n",
    "temp4_df.set_index(['flightId', 'sequence'], inplace = True)\n",
    "\n",
    "filename = \"../Data/ESSA/2020/osn_ESSA_tracks_aroundTMA_2020/osn_departure_ESSA_tracks_aroundTMA_2020_10_week5.csv\"\n",
    "temp5_df = pd.read_csv(filename, sep=' ',\n",
    "    names = ['flightId', 'sequence', 'destination', 'beginDate', 'callsign', 'icao24', 'timestamp', 'lat', 'lon', 'baroAltitude'])\n",
    "temp5_df.set_index(['flightId', 'sequence'], inplace = True)"
   ]
  },
  {
   "cell_type": "code",
   "execution_count": 45,
   "metadata": {},
   "outputs": [
    {
     "name": "stdout",
     "output_type": "stream",
     "text": [
      "2870\n"
     ]
    }
   ],
   "source": [
    "len1 = len(temp1_df.groupby(level='flightId'))\n",
    "len2 = len(temp2_df.groupby(level='flightId'))\n",
    "len3 = len(temp3_df.groupby(level='flightId'))\n",
    "len4 = len(temp4_df.groupby(level='flightId'))\n",
    "len5 = len(temp5_df.groupby(level='flightId'))\n",
    "print(len1+len2+len3+len4+len5) #2870"
   ]
  },
  {
   "cell_type": "code",
   "execution_count": 46,
   "metadata": {},
   "outputs": [],
   "source": [
    "filename = \"../Data/ESSA/2020/osn_ESSA_tracks_aroundTMA_2020/osn_departure_ESSA_tracks_aroundTMA_2020_11_week1.csv\"\n",
    "temp1_df = pd.read_csv(filename, sep=' ',\n",
    "    names = ['flightId', 'sequence', 'destination', 'beginDate', 'callsign', 'icao24', 'timestamp', 'lat', 'lon', 'baroAltitude'])\n",
    "temp1_df.set_index(['flightId', 'sequence'], inplace = True)\n",
    "\n",
    "filename = \"../Data/ESSA/2020/osn_ESSA_tracks_aroundTMA_2020/osn_departure_ESSA_tracks_aroundTMA_2020_11_week2.csv\"\n",
    "temp2_df = pd.read_csv(filename, sep=' ',\n",
    "    names = ['flightId', 'sequence', 'destination', 'beginDate', 'callsign', 'icao24', 'timestamp', 'lat', 'lon', 'baroAltitude'])\n",
    "temp2_df.set_index(['flightId', 'sequence'], inplace = True)\n",
    "\n",
    "filename = \"../Data/ESSA/2020/osn_ESSA_tracks_aroundTMA_2020/osn_departure_ESSA_tracks_aroundTMA_2020_11_week3.csv\"\n",
    "temp3_df = pd.read_csv(filename, sep=' ',\n",
    "    names = ['flightId', 'sequence', 'destination', 'beginDate', 'callsign', 'icao24', 'timestamp', 'lat', 'lon', 'baroAltitude'])\n",
    "temp3_df.set_index(['flightId', 'sequence'], inplace = True)\n",
    "\n",
    "filename = \"../Data/ESSA/2020/osn_ESSA_tracks_aroundTMA_2020/osn_departure_ESSA_tracks_aroundTMA_2020_11_week4.csv\"\n",
    "temp4_df = pd.read_csv(filename, sep=' ',\n",
    "    names = ['flightId', 'sequence', 'destination', 'beginDate', 'callsign', 'icao24', 'timestamp', 'lat', 'lon', 'baroAltitude'])\n",
    "temp4_df.set_index(['flightId', 'sequence'], inplace = True)\n",
    "\n",
    "filename = \"../Data/ESSA/2020/osn_ESSA_tracks_aroundTMA_2020/osn_departure_ESSA_tracks_aroundTMA_2020_11_week5.csv\"\n",
    "temp5_df = pd.read_csv(filename, sep=' ',\n",
    "    names = ['flightId', 'sequence', 'destination', 'beginDate', 'callsign', 'icao24', 'timestamp', 'lat', 'lon', 'baroAltitude'])\n",
    "temp5_df.set_index(['flightId', 'sequence'], inplace = True)"
   ]
  },
  {
   "cell_type": "code",
   "execution_count": 47,
   "metadata": {},
   "outputs": [
    {
     "name": "stdout",
     "output_type": "stream",
     "text": [
      "2321\n"
     ]
    }
   ],
   "source": [
    "len1 = len(temp1_df.groupby(level='flightId'))\n",
    "len2 = len(temp2_df.groupby(level='flightId'))\n",
    "len3 = len(temp3_df.groupby(level='flightId'))\n",
    "len4 = len(temp4_df.groupby(level='flightId'))\n",
    "len5 = len(temp5_df.groupby(level='flightId'))\n",
    "print(len1+len2+len3+len4+len5) #2321"
   ]
  },
  {
   "cell_type": "code",
   "execution_count": 48,
   "metadata": {},
   "outputs": [],
   "source": [
    "filename = \"../Data/ESSA/2020/osn_ESSA_tracks_aroundTMA_2020/osn_departure_ESSA_tracks_aroundTMA_2020_12_week1.csv\"\n",
    "temp1_df = pd.read_csv(filename, sep=' ',\n",
    "    names = ['flightId', 'sequence', 'destination', 'beginDate', 'callsign', 'icao24', 'timestamp', 'lat', 'lon', 'baroAltitude'])\n",
    "temp1_df.set_index(['flightId', 'sequence'], inplace = True)\n",
    "\n",
    "filename = \"../Data/ESSA/2020/osn_ESSA_tracks_aroundTMA_2020/osn_departure_ESSA_tracks_aroundTMA_2020_12_week2.csv\"\n",
    "temp2_df = pd.read_csv(filename, sep=' ',\n",
    "    names = ['flightId', 'sequence', 'destination', 'beginDate', 'callsign', 'icao24', 'timestamp', 'lat', 'lon', 'baroAltitude'])\n",
    "temp2_df.set_index(['flightId', 'sequence'], inplace = True)\n",
    "\n",
    "filename = \"../Data/ESSA/2020/osn_ESSA_tracks_aroundTMA_2020/osn_departure_ESSA_tracks_aroundTMA_2020_12_week3.csv\"\n",
    "temp3_df = pd.read_csv(filename, sep=' ',\n",
    "    names = ['flightId', 'sequence', 'destination', 'beginDate', 'callsign', 'icao24', 'timestamp', 'lat', 'lon', 'baroAltitude'])\n",
    "temp3_df.set_index(['flightId', 'sequence'], inplace = True)\n",
    "\n",
    "filename = \"../Data/ESSA/2020/osn_ESSA_tracks_aroundTMA_2020/osn_departure_ESSA_tracks_aroundTMA_2020_12_week4.csv\"\n",
    "temp4_df = pd.read_csv(filename, sep=' ',\n",
    "    names = ['flightId', 'sequence', 'destination', 'beginDate', 'callsign', 'icao24', 'timestamp', 'lat', 'lon', 'baroAltitude'])\n",
    "temp4_df.set_index(['flightId', 'sequence'], inplace = True)\n",
    "\n",
    "filename = \"../Data/ESSA/2020/osn_ESSA_tracks_aroundTMA_2020/osn_departure_ESSA_tracks_aroundTMA_2020_12_week5.csv\"\n",
    "temp5_df = pd.read_csv(filename, sep=' ',\n",
    "    names = ['flightId', 'sequence', 'destination', 'beginDate', 'callsign', 'icao24', 'timestamp', 'lat', 'lon', 'baroAltitude'])\n",
    "temp5_df.set_index(['flightId', 'sequence'], inplace = True)"
   ]
  },
  {
   "cell_type": "code",
   "execution_count": 49,
   "metadata": {},
   "outputs": [
    {
     "name": "stdout",
     "output_type": "stream",
     "text": [
      "2145\n"
     ]
    }
   ],
   "source": [
    "len1 = len(temp1_df.groupby(level='flightId'))\n",
    "len2 = len(temp2_df.groupby(level='flightId'))\n",
    "len3 = len(temp3_df.groupby(level='flightId'))\n",
    "len4 = len(temp4_df.groupby(level='flightId'))\n",
    "len5 = len(temp5_df.groupby(level='flightId'))\n",
    "print(len1+len2+len3+len4+len5) #2145"
   ]
  }
 ],
 "metadata": {
  "kernelspec": {
   "display_name": "Python 3",
   "language": "python",
   "name": "python3"
  },
  "language_info": {
   "codemirror_mode": {
    "name": "ipython",
    "version": 3
   },
   "file_extension": ".py",
   "mimetype": "text/x-python",
   "name": "python",
   "nbconvert_exporter": "python",
   "pygments_lexer": "ipython3",
   "version": "3.8.8"
  }
 },
 "nbformat": 4,
 "nbformat_minor": 2
}
